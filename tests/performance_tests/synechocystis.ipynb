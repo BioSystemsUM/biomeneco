{
 "cells": [
  {
   "cell_type": "code",
   "execution_count": 4,
   "outputs": [
    {
     "name": "stderr",
     "output_type": "stream",
     "text": [
      "1148 does not conform to 'http(s)://identifiers.org/collection/id' or'http(s)://identifiers.org/COLLECTION:id\n",
      "Could not identify an external compartment by name and choosing one with the most boundary reactions. That might be complete nonsense or change suddenly. Consider renaming your compartments using `Model.compartments` to fix this.\n",
      "Could not identify an external compartment by name and choosing one with the most boundary reactions. That might be complete nonsense or change suddenly. Consider renaming your compartments using `Model.compartments` to fix this.\n"
     ]
    },
    {
     "data": {
      "text/plain": "[('C00032_in', 'C_in'),\n ('C00016_in', 'C_in'),\n ('C00378_in', 'C_in'),\n ('C00061_in', 'C_in'),\n ('C00018_in', 'C_in'),\n ('C00019_in', 'C_in'),\n ('C00255_in', 'C_in'),\n ('C00458_in', 'C_in'),\n ('C00097_in', 'C_in'),\n ('C00079_in', 'C_in'),\n ('C00062_in', 'C_in'),\n ('C00148_in', 'C_in'),\n ('C00047_in', 'C_in'),\n ('C00073_in', 'C_in'),\n ('C00135_in', 'C_in'),\n ('C00037_in', 'C_in'),\n ('C00123_in', 'C_in'),\n ('C00152_in', 'C_in'),\n ('C00082_in', 'C_in')]"
     },
     "execution_count": 4,
     "metadata": {},
     "output_type": "execute_result"
    }
   ],
   "source": [
    "from src.gap_filling_dl.biomeneco.model import Model\n",
    "from src.gap_filling_dl.biomeneco.gapfiller import GapFiller\n",
    "import cobra\n",
    "\n",
    "path_model = '../data/draft_synechocystis/model_synechocystis.xml'\n",
    "cobra_model = cobra.io.read_sbml_model(path_model)\n",
    "cobra_model.exchanges.EX_C00031_dra.bounds = (-1000, 1000)\n",
    "cobra_model.exchanges.EX_C00014_dra.bounds = (-1000, 1000)\n",
    "my_model = Model(cobra_model, \"e_Biomass_in\")\n",
    "my_model.targets"
   ],
   "metadata": {
    "collapsed": false,
    "pycharm": {
     "name": "#%%\n"
    },
    "ExecuteTime": {
     "end_time": "2023-07-05T08:39:02.301398500Z",
     "start_time": "2023-07-05T08:38:48.120727100Z"
    }
   }
  },
  {
   "cell_type": "code",
   "execution_count": 5,
   "outputs": [
    {
     "name": "stdout",
     "output_type": "stream",
     "text": [
      "19\n"
     ]
    },
    {
     "data": {
      "text/plain": "[('C00032_in', 'C_in'),\n ('C00016_in', 'C_in'),\n ('C00378_in', 'C_in'),\n ('C00061_in', 'C_in'),\n ('C00018_in', 'C_in'),\n ('C00019_in', 'C_in'),\n ('C00255_in', 'C_in'),\n ('C00458_in', 'C_in'),\n ('C00097_in', 'C_in'),\n ('C00079_in', 'C_in'),\n ('C00062_in', 'C_in'),\n ('C00148_in', 'C_in'),\n ('C00047_in', 'C_in'),\n ('C00073_in', 'C_in'),\n ('C00135_in', 'C_in'),\n ('C00037_in', 'C_in'),\n ('C00123_in', 'C_in'),\n ('C00152_in', 'C_in'),\n ('C00082_in', 'C_in')]"
     },
     "execution_count": 5,
     "metadata": {},
     "output_type": "execute_result"
    }
   ],
   "source": [
    "print(len(my_model.targets))\n",
    "my_model.targets"
   ],
   "metadata": {
    "collapsed": false,
    "pycharm": {
     "name": "#%%\n"
    },
    "ExecuteTime": {
     "end_time": "2023-07-05T08:39:26.490282Z",
     "start_time": "2023-07-05T08:39:02.304410500Z"
    }
   }
  },
  {
   "cell_type": "code",
   "execution_count": 6,
   "outputs": [
    {
     "name": "stderr",
     "output_type": "stream",
     "text": [
      "Could not identify an external compartment by name and choosing one with the most boundary reactions. That might be complete nonsense or change suddenly. Consider renaming your compartments using `Model.compartments` to fix this.\n",
      "Could not identify an external compartment by name and choosing one with the most boundary reactions. That might be complete nonsense or change suddenly. Consider renaming your compartments using `Model.compartments` to fix this.\n"
     ]
    },
    {
     "name": "stdout",
     "output_type": "stream",
     "text": [
      "13\n"
     ]
    }
   ],
   "source": [
    "print(len(my_model.seeds))\n",
    "my_model.to_sbml('draft_synechocystis', '../data/draft_synechocystis', seeds=True, targets=True)"
   ],
   "metadata": {
    "collapsed": false,
    "pycharm": {
     "name": "#%%\n"
    },
    "ExecuteTime": {
     "end_time": "2023-07-05T08:39:37.877844700Z",
     "start_time": "2023-07-05T08:39:26.492301Z"
    }
   }
  },
  {
   "cell_type": "code",
   "execution_count": 3,
   "outputs": [
    {
     "name": "stdout",
     "output_type": "stream",
     "text": [
      "Number of reactions in temporary universal model: 6653\n",
      "Temporary universal model file successfully created.\n",
      "Temporary universal model file path: ../data/draft_synechocystis/temporary_universal_model.xml\n",
      "Checking file: ../data/draft_synechocystis/draft_synechocystis_seeds.xml\n",
      "Found file: draft_synechocystis_seeds.xml\n",
      "Checking file: ../data/draft_synechocystis/draft_synechocystis_targets.xml\n",
      "Found file: draft_synechocystis_targets.xml\n",
      "Checking file: ../data/draft_synechocystis/model_synechocystis.xml\n",
      "Found file: model_synechocystis.xml\n",
      "Checking file: ../data/draft_synechocystis/temporary_universal_model.xml\n",
      "Found file: temporary_universal_model.xml\n",
      "Checking file: ../data/draft_synechocystis/universal_model.xml\n",
      "Found file: universal_model.xml\n",
      "model_file: model_synechocystis.xml\n",
      "seeds_file: draft_synechocystis_seeds.xml\n",
      "targets_file: draft_synechocystis_targets.xml\n",
      "universal_model_file: universal_model.xml\n"
     ]
    },
    {
     "name": "stderr",
     "output_type": "stream",
     "text": [
      "1148 does not conform to 'http(s)://identifiers.org/collection/id' or'http(s)://identifiers.org/COLLECTION:id\n"
     ]
    }
   ],
   "source": [
    "# run gf now\n",
    "from src.gap_filling_dl.biomeneco.gapfiller import GapFiller\n",
    "gf = GapFiller.from_folder('../data/draft_synechocystis/', temporary_universal_model=False, objective_function_id=\"e_Biomass_in\")"
   ],
   "metadata": {
    "collapsed": false,
    "pycharm": {
     "name": "#%%\n"
    }
   }
  },
  {
   "cell_type": "code",
   "execution_count": 4,
   "outputs": [
    {
     "name": "stderr",
     "output_type": "stream",
     "text": [
      "Warning: R_EX_C00988_dra listOfProducts=None\n",
      "Warning: R_EX_C01327_dra listOfProducts=None\n",
      "Warning: R_EX_C00008_dra listOfProducts=None\n",
      "Warning: R_EX_C00001_dra listOfProducts=None\n",
      "Warning: R_EX_C00197_dra listOfProducts=None\n",
      "Warning: R_EX_C00244_dra listOfProducts=None\n",
      "Warning: R_EX_C00025_dra listOfProducts=None\n",
      "Warning: R_EX_C00236_dra listOfProducts=None\n",
      "Warning: R_EX_C00631_dra listOfProducts=None\n",
      "Warning: R_EX_C00076_dra listOfProducts=None\n",
      "Warning: R_EX_C01290_dra listOfProducts=None\n",
      "Warning: R_EX_C04046_dra listOfProducts=None\n",
      "Warning: R_EX_C00295_dra listOfProducts=None\n",
      "Warning: R_EX_C00074_dra listOfProducts=None\n",
      "Warning: R_EX_e_Biomass_dra listOfProducts=None\n",
      "Warning: R_EX_C00033_dra listOfProducts=None\n",
      "Warning: R_EX_C00704_dra listOfProducts=None\n",
      "Warning: R_EX_C14818_dra listOfProducts=None\n",
      "Warning: R_EX_C07756_dra listOfProducts=None\n",
      "Warning: R_EX_C00041_dra listOfProducts=None\n",
      "Warning: R_EX_C01674_dra listOfProducts=None\n",
      "Warning: R_EX_C00011_dra listOfProducts=None\n",
      "Warning: R_EX_C13508_dra listOfProducts=None\n",
      "Warning: R_EX_C04911_dra listOfProducts=None\n",
      "Warning: R_EX_C03912_dra listOfProducts=None\n",
      "Warning: R_EX_C00191_dra listOfProducts=None\n",
      "Warning: R_EX_C01190_dra listOfProducts=None\n",
      "Warning: R_EX_C04927_dra listOfProducts=None\n",
      "Warning: R_EX_C05080_dra listOfProducts=None\n",
      "Warning: R_EX_C00305_dra listOfProducts=None\n",
      "Warning: R_EX_C00007_dra listOfProducts=None\n",
      "Warning: R_EX_C00283_dra listOfProducts=None\n",
      "Warning: R_EX_C00148_dra listOfProducts=None\n",
      "Warning: R_EX_C01330_dra listOfProducts=None\n",
      "Warning: R_EX_C00217_dra listOfProducts=None\n",
      "Warning: R_EX_C00014_dra listOfProducts=None\n",
      "Warning: R_EX_C00175_dra listOfProducts=None\n",
      "Warning: R_EX_C06697_dra listOfProducts=None\n",
      "Warning: R_EX_C00344_dra listOfProducts=None\n",
      "Warning: R_EX_C19843_dra listOfProducts=None\n",
      "Warning: R_EX_C00037_dra listOfProducts=None\n",
      "Warning: R_EX_C00504_dra listOfProducts=None\n",
      "Warning: R_EX_C03272_dra listOfProducts=None\n",
      "Warning: R_EX_C00416_dra listOfProducts=None\n",
      "Warning: R_EX_C00135_dra listOfProducts=None\n",
      "Warning: R_EX_C00469_dra listOfProducts=None\n",
      "Warning: R_EX_C00047_dra listOfProducts=None\n",
      "Warning: R_EX_C07054_dra listOfProducts=None\n",
      "Warning: R_EX_C00993_dra listOfProducts=None\n",
      "Warning: R_EX_C00080_dra listOfProducts=None\n",
      "Warning: R_EX_C00013_dra listOfProducts=None\n",
      "Warning: R_EX_C00395_dra listOfProducts=None\n",
      "Warning: R_EX_C06232_dra listOfProducts=None\n",
      "Warning: R_EX_C01419_dra listOfProducts=None\n",
      "Warning: R_EX_C10906_dra listOfProducts=None\n",
      "Warning: R_EX_C00088_dra listOfProducts=None\n",
      "Warning: R_EX_C00031_dra listOfProducts=None\n",
      "Warning: R_EX_C19610_dra listOfProducts=None\n",
      "Warning: R_EX_C00064_dra listOfProducts=None\n",
      "Warning: R_EX_C00669_dra listOfProducts=None\n",
      "Warning: R_EX_C00320_dra listOfProducts=None\n",
      "Warning: R_EX_C05684_dra listOfProducts=None\n",
      "Warning: R_EX_C00038_dra listOfProducts=None\n",
      "Warning: R_EX_C04737_dra listOfProducts=None\n",
      "Warning: R_EX_C01342_dra listOfProducts=None\n",
      "Warning: R_EX_C04730_dra listOfProducts=None\n",
      "Warning: R_EX_C00089_dra listOfProducts=None\n",
      "Warning: R_EX_C00065_dra listOfProducts=None\n",
      "Warning: R_EX_C05697_dra listOfProducts=None\n",
      "Warning: R_EX_C01181_dra listOfProducts=None\n",
      "Warning: R_EX_C00221_dra listOfProducts=None\n",
      "Warning: R_EX_C04884_dra listOfProducts=None\n",
      "Warning: R_EX_C00536_dra listOfProducts=None\n",
      "Warning: R_EX_C00208_dra listOfProducts=None\n",
      "Warning: R_EX_C00059_dra listOfProducts=None\n",
      "Warning: R_EX_C00062_dra listOfProducts=None\n",
      "Warning: R_EX_C00002_dra listOfProducts=None\n",
      "Warning: R_EX_C14819_dra listOfProducts=None\n",
      "Warning: R_EX_C06037_dra listOfProducts=None\n",
      "Warning: R_EX_C00288_dra listOfProducts=None\n",
      "Warning: R_EX_C00022_dra listOfProducts=None\n",
      "Warning: R_EX_C00238_dra listOfProducts=None\n",
      "Warning: R_EX_C00205_dra listOfProducts=None\n",
      "Warning: R_EX_C11924_dra listOfProducts=None\n",
      "Warning: R_EX_C00258_dra listOfProducts=None\n",
      "Warning: R_EX_C00009_dra listOfProducts=None\n",
      "Warning: R_R08694_in listOfReactants=None\n",
      "Warning: R_R05624_in listOfProducts=None\n",
      "Warning: R_R10976_in listOfProducts=None\n"
     ]
    },
    {
     "ename": "KeyboardInterrupt",
     "evalue": "",
     "output_type": "error",
     "traceback": [
      "\u001B[1;31m---------------------------------------------------------------------------\u001B[0m",
      "\u001B[1;31mKeyboardInterrupt\u001B[0m                         Traceback (most recent call last)",
      "Cell \u001B[1;32mIn[4], line 1\u001B[0m\n\u001B[1;32m----> 1\u001B[0m res \u001B[38;5;241m=\u001B[39m \u001B[43mgf\u001B[49m\u001B[38;5;241;43m.\u001B[39;49m\u001B[43mrun\u001B[49m\u001B[43m(\u001B[49m\u001B[38;5;28;43;01mFalse\u001B[39;49;00m\u001B[43m,\u001B[49m\u001B[43m \u001B[49m\u001B[43mwrite_to_file\u001B[49m\u001B[38;5;241;43m=\u001B[39;49m\u001B[38;5;28;43;01mTrue\u001B[39;49;00m\u001B[43m,\u001B[49m\u001B[43m \u001B[49m\u001B[43mremoved_reactions\u001B[49m\u001B[38;5;241;43m=\u001B[39;49m\u001B[38;5;28;43;01mNone\u001B[39;49;00m\u001B[43m,\u001B[49m\u001B[43m \u001B[49m\u001B[43mobjective_function_id\u001B[49m\u001B[38;5;241;43m=\u001B[39;49m\u001B[38;5;124;43m\"\u001B[39;49m\u001B[38;5;124;43me_Biomass_in\u001B[39;49m\u001B[38;5;124;43m\"\u001B[39;49m\u001B[43m)\u001B[49m\n",
      "File \u001B[1;32m~\\PythonProjects\\gap_filling_dl\\src\\gap_filling_dl\\biomeneco\\gapfiller.py:97\u001B[0m, in \u001B[0;36mGapFiller.run\u001B[1;34m(self, optimize, write_to_file, removed_reactions, objective_function_id, **kwargs)\u001B[0m\n\u001B[0;32m     94\u001B[0m targets \u001B[38;5;241m=\u001B[39m sbml\u001B[38;5;241m.\u001B[39mreadSBMLtargets(\u001B[38;5;28mself\u001B[39m\u001B[38;5;241m.\u001B[39mtargets_path)\n\u001B[0;32m     96\u001B[0m \u001B[38;5;66;03m# Call the get_minimal_completion_size function this order: draftnet, repairnet, seeds, targets)\u001B[39;00m\n\u001B[1;32m---> 97\u001B[0m \u001B[38;5;28mself\u001B[39m\u001B[38;5;241m.\u001B[39mminimal_completion \u001B[38;5;241m=\u001B[39m \u001B[43mget_minimal_completion_size\u001B[49m\u001B[43m(\u001B[49m\u001B[43mdraftnet\u001B[49m\u001B[43m,\u001B[49m\u001B[43m \u001B[49m\u001B[43mrepairnet\u001B[49m\u001B[43m,\u001B[49m\u001B[43m \u001B[49m\u001B[43mseeds\u001B[49m\u001B[43m,\u001B[49m\u001B[43m \u001B[49m\u001B[43mtargets\u001B[49m\u001B[43m)\u001B[49m\n\u001B[0;32m     98\u001B[0m time_end \u001B[38;5;241m=\u001B[39m time\u001B[38;5;241m.\u001B[39mtime()\n\u001B[0;32m     99\u001B[0m \u001B[38;5;28mself\u001B[39m\u001B[38;5;241m.\u001B[39mgftime \u001B[38;5;241m=\u001B[39m time_end \u001B[38;5;241m-\u001B[39m time_start\n",
      "File \u001B[1;32m~\\gap_filling_dl\\lib\\site-packages\\meneco\\query.py:84\u001B[0m, in \u001B[0;36mget_minimal_completion_size\u001B[1;34m(draft, repairnet, seeds, targets)\u001B[0m\n\u001B[0;32m     82\u001B[0m optimum \u001B[38;5;241m=\u001B[39m \u001B[38;5;28;01mNone\u001B[39;00m\n\u001B[0;32m     83\u001B[0m models \u001B[38;5;241m=\u001B[39m clyngor\u001B[38;5;241m.\u001B[39msolve(prg, options\u001B[38;5;241m=\u001B[39mco, use_clingo_module\u001B[38;5;241m=\u001B[39m\u001B[38;5;28;01mFalse\u001B[39;00m)\n\u001B[1;32m---> 84\u001B[0m \u001B[38;5;28;01mfor\u001B[39;00m model \u001B[38;5;129;01min\u001B[39;00m models\u001B[38;5;241m.\u001B[39mdiscard_quotes\u001B[38;5;241m.\u001B[39mby_arity:\n\u001B[0;32m     85\u001B[0m     optimum \u001B[38;5;241m=\u001B[39m model\n\u001B[0;32m     87\u001B[0m os\u001B[38;5;241m.\u001B[39munlink(instance_f)\n",
      "File \u001B[1;32m~\\gap_filling_dl\\lib\\site-packages\\clyngor\\answers.py:217\u001B[0m, in \u001B[0;36mAnswers.__iter__\u001B[1;34m(self)\u001B[0m\n\u001B[0;32m    215\u001B[0m \u001B[38;5;28;01mdef\u001B[39;00m \u001B[38;5;21m__iter__\u001B[39m(\u001B[38;5;28mself\u001B[39m):\n\u001B[0;32m    216\u001B[0m \u001B[38;5;250m    \u001B[39m\u001B[38;5;124;03m\"\"\"Yield answer sets\"\"\"\u001B[39;00m\n\u001B[1;32m--> 217\u001B[0m     \u001B[38;5;28;01mfor\u001B[39;00m answer_set, optimization, optimality, answer_number \u001B[38;5;129;01min\u001B[39;00m \u001B[38;5;28mself\u001B[39m\u001B[38;5;241m.\u001B[39m_answers:\n\u001B[0;32m    218\u001B[0m         answer_set \u001B[38;5;241m=\u001B[39m \u001B[38;5;28mtuple\u001B[39m(\u001B[38;5;28mself\u001B[39m\u001B[38;5;241m.\u001B[39m_parse_answer(answer_set))\n\u001B[0;32m    219\u001B[0m         parsed \u001B[38;5;241m=\u001B[39m \u001B[38;5;28mself\u001B[39m\u001B[38;5;241m.\u001B[39m_format(answer_set)\n",
      "File \u001B[1;32m~\\gap_filling_dl\\lib\\site-packages\\clyngor\\solving.py:214\u001B[0m, in \u001B[0;36m_gen_answers\u001B[1;34m(stdout, stderr, statistics, error_on_warning)\u001B[0m\n\u001B[0;32m    212\u001B[0m answer_number \u001B[38;5;241m=\u001B[39m \u001B[38;5;28;01mNone\u001B[39;00m\n\u001B[0;32m    213\u001B[0m optimization, optimum_found \u001B[38;5;241m=\u001B[39m \u001B[38;5;28;01mNone\u001B[39;00m, \u001B[38;5;28;01mFalse\u001B[39;00m\n\u001B[1;32m--> 214\u001B[0m \u001B[38;5;28;01mfor\u001B[39;00m ptype, payload \u001B[38;5;129;01min\u001B[39;00m parse_clasp_output(stdout, yield_stats\u001B[38;5;241m=\u001B[39m\u001B[38;5;28;01mTrue\u001B[39;00m):\n\u001B[0;32m    215\u001B[0m     \u001B[38;5;28;01mif\u001B[39;00m ptype \u001B[38;5;241m==\u001B[39m \u001B[38;5;124m'\u001B[39m\u001B[38;5;124manswer_number\u001B[39m\u001B[38;5;124m'\u001B[39m:\n\u001B[0;32m    216\u001B[0m         \u001B[38;5;28;01mif\u001B[39;00m answer \u001B[38;5;129;01mis\u001B[39;00m \u001B[38;5;129;01mnot\u001B[39;00m \u001B[38;5;28;01mNone\u001B[39;00m:\n",
      "File \u001B[1;32m~\\gap_filling_dl\\lib\\site-packages\\clyngor\\parsing.py:233\u001B[0m, in \u001B[0;36mparse_clasp_output\u001B[1;34m(output, yield_stats, yield_opti, yield_info, yield_prgs)\u001B[0m\n\u001B[0;32m    231\u001B[0m     infos\u001B[38;5;241m.\u001B[39mappend(line)\n\u001B[0;32m    232\u001B[0m \u001B[38;5;28;01mtry\u001B[39;00m:\n\u001B[1;32m--> 233\u001B[0m     line \u001B[38;5;241m=\u001B[39m \u001B[38;5;28;43mnext\u001B[39;49m\u001B[43m(\u001B[49m\u001B[43moutput\u001B[49m\u001B[43m)\u001B[49m\n\u001B[0;32m    234\u001B[0m \u001B[38;5;28;01mexcept\u001B[39;00m \u001B[38;5;167;01mStopIteration\u001B[39;00m:\n\u001B[0;32m    235\u001B[0m     \u001B[38;5;28;01mbreak\u001B[39;00m\n",
      "File \u001B[1;32m~\\gap_filling_dl\\lib\\site-packages\\clyngor\\solving.py:114\u001B[0m, in \u001B[0;36m<genexpr>\u001B[1;34m(.0)\u001B[0m\n\u001B[0;32m    112\u001B[0m     clingo\u001B[38;5;241m.\u001B[39mstdin\u001B[38;5;241m.\u001B[39mwrite(stdin_feed\u001B[38;5;241m.\u001B[39mencode())\n\u001B[0;32m    113\u001B[0m     clingo\u001B[38;5;241m.\u001B[39mstdin\u001B[38;5;241m.\u001B[39mclose()\n\u001B[1;32m--> 114\u001B[0m stdout \u001B[38;5;241m=\u001B[39m (\u001B[43mline\u001B[49m\u001B[38;5;241;43m.\u001B[39;49m\u001B[43mdecode\u001B[49m() \u001B[38;5;28;01mfor\u001B[39;00m line \u001B[38;5;129;01min\u001B[39;00m clingo\u001B[38;5;241m.\u001B[39mstdout)\n\u001B[0;32m    115\u001B[0m stderr \u001B[38;5;241m=\u001B[39m (line\u001B[38;5;241m.\u001B[39mdecode() \u001B[38;5;28;01mfor\u001B[39;00m line \u001B[38;5;129;01min\u001B[39;00m clingo\u001B[38;5;241m.\u001B[39mstderr)\n\u001B[0;32m    116\u001B[0m \u001B[38;5;28;01mif\u001B[39;00m return_raw_output:  \u001B[38;5;28;01mreturn\u001B[39;00m \u001B[38;5;124m'\u001B[39m\u001B[38;5;124m'\u001B[39m\u001B[38;5;241m.\u001B[39mjoin(stdout), \u001B[38;5;124m'\u001B[39m\u001B[38;5;124m'\u001B[39m\u001B[38;5;241m.\u001B[39mjoin(stderr)\n",
      "\u001B[1;31mKeyboardInterrupt\u001B[0m: "
     ]
    }
   ],
   "source": [
    "res = gf.run(False, write_to_file=True, removed_reactions=None, objective_function_id=\"e_Biomass_in\")"
   ],
   "metadata": {
    "collapsed": false,
    "pycharm": {
     "name": "#%%\n"
    },
    "ExecuteTime": {
     "end_time": "2023-07-03T13:08:43.334131300Z",
     "start_time": "2023-07-03T09:25:16.826743500Z"
    }
   }
  }
 ],
 "metadata": {
  "kernelspec": {
   "display_name": "Python 3",
   "language": "python",
   "name": "python3"
  },
  "language_info": {
   "codemirror_mode": {
    "name": "ipython",
    "version": 2
   },
   "file_extension": ".py",
   "mimetype": "text/x-python",
   "name": "python",
   "nbconvert_exporter": "python",
   "pygments_lexer": "ipython2",
   "version": "2.7.6"
  }
 },
 "nbformat": 4,
 "nbformat_minor": 0
}
