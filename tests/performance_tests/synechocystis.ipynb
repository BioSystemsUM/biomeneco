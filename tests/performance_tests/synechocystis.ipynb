{
 "cells": [
  {
   "cell_type": "code",
   "execution_count": 1,
   "outputs": [
    {
     "name": "stderr",
     "output_type": "stream",
     "text": [
      "1148 does not conform to 'http(s)://identifiers.org/collection/id' or'http(s)://identifiers.org/COLLECTION:id\n"
     ]
    },
    {
     "name": "stdout",
     "output_type": "stream",
     "text": [
      "Please select a valid reaction identifier\n"
     ]
    },
    {
     "ename": "KeyError",
     "evalue": "'e_Biomass_in'",
     "output_type": "error",
     "traceback": [
      "\u001B[1;31m---------------------------------------------------------------------------\u001B[0m",
      "\u001B[1;31mKeyError\u001B[0m                                  Traceback (most recent call last)",
      "Cell \u001B[1;32mIn[1], line 8\u001B[0m\n\u001B[0;32m      6\u001B[0m cobra_model \u001B[38;5;241m=\u001B[39m cobra\u001B[38;5;241m.\u001B[39mio\u001B[38;5;241m.\u001B[39mread_sbml_model(path_model)\n\u001B[0;32m      7\u001B[0m my_model \u001B[38;5;241m=\u001B[39m Model(cobra_model, \u001B[38;5;124m\"\u001B[39m\u001B[38;5;124me_Biomass_in\u001B[39m\u001B[38;5;124m\"\u001B[39m)\n\u001B[1;32m----> 8\u001B[0m \u001B[43mmy_model\u001B[49m\u001B[38;5;241;43m.\u001B[39;49m\u001B[43mtargets\u001B[49m\n",
      "File \u001B[1;32m~\\PythonProjects\\gap_filling_dl\\src\\gap_filling_dl\\biomeneco\\model.py:57\u001B[0m, in \u001B[0;36mModel.targets\u001B[1;34m(self)\u001B[0m\n\u001B[0;32m     49\u001B[0m \u001B[38;5;129m@property\u001B[39m\n\u001B[0;32m     50\u001B[0m \u001B[38;5;28;01mdef\u001B[39;00m \u001B[38;5;21mtargets\u001B[39m(\u001B[38;5;28mself\u001B[39m) \u001B[38;5;241m-\u001B[39m\u001B[38;5;241m>\u001B[39m List[Tuple[\u001B[38;5;28mstr\u001B[39m, \u001B[38;5;28mstr\u001B[39m]]:\n\u001B[0;32m     51\u001B[0m \u001B[38;5;250m    \u001B[39m\u001B[38;5;124;03m\"\"\"Identify the targets of a model.\u001B[39;00m\n\u001B[0;32m     52\u001B[0m \n\u001B[0;32m     53\u001B[0m \u001B[38;5;124;03m    Returns:\u001B[39;00m\n\u001B[0;32m     54\u001B[0m \u001B[38;5;124;03m        A list of tuples, where each tuple contains the ID and compartment of a target metabolite.\u001B[39;00m\n\u001B[0;32m     55\u001B[0m \u001B[38;5;124;03m        \"\"\"\u001B[39;00m\n\u001B[1;32m---> 57\u001B[0m     \u001B[38;5;28;01mreturn\u001B[39;00m \u001B[38;5;28;43mself\u001B[39;49m\u001B[38;5;241;43m.\u001B[39;49m\u001B[43midentify_targets\u001B[49m\u001B[43m(\u001B[49m\u001B[43m)\u001B[49m\n",
      "File \u001B[1;32m~\\PythonProjects\\gap_filling_dl\\src\\gap_filling_dl\\biomeneco\\model.py:104\u001B[0m, in \u001B[0;36mModel.identify_targets\u001B[1;34m(self, objective, solver)\u001B[0m\n\u001B[0;32m    101\u001B[0m \u001B[38;5;66;03m# print(model.summary())\u001B[39;00m\n\u001B[0;32m    102\u001B[0m set_solver(\u001B[38;5;28mself\u001B[39m, solver)\n\u001B[1;32m--> 104\u001B[0m bio \u001B[38;5;241m=\u001B[39m \u001B[43mBioISO\u001B[49m\u001B[43m(\u001B[49m\u001B[38;5;28;43mself\u001B[39;49m\u001B[38;5;241;43m.\u001B[39;49m\u001B[43mobjective_function_id\u001B[49m\u001B[43m,\u001B[49m\u001B[43m \u001B[49m\u001B[38;5;28;43mself\u001B[39;49m\u001B[43m,\u001B[49m\u001B[43m \u001B[49m\u001B[43mobjective\u001B[49m\u001B[43m)\u001B[49m\n\u001B[0;32m    105\u001B[0m bio\u001B[38;5;241m.\u001B[39mrun(\u001B[38;5;241m2\u001B[39m, \u001B[38;5;28;01mFalse\u001B[39;00m)\n\u001B[0;32m    107\u001B[0m results \u001B[38;5;241m=\u001B[39m bio\u001B[38;5;241m.\u001B[39mget_tree()\n",
      "File \u001B[1;32m~\\gap_filling_dl\\lib\\site-packages\\bioiso\\core\\bioiso.py:23\u001B[0m, in \u001B[0;36mBioISO.__init__\u001B[1;34m(self, reaction_id, model, objective_direction, fast, time_out)\u001B[0m\n\u001B[0;32m     20\u001B[0m \u001B[38;5;28mself\u001B[39m\u001B[38;5;241m.\u001B[39mobjective_direction \u001B[38;5;241m=\u001B[39m \u001B[38;5;124m'\u001B[39m\u001B[38;5;124mmaximize\u001B[39m\u001B[38;5;124m'\u001B[39m\n\u001B[0;32m     21\u001B[0m \u001B[38;5;28mself\u001B[39m\u001B[38;5;241m.\u001B[39msetObjective(objective_direction)\n\u001B[1;32m---> 23\u001B[0m \u001B[38;5;28;43mself\u001B[39;49m\u001B[38;5;241;43m.\u001B[39;49m\u001B[43m__verify_reaction_principles\u001B[49m\u001B[43m(\u001B[49m\u001B[43m)\u001B[49m\n\u001B[0;32m     25\u001B[0m \u001B[38;5;66;03m# controlling cache\u001B[39;00m\n\u001B[0;32m     26\u001B[0m \u001B[38;5;66;03m# any time Bioiso starts the registry must be cleaned\u001B[39;00m\n\u001B[0;32m     27\u001B[0m \u001B[38;5;28mself\u001B[39m\u001B[38;5;241m.\u001B[39m__id \u001B[38;5;241m=\u001B[39m \u001B[38;5;28mself\u001B[39m\u001B[38;5;241m.\u001B[39mreaction_id \u001B[38;5;241m+\u001B[39m \u001B[38;5;124m'\u001B[39m\u001B[38;5;124m_\u001B[39m\u001B[38;5;124m'\u001B[39m \u001B[38;5;241m+\u001B[39m \u001B[38;5;28mself\u001B[39m\u001B[38;5;241m.\u001B[39mmodel\u001B[38;5;241m.\u001B[39mid \u001B[38;5;241m+\u001B[39m \u001B[38;5;124m'\u001B[39m\u001B[38;5;124m_\u001B[39m\u001B[38;5;124m'\u001B[39m \u001B[38;5;241m+\u001B[39m \u001B[38;5;28mself\u001B[39m\u001B[38;5;241m.\u001B[39mobjective_direction \u001B[38;5;241m+\u001B[39m \u001B[38;5;124m'\u001B[39m\u001B[38;5;124m_\u001B[39m\u001B[38;5;124m'\u001B[39m \u001B[38;5;241m+\u001B[39m \u001B[38;5;28mstr\u001B[39m(\u001B[38;5;28mid\u001B[39m(\u001B[38;5;28mself\u001B[39m))\n",
      "File \u001B[1;32m~\\gap_filling_dl\\lib\\site-packages\\bioiso\\core\\bioiso.py:94\u001B[0m, in \u001B[0;36mBioISO.__verify_reaction_principles\u001B[1;34m(self)\u001B[0m\n\u001B[0;32m     92\u001B[0m \u001B[38;5;28;01mexcept\u001B[39;00m \u001B[38;5;167;01mKeyError\u001B[39;00m \u001B[38;5;28;01mas\u001B[39;00m e:\n\u001B[0;32m     93\u001B[0m     \u001B[38;5;28mprint\u001B[39m(\u001B[38;5;124m\"\u001B[39m\u001B[38;5;124mPlease select a valid reaction identifier\u001B[39m\u001B[38;5;124m\"\u001B[39m)\n\u001B[1;32m---> 94\u001B[0m     \u001B[38;5;28;01mraise\u001B[39;00m e\n\u001B[0;32m     96\u001B[0m \u001B[38;5;28;01mexcept\u001B[39;00m \u001B[38;5;167;01mBaseException\u001B[39;00m:\n\u001B[0;32m     97\u001B[0m     \u001B[38;5;28mprint\u001B[39m(\u001B[38;5;124m\"\u001B[39m\u001B[38;5;124mUnexpected error\u001B[39m\u001B[38;5;124m\"\u001B[39m)\n",
      "File \u001B[1;32m~\\gap_filling_dl\\lib\\site-packages\\bioiso\\core\\bioiso.py:71\u001B[0m, in \u001B[0;36mBioISO.__verify_reaction_principles\u001B[1;34m(self)\u001B[0m\n\u001B[0;32m     67\u001B[0m \u001B[38;5;28;01mtry\u001B[39;00m:\n\u001B[0;32m     68\u001B[0m     \u001B[38;5;28;01mif\u001B[39;00m \u001B[38;5;28mself\u001B[39m\u001B[38;5;241m.\u001B[39mobjective_direction \u001B[38;5;241m==\u001B[39m \u001B[38;5;124m'\u001B[39m\u001B[38;5;124mmaximize\u001B[39m\u001B[38;5;124m'\u001B[39m:\n\u001B[0;32m     69\u001B[0m \n\u001B[0;32m     70\u001B[0m         \u001B[38;5;66;03m# get the products of the reaction\u001B[39;00m\n\u001B[1;32m---> 71\u001B[0m         products \u001B[38;5;241m=\u001B[39m \u001B[43mget_products\u001B[49m\u001B[43m(\u001B[49m\u001B[38;5;28;43mself\u001B[39;49m\u001B[38;5;241;43m.\u001B[39;49m\u001B[43mmodel\u001B[49m\u001B[43m,\u001B[49m\u001B[43m \u001B[49m\u001B[38;5;28;43mself\u001B[39;49m\u001B[38;5;241;43m.\u001B[39;49m\u001B[43mreaction_id\u001B[49m\u001B[43m)\u001B[49m\n\u001B[0;32m     73\u001B[0m         \u001B[38;5;28mself\u001B[39m\u001B[38;5;241m.\u001B[39m__metabolite_is_reactant \u001B[38;5;241m=\u001B[39m \u001B[38;5;28;01mFalse\u001B[39;00m\n\u001B[0;32m     75\u001B[0m         \u001B[38;5;66;03m# creating the root metabolite\u001B[39;00m\n",
      "File \u001B[1;32m~\\gap_filling_dl\\lib\\site-packages\\bioiso\\wrappers\\cobraWrapper.py:62\u001B[0m, in \u001B[0;36mget_products\u001B[1;34m(model, reaction_id)\u001B[0m\n\u001B[0;32m     61\u001B[0m \u001B[38;5;28;01mdef\u001B[39;00m \u001B[38;5;21mget_products\u001B[39m(model, reaction_id):\n\u001B[1;32m---> 62\u001B[0m     \u001B[38;5;28;01mreturn\u001B[39;00m \u001B[43mget_reaction\u001B[49m\u001B[43m(\u001B[49m\u001B[43mmodel\u001B[49m\u001B[43m,\u001B[49m\u001B[43m \u001B[49m\u001B[43mreaction_id\u001B[49m\u001B[43m)\u001B[49m\u001B[38;5;241m.\u001B[39mproducts\n",
      "File \u001B[1;32m~\\gap_filling_dl\\lib\\site-packages\\bioiso\\wrappers\\cobraWrapper.py:29\u001B[0m, in \u001B[0;36mget_reaction\u001B[1;34m(model, reaction_id)\u001B[0m\n\u001B[0;32m     28\u001B[0m \u001B[38;5;28;01mdef\u001B[39;00m \u001B[38;5;21mget_reaction\u001B[39m(model, reaction_id):\n\u001B[1;32m---> 29\u001B[0m     \u001B[38;5;28;01mreturn\u001B[39;00m \u001B[43mmodel\u001B[49m\u001B[38;5;241;43m.\u001B[39;49m\u001B[43mreactions\u001B[49m\u001B[38;5;241;43m.\u001B[39;49m\u001B[43mget_by_id\u001B[49m\u001B[43m(\u001B[49m\u001B[43mreaction_id\u001B[49m\u001B[43m)\u001B[49m\n",
      "File \u001B[1;32m~\\gap_filling_dl\\lib\\site-packages\\cobra\\core\\dictlist.py:75\u001B[0m, in \u001B[0;36mDictList.get_by_id\u001B[1;34m(self, id)\u001B[0m\n\u001B[0;32m     73\u001B[0m \u001B[38;5;28;01mdef\u001B[39;00m \u001B[38;5;21mget_by_id\u001B[39m(\u001B[38;5;28mself\u001B[39m, \u001B[38;5;28mid\u001B[39m: Union[Object, \u001B[38;5;28mstr\u001B[39m]) \u001B[38;5;241m-\u001B[39m\u001B[38;5;241m>\u001B[39m Object:\n\u001B[0;32m     74\u001B[0m \u001B[38;5;250m    \u001B[39m\u001B[38;5;124;03m\"\"\"Return the element with a matching id.\"\"\"\u001B[39;00m\n\u001B[1;32m---> 75\u001B[0m     \u001B[38;5;28;01mreturn\u001B[39;00m \u001B[38;5;28mlist\u001B[39m\u001B[38;5;241m.\u001B[39m\u001B[38;5;21m__getitem__\u001B[39m(\u001B[38;5;28mself\u001B[39m, \u001B[38;5;28;43mself\u001B[39;49m\u001B[38;5;241;43m.\u001B[39;49m\u001B[43m_dict\u001B[49m\u001B[43m[\u001B[49m\u001B[38;5;28;43mid\u001B[39;49m\u001B[43m]\u001B[49m)\n",
      "\u001B[1;31mKeyError\u001B[0m: 'e_Biomass_in'"
     ]
    }
   ],
   "source": [
    "from src.gap_filling_dl.biomeneco.model import Model\n",
    "from src.gap_filling_dl.biomeneco.gapfiller import GapFiller\n",
    "import cobra\n",
    "\n",
    "path_model = '../data/draft_synechocystis/model_synechocystis.xml'\n",
    "cobra_model = cobra.io.read_sbml_model(path_model)\n",
    "my_model = Model(cobra_model, \"e_Biomass_in\")\n",
    "my_model.targets"
   ],
   "metadata": {
    "collapsed": false,
    "pycharm": {
     "name": "#%%\n"
    },
    "ExecuteTime": {
     "end_time": "2023-07-10T16:36:11.140828700Z",
     "start_time": "2023-07-10T16:36:05.779549400Z"
    }
   }
  },
  {
   "cell_type": "code",
   "execution_count": 7,
   "outputs": [
    {
     "name": "stdout",
     "output_type": "stream",
     "text": [
      "17\n"
     ]
    }
   ],
   "source": [
    "print(len(my_model.targets))\n",
    "my_model.targets"
   ],
   "metadata": {
    "collapsed": false,
    "pycharm": {
     "name": "#%%\n"
    },
    "ExecuteTime": {
     "end_time": "2023-07-10T08:41:33.525034100Z",
     "start_time": "2023-07-10T08:41:17.645170900Z"
    }
   }
  },
  {
   "cell_type": "code",
   "execution_count": 8,
   "outputs": [
    {
     "name": "stderr",
     "output_type": "stream",
     "text": [
      "Could not identify an external compartment by name and choosing one with the most boundary reactions. That might be complete nonsense or change suddenly. Consider renaming your compartments using `Model.compartments` to fix this.\n",
      "Could not identify an external compartment by name and choosing one with the most boundary reactions. That might be complete nonsense or change suddenly. Consider renaming your compartments using `Model.compartments` to fix this.\n"
     ]
    },
    {
     "name": "stdout",
     "output_type": "stream",
     "text": [
      "13\n"
     ]
    }
   ],
   "source": [
    "print(len(my_model.seeds))\n",
    "my_model.to_sbml('draft_synechocystis', '../data/draft_synechocystis', seeds=True, targets=True)"
   ],
   "metadata": {
    "collapsed": false,
    "pycharm": {
     "name": "#%%\n"
    },
    "ExecuteTime": {
     "end_time": "2023-07-10T08:41:48.926039400Z",
     "start_time": "2023-07-10T08:41:33.524035Z"
    }
   }
  },
  {
   "cell_type": "code",
   "execution_count": 2,
   "outputs": [
    {
     "name": "stdout",
     "output_type": "stream",
     "text": [
      "Checking file: ../data/draft_synechocystis/draft_synechocystis_seeds.xml\n",
      "Found file: draft_synechocystis_seeds.xml\n",
      "Checking file: ../data/draft_synechocystis/draft_synechocystis_targets.xml\n",
      "Found file: draft_synechocystis_targets.xml\n",
      "Checking file: ../data/draft_synechocystis/model_synechocystis.xml\n",
      "Found file: model_synechocystis.xml\n",
      "Checking file: ../data/draft_synechocystis/temporary_universal_model.xml\n",
      "Found file: temporary_universal_model.xml\n",
      "Checking file: ../data/draft_synechocystis/universal_model.xml\n",
      "Found file: universal_model.xml\n",
      "Checking file: ../data/draft_synechocystis/universal_model_compartmentalized.xml\n",
      "Found file: universal_model_compartmentalized.xml\n",
      "model_file: model_synechocystis.xml\n",
      "seeds_file: draft_synechocystis_seeds.xml\n",
      "targets_file: draft_synechocystis_targets.xml\n",
      "universal_model_file: universal_model_compartmentalized.xml\n"
     ]
    },
    {
     "name": "stderr",
     "output_type": "stream",
     "text": [
      "1148 does not conform to 'http(s)://identifiers.org/collection/id' or'http(s)://identifiers.org/COLLECTION:id\n",
      "'' is not a valid SBML 'SId'.\n",
      "No objective coefficients in model. Unclear what should be optimized\n",
      "'' is not a valid SBML 'SId'.\n"
     ]
    },
    {
     "name": "stdout",
     "output_type": "stream",
     "text": [
      "Number of reactions in universal model: 10479\n"
     ]
    },
    {
     "name": "stderr",
     "output_type": "stream",
     "text": [
      "No reactions in model\n",
      "No objective coefficients in model. Unclear what should be optimized\n"
     ]
    },
    {
     "name": "stdout",
     "output_type": "stream",
     "text": [
      "Pathways to keep are: {'Glycerophospholipid metabolism', 'Indole alkaloid biosynthesis', 'Arginine and proline metabolism', 'Isoquinoline alkaloid biosynthesis', 'Steroid degradation', 'Biosynthesis of vancomycin group antibiotics', 'Lipoic acid metabolism', 'Lysine degradation', 'Isoflavonoid biosynthesis', 'Inositol phosphate metabolism', 'Fructose and mannose metabolism', 'Primary bile acid biosynthesis', 'Porphyrin metabolism', 'Neomycin, kanamycin and gentamicin biosynthesis', 'Carbon fixation pathways in prokaryotes', 'Streptomycin biosynthesis', 'Arginine biosynthesis', 'Vitamin B6 metabolism', 'Ubiquinone and other terpenoid-quinone biosynthesis', 'Selenocompound metabolism', 'Pantothenate and CoA biosynthesis', 'Biosynthesis of nucleotide sugars', 'beta-Alanine metabolism', 'Dioxin degradation', 'Steroid hormone biosynthesis', 'Starch and sucrose metabolism', 'Monobactam biosynthesis', 'Secondary bile acid biosynthesis', 'Carbon fixation in photosynthetic organisms', 'Galactose metabolism', 'Steroid biosynthesis', 'Histidine metabolism', 'Aminoacyl-tRNA biosynthesis', 'Pentose phosphate pathway', 'Insect hormone biosynthesis', 'Pyruvate metabolism', 'Valine, leucine and isoleucine degradation', 'alpha-Linolenic acid metabolism', 'Aflatoxin biosynthesis', 'Terpenoid backbone biosynthesis', 'Cyanoamino acid metabolism', 'Biosynthesis of siderophore group nonribosomal peptides', 'Tetracyclines', 'Phosphonate and phosphinate metabolism', '2-Oxocarboxylic acid metabolism', 'Fatty acid biosynthesis', 'Caffeine metabolism', 'Anthocyanin biosynthesis', 'Tyrosine metabolism', 'Ether lipid metabolism', 'Indole diterpene alkaloid biosynthesis', 'Retinol metabolism', 'Nicotinate and nicotinamide metabolism', 'Glycosylphosphatidylinositol (GPI)-anchor biosynthesis', 'Glycine, serine and threonine metabolism', 'Ascorbate and aldarate metabolism', 'Cysteine and methionine metabolism', 'Clavulanic acid biosynthesis', 'Glucosinolate biosynthesis', 'Non enzymatic', 'Linoleic acid metabolism', 'Purine metabolism', 'Biosynthesis of type II polyketide products', 'Spontaneous', 'Propanoate metabolism', 'Stilbenoid, diarylheptanoid and gingerol biosynthesis', 'Biosynthesis of various antibiotics', 'Thiamine metabolism', 'Valine, leucine and isoleucine biosynthesis', 'Citrate cycle (TCA cycle)', 'Benzoxazinoid biosynthesis', 'Penicillins', 'Taurine and hypotaurine metabolism', 'Nitrogen metabolism', 'Sesquiterpenoid and triterpenoid biosynthesis', 'One carbon pool by folate', 'Biosynthesis of various alkaloids', 'Biosynthesis of 12-, 14- and 16-membered macrolides', 'Phenylalanine metabolism', 'Biosynthesis of various plant secondary metabolites', 'Tetracycline biosynthesis', 'Fatty acid elongation', 'C5-Branched dibasic acid metabolism', 'Peptidoglycan biosynthesis', 'Monoterpenoid biosynthesis', 'Flavone and flavonol biosynthesis', 'Chlorocyclohexane and chlorobenzene degradation', 'Diterpenoid biosynthesis', 'Cephalosporins - parenteral agents', 'Lipopolysaccharide biosynthesis', 'Tropane, piperidine and pyridine alkaloid biosynthesis', 'Pentose and glucuronate interconversions', 'Limonene degradation', 'Phenylpropanoid biosynthesis', 'Zeatin biosynthesis', 'Rifamycins', 'Geraniol degradation', 'Glycolysis / Gluconeogenesis', 'Benzoate degradation', 'D-Amino acid metabolism', 'Eicosanoids', 'Biosynthesis of amino acids', 'Ethylbenzene degradation', 'Sulfur metabolism', 'Alanine, aspartate and glutamate metabolism', 'Phenylalanine, tyrosine and tryptophan biosynthesis', 'Riboflavin metabolism', 'Betalain biosynthesis', 'Sphingolipid metabolism', 'Pinene, camphor and geraniol degradation', 'Brassinosteroid biosynthesis', 'Naphthalene degradation', 'Biosynthesis of various other secondary metabolites', 'Drug metabolism - other enzymes', 'Styrene degradation', 'Prodigiosin biosynthesis', 'Penicillin and cephalosporin biosynthesis', 'Lysine biosynthesis', 'Xylene degradation', 'Glutathione metabolism', 'Glyoxylate and dicarboxylate metabolism', 'Biosynthesis of type II polyketide backbone', 'Tryptophan metabolism', 'Oxidative phosphorylation', 'Biosynthesis of enediyne antibiotics', 'Phenazine biosynthesis', 'Fatty acid degradation', 'Complement and coagulation cascades', 'Arachidonic acid metabolism', 'Nucleotide metabolism', 'Caprolactam degradation', 'Macrolides and ketolides', 'Acarbose and validamycin biosynthesis', 'Carotenoid biosynthesis', 'Novobiocin biosynthesis', 'Staurosporine biosynthesis', 'Polycyclic aromatic hydrocarbon degradation', 'Amino sugar and nucleotide sugar metabolism', 'Aminoglycosides', 'Methane metabolism', 'Carbapenem biosynthesis', 'Glycerolipid metabolism', 'Butanoate metabolism', 'Flavonoid biosynthesis', 'Polyketide sugar unit biosynthesis', 'Local analgesics', 'Biosynthesis of ansamycins', 'Aminobenzoate degradation', 'Pyrimidine metabolism', 'Folate biosynthesis', 'Biotin metabolism', 'N-Glycan biosynthesis', 'Fatty acid metabolism'}\n",
      "Number of reactions in temporary universal model: 6653\n"
     ]
    },
    {
     "name": "stderr",
     "output_type": "stream",
     "text": [
      "'' is not a valid SBML 'SId'.\n"
     ]
    },
    {
     "name": "stdout",
     "output_type": "stream",
     "text": [
      "Temporary universal model file successfully created.\n",
      "Temporary universal model file path: ../data/draft_synechocystis/temporary_universal_model.xml\n"
     ]
    },
    {
     "name": "stderr",
     "output_type": "stream",
     "text": [
      "No objective coefficients in model. Unclear what should be optimized\n"
     ]
    }
   ],
   "source": [
    "# run gf now\n",
    "from src.gap_filling_dl.biomeneco.gapfiller import GapFiller\n",
    "gf = GapFiller.from_folder('../data/draft_synechocystis/', temporary_universal_model=True, objective_function_id=\"e_Biomass_in\")"
   ],
   "metadata": {
    "collapsed": false,
    "pycharm": {
     "name": "#%%\n"
    },
    "ExecuteTime": {
     "end_time": "2023-07-11T09:17:04.455099300Z",
     "start_time": "2023-07-11T09:16:03.420319700Z"
    }
   }
  },
  {
   "cell_type": "code",
   "execution_count": 4,
   "outputs": [
    {
     "name": "stderr",
     "output_type": "stream",
     "text": [
      "Warning: R_EX_C00988__dra listOfProducts=None\n",
      "Warning: R_EX_C01327__dra listOfProducts=None\n",
      "Warning: R_EX_C00008__dra listOfProducts=None\n",
      "Warning: R_EX_C00001__dra listOfProducts=None\n",
      "Warning: R_EX_C00197__dra listOfProducts=None\n",
      "Warning: R_EX_C00244__dra listOfProducts=None\n",
      "Warning: R_EX_C00025__dra listOfProducts=None\n",
      "Warning: R_EX_C00236__dra listOfProducts=None\n",
      "Warning: R_EX_C00631__dra listOfProducts=None\n",
      "Warning: R_EX_C00076__dra listOfProducts=None\n",
      "Warning: R_EX_C01290__dra listOfProducts=None\n",
      "Warning: R_EX_C04046__dra listOfProducts=None\n",
      "Warning: R_EX_C00295__dra listOfProducts=None\n",
      "Warning: R_EX_C00074__dra listOfProducts=None\n",
      "Warning: R_EX_e_Biomass__dra listOfProducts=None\n",
      "Warning: R_EX_C00033__dra listOfProducts=None\n",
      "Warning: R_EX_C00704__dra listOfProducts=None\n",
      "Warning: R_EX_C14818__dra listOfProducts=None\n",
      "Warning: R_EX_C07756__dra listOfProducts=None\n",
      "Warning: R_EX_C00041__dra listOfProducts=None\n",
      "Warning: R_EX_C01674__dra listOfProducts=None\n",
      "Warning: R_EX_C00011__dra listOfProducts=None\n",
      "Warning: R_EX_C13508__dra listOfProducts=None\n",
      "Warning: R_EX_C04911__dra listOfProducts=None\n",
      "Warning: R_EX_C03912__dra listOfProducts=None\n",
      "Warning: R_EX_C00191__dra listOfProducts=None\n",
      "Warning: R_EX_C01190__dra listOfProducts=None\n",
      "Warning: R_EX_C04927__dra listOfProducts=None\n",
      "Warning: R_EX_C05080__dra listOfProducts=None\n",
      "Warning: R_EX_C00305__dra listOfProducts=None\n",
      "Warning: R_EX_C00007__dra listOfProducts=None\n",
      "Warning: R_EX_C00283__dra listOfProducts=None\n",
      "Warning: R_EX_C00148__dra listOfProducts=None\n",
      "Warning: R_EX_C01330__dra listOfProducts=None\n",
      "Warning: R_EX_C00217__dra listOfProducts=None\n",
      "Warning: R_EX_C00014__dra listOfProducts=None\n",
      "Warning: R_EX_C00175__dra listOfProducts=None\n",
      "Warning: R_EX_C06697__dra listOfProducts=None\n",
      "Warning: R_EX_C00344__dra listOfProducts=None\n",
      "Warning: R_EX_C19843__dra listOfProducts=None\n",
      "Warning: R_EX_C00037__dra listOfProducts=None\n",
      "Warning: R_EX_C00504__dra listOfProducts=None\n",
      "Warning: R_EX_C03272__dra listOfProducts=None\n",
      "Warning: R_EX_C00416__dra listOfProducts=None\n",
      "Warning: R_EX_C00135__dra listOfProducts=None\n",
      "Warning: R_EX_C00469__dra listOfProducts=None\n",
      "Warning: R_EX_C00047__dra listOfProducts=None\n",
      "Warning: R_EX_C07054__dra listOfProducts=None\n",
      "Warning: R_EX_C00993__dra listOfProducts=None\n",
      "Warning: R_EX_C00080__dra listOfProducts=None\n",
      "Warning: R_EX_C00013__dra listOfProducts=None\n",
      "Warning: R_EX_C00395__dra listOfProducts=None\n",
      "Warning: R_EX_C06232__dra listOfProducts=None\n",
      "Warning: R_EX_C01419__dra listOfProducts=None\n",
      "Warning: R_EX_C10906__dra listOfProducts=None\n",
      "Warning: R_EX_C00088__dra listOfProducts=None\n",
      "Warning: R_EX_C00031__dra listOfProducts=None\n",
      "Warning: R_EX_C19610__dra listOfProducts=None\n",
      "Warning: R_EX_C00064__dra listOfProducts=None\n",
      "Warning: R_EX_C00669__dra listOfProducts=None\n",
      "Warning: R_EX_C00320__dra listOfProducts=None\n",
      "Warning: R_EX_C05684__dra listOfProducts=None\n",
      "Warning: R_EX_C00038__dra listOfProducts=None\n",
      "Warning: R_EX_C04737__dra listOfProducts=None\n",
      "Warning: R_EX_C01342__dra listOfProducts=None\n",
      "Warning: R_EX_C04730__dra listOfProducts=None\n",
      "Warning: R_EX_C00089__dra listOfProducts=None\n",
      "Warning: R_EX_C00065__dra listOfProducts=None\n",
      "Warning: R_EX_C05697__dra listOfProducts=None\n",
      "Warning: R_EX_C01181__dra listOfProducts=None\n",
      "Warning: R_EX_C00221__dra listOfProducts=None\n",
      "Warning: R_EX_C04884__dra listOfProducts=None\n",
      "Warning: R_EX_C00536__dra listOfProducts=None\n",
      "Warning: R_EX_C00208__dra listOfProducts=None\n",
      "Warning: R_EX_C00059__dra listOfProducts=None\n",
      "Warning: R_EX_C00062__dra listOfProducts=None\n",
      "Warning: R_EX_C00002__dra listOfProducts=None\n",
      "Warning: R_EX_C14819__dra listOfProducts=None\n",
      "Warning: R_EX_C06037__dra listOfProducts=None\n",
      "Warning: R_EX_C00288__dra listOfProducts=None\n",
      "Warning: R_EX_C00022__dra listOfProducts=None\n",
      "Warning: R_EX_C00238__dra listOfProducts=None\n",
      "Warning: R_EX_C00205__dra listOfProducts=None\n",
      "Warning: R_EX_C11924__dra listOfProducts=None\n",
      "Warning: R_EX_C00258__dra listOfProducts=None\n",
      "Warning: R_EX_C00009__dra listOfProducts=None\n"
     ]
    },
    {
     "ename": "KeyboardInterrupt",
     "evalue": "",
     "output_type": "error",
     "traceback": [
      "\u001B[1;31m---------------------------------------------------------------------------\u001B[0m",
      "\u001B[1;31mKeyboardInterrupt\u001B[0m                         Traceback (most recent call last)",
      "    \u001B[1;31m[... skipping hidden 1 frame]\u001B[0m\n",
      "Cell \u001B[1;32mIn[4], line 1\u001B[0m\n\u001B[1;32m----> 1\u001B[0m res \u001B[38;5;241m=\u001B[39m \u001B[43mgf\u001B[49m\u001B[38;5;241;43m.\u001B[39;49m\u001B[43mrun\u001B[49m\u001B[43m(\u001B[49m\u001B[38;5;28;43;01mFalse\u001B[39;49;00m\u001B[43m,\u001B[49m\u001B[43m \u001B[49m\u001B[43mwrite_to_file\u001B[49m\u001B[38;5;241;43m=\u001B[39;49m\u001B[38;5;28;43;01mTrue\u001B[39;49;00m\u001B[43m,\u001B[49m\u001B[43m \u001B[49m\u001B[43mremoved_reactions\u001B[49m\u001B[38;5;241;43m=\u001B[39;49m\u001B[38;5;28;43;01mNone\u001B[39;49;00m\u001B[43m,\u001B[49m\u001B[43m \u001B[49m\u001B[43mobjective_function_id\u001B[49m\u001B[38;5;241;43m=\u001B[39;49m\u001B[38;5;124;43m\"\u001B[39;49m\u001B[38;5;124;43me_Biomass_in\u001B[39;49m\u001B[38;5;124;43m\"\u001B[39;49m\u001B[43m)\u001B[49m\n",
      "File \u001B[1;32m~\\PythonProjects\\gap_filling_dl\\src\\gap_filling_dl\\biomeneco\\gapfiller.py:120\u001B[0m, in \u001B[0;36mrun\u001B[1;34m(self, optimize, write_to_file, removed_reactions, objective_function_id, **kwargs)\u001B[0m\n\u001B[0;32m    119\u001B[0m print(\"Getting minimal completion...\")\n\u001B[1;32m--> 120\u001B[0m # Call the get_minimal_completion_size function this order: draftnet, repairnet, seeds, targets)\n\u001B[0;32m    121\u001B[0m self.minimal_completion = get_minimal_completion_size(draftnet, repairnet, seeds, targets)\n",
      "File \u001B[1;32m~\\gap_filling_dl\\lib\\site-packages\\meneco\\query.py:84\u001B[0m, in \u001B[0;36mget_minimal_completion_size\u001B[1;34m(draft, repairnet, seeds, targets)\u001B[0m\n\u001B[0;32m     83\u001B[0m models \u001B[38;5;241m=\u001B[39m clyngor\u001B[38;5;241m.\u001B[39msolve(prg, options\u001B[38;5;241m=\u001B[39mco, use_clingo_module\u001B[38;5;241m=\u001B[39m\u001B[38;5;28;01mFalse\u001B[39;00m)\n\u001B[1;32m---> 84\u001B[0m \u001B[38;5;28;01mfor\u001B[39;00m model \u001B[38;5;129;01min\u001B[39;00m models\u001B[38;5;241m.\u001B[39mdiscard_quotes\u001B[38;5;241m.\u001B[39mby_arity:\n\u001B[0;32m     85\u001B[0m     optimum \u001B[38;5;241m=\u001B[39m model\n",
      "File \u001B[1;32m~\\gap_filling_dl\\lib\\site-packages\\clyngor\\answers.py:217\u001B[0m, in \u001B[0;36mAnswers.__iter__\u001B[1;34m(self)\u001B[0m\n\u001B[0;32m    216\u001B[0m \u001B[38;5;250m\u001B[39m\u001B[38;5;124;03m\"\"\"Yield answer sets\"\"\"\u001B[39;00m\n\u001B[1;32m--> 217\u001B[0m \u001B[38;5;28;01mfor\u001B[39;00m answer_set, optimization, optimality, answer_number \u001B[38;5;129;01min\u001B[39;00m \u001B[38;5;28mself\u001B[39m\u001B[38;5;241m.\u001B[39m_answers:\n\u001B[0;32m    218\u001B[0m     answer_set \u001B[38;5;241m=\u001B[39m \u001B[38;5;28mtuple\u001B[39m(\u001B[38;5;28mself\u001B[39m\u001B[38;5;241m.\u001B[39m_parse_answer(answer_set))\n",
      "File \u001B[1;32m~\\gap_filling_dl\\lib\\site-packages\\clyngor\\solving.py:214\u001B[0m, in \u001B[0;36m_gen_answers\u001B[1;34m(stdout, stderr, statistics, error_on_warning)\u001B[0m\n\u001B[0;32m    213\u001B[0m optimization, optimum_found \u001B[38;5;241m=\u001B[39m \u001B[38;5;28;01mNone\u001B[39;00m, \u001B[38;5;28;01mFalse\u001B[39;00m\n\u001B[1;32m--> 214\u001B[0m \u001B[38;5;28;01mfor\u001B[39;00m ptype, payload \u001B[38;5;129;01min\u001B[39;00m parse_clasp_output(stdout, yield_stats\u001B[38;5;241m=\u001B[39m\u001B[38;5;28;01mTrue\u001B[39;00m):\n\u001B[0;32m    215\u001B[0m     \u001B[38;5;28;01mif\u001B[39;00m ptype \u001B[38;5;241m==\u001B[39m \u001B[38;5;124m'\u001B[39m\u001B[38;5;124manswer_number\u001B[39m\u001B[38;5;124m'\u001B[39m:\n",
      "File \u001B[1;32m~\\gap_filling_dl\\lib\\site-packages\\clyngor\\parsing.py:233\u001B[0m, in \u001B[0;36mparse_clasp_output\u001B[1;34m(output, yield_stats, yield_opti, yield_info, yield_prgs)\u001B[0m\n\u001B[0;32m    232\u001B[0m \u001B[38;5;28;01mtry\u001B[39;00m:\n\u001B[1;32m--> 233\u001B[0m     line \u001B[38;5;241m=\u001B[39m \u001B[38;5;28;43mnext\u001B[39;49m\u001B[43m(\u001B[49m\u001B[43moutput\u001B[49m\u001B[43m)\u001B[49m\n\u001B[0;32m    234\u001B[0m \u001B[38;5;28;01mexcept\u001B[39;00m \u001B[38;5;167;01mStopIteration\u001B[39;00m:\n",
      "File \u001B[1;32m~\\gap_filling_dl\\lib\\site-packages\\clyngor\\solving.py:114\u001B[0m, in \u001B[0;36m<genexpr>\u001B[1;34m(.0)\u001B[0m\n\u001B[0;32m    113\u001B[0m     clingo\u001B[38;5;241m.\u001B[39mstdin\u001B[38;5;241m.\u001B[39mclose()\n\u001B[1;32m--> 114\u001B[0m stdout \u001B[38;5;241m=\u001B[39m (\u001B[43mline\u001B[49m\u001B[38;5;241;43m.\u001B[39;49m\u001B[43mdecode\u001B[49m() \u001B[38;5;28;01mfor\u001B[39;00m line \u001B[38;5;129;01min\u001B[39;00m clingo\u001B[38;5;241m.\u001B[39mstdout)\n\u001B[0;32m    115\u001B[0m stderr \u001B[38;5;241m=\u001B[39m (line\u001B[38;5;241m.\u001B[39mdecode() \u001B[38;5;28;01mfor\u001B[39;00m line \u001B[38;5;129;01min\u001B[39;00m clingo\u001B[38;5;241m.\u001B[39mstderr)\n",
      "\u001B[1;31mKeyboardInterrupt\u001B[0m: ",
      "\nDuring handling of the above exception, another exception occurred:\n",
      "\u001B[1;31mKeyboardInterrupt\u001B[0m                         Traceback (most recent call last)",
      "\u001B[1;31mKeyboardInterrupt\u001B[0m: "
     ]
    }
   ],
   "source": [
    "res = gf.run(False, write_to_file=True, removed_reactions=None, objective_function_id=\"e_Biomass_in\")"
   ],
   "metadata": {
    "collapsed": false,
    "pycharm": {
     "name": "#%%\n"
    },
    "ExecuteTime": {
     "end_time": "2023-07-11T09:22:34.822316500Z",
     "start_time": "2023-07-11T09:17:47.519507500Z"
    }
   }
  }
 ],
 "metadata": {
  "kernelspec": {
   "display_name": "Python 3",
   "language": "python",
   "name": "python3"
  },
  "language_info": {
   "codemirror_mode": {
    "name": "ipython",
    "version": 2
   },
   "file_extension": ".py",
   "mimetype": "text/x-python",
   "name": "python",
   "nbconvert_exporter": "python",
   "pygments_lexer": "ipython2",
   "version": "2.7.6"
  }
 },
 "nbformat": 4,
 "nbformat_minor": 0
}
