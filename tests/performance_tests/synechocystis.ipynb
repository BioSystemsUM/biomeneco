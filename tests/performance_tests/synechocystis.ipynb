{
 "cells": [
  {
   "cell_type": "code",
   "execution_count": 1,
   "outputs": [
    {
     "name": "stdout",
     "output_type": "stream",
     "text": [
      "Checking file: /Users/josediogomoura/gap_filling_dl/tests/data/draft_synechocystis/universal_model.xml\n",
      "Found universal model.\n",
      "Checking file: /Users/josediogomoura/gap_filling_dl/tests/data/draft_synechocystis/temporary_universal_model.xml\n",
      "Found temporary universal model.\n",
      "Checking file: /Users/josediogomoura/gap_filling_dl/tests/data/draft_synechocystis/draft_synechocystis_targets.xml\n",
      "Checking file: /Users/josediogomoura/gap_filling_dl/tests/data/draft_synechocystis/universal_model_compartmentalized.xml\n",
      "Found compartmentalized universal model.\n",
      "Checking file: /Users/josediogomoura/gap_filling_dl/tests/data/draft_synechocystis/model_synechocystis_1.xml\n",
      "Checking file: /Users/josediogomoura/gap_filling_dl/tests/data/draft_synechocystis/draft_synechocystis_seeds.xml\n",
      "Checking file: /Users/josediogomoura/gap_filling_dl/tests/data/draft_synechocystis/model_synechocystis.xml\n",
      "model_file: model_synechocystis.xml\n",
      "seeds_file: draft_synechocystis_seeds.xml\n",
      "targets_file: draft_synechocystis_targets.xml\n",
      "universal_model_file: temporary_universal_model.xml\n"
     ]
    },
    {
     "name": "stderr",
     "output_type": "stream",
     "text": [
      "1148 does not conform to 'http(s)://identifiers.org/collection/id' or'http(s)://identifiers.org/COLLECTION:id\n",
      "'' is not a valid SBML 'SId'.\n",
      "No objective coefficients in model. Unclear what should be optimized\n",
      "'' is not a valid SBML 'SId'.\n",
      "No objective coefficients in model. Unclear what should be optimized\n"
     ]
    },
    {
     "name": "stdout",
     "output_type": "stream",
     "text": [
      "Cloned model successfully created.\n"
     ]
    }
   ],
   "source": [
    "from src.gap_filling_dl.biomeneco.gapfiller import GapFiller\n",
    "\n",
    "gf = GapFiller.from_folder('/Users/josediogomoura/gap_filling_dl/tests/data/draft_synechocystis', temporary_universal_model=True, objective_function_id=\"e_Biomass__cytop\")"
   ],
   "metadata": {
    "collapsed": false,
    "pycharm": {
     "name": "#%%\n"
    }
   }
  },
  {
   "cell_type": "code",
   "execution_count": 3,
   "outputs": [
    {
     "name": "stdout",
     "output_type": "stream",
     "text": [
      "['C00032__cytop', 'C00016__cytop', 'C00378__cytop', 'C00061__cytop', 'C00018__cytop', 'C00019__cytop', 'C00255__cytop', 'C00458__cytop', 'C00097__cytop', 'C00079__cytop', 'C00062__cytop', 'C00148__cytop', 'C00047__cytop', 'C00073__cytop', 'C00135__cytop', 'C00037__cytop', 'C00123__cytop', 'C00152__cytop', 'C00082__cytop']\n"
     ]
    },
    {
     "data": {
      "text/plain": "73353"
     },
     "execution_count": 3,
     "metadata": {},
     "output_type": "execute_result"
    }
   ],
   "source": [
    "gf.identify_dead_end_metabolites_with_bioiso(objective_function_id=\"e_Biomass__cytop\")\n",
    "print(gf.dead_ends)\n",
    "len(gf.universal_model_compartmentalized.reactions)"
   ],
   "metadata": {
    "collapsed": false,
    "pycharm": {
     "name": "#%%\n"
    }
   }
  },
  {
   "cell_type": "code",
   "execution_count": 5,
   "outputs": [
    {
     "name": "stderr",
     "output_type": "stream",
     "text": [
      "Ignoring reaction 'R00161__cytop' since it already exists.\n",
      "Ignoring reaction 'R12539__cytop' since it already exists.\n",
      "Ignoring reaction 'R00160__cytop' since it already exists.\n",
      "Ignoring reaction 'R00278__cytop' since it already exists.\n",
      "Ignoring reaction 'R00277__cytop' since it already exists.\n",
      "Ignoring reaction 'R04994__cytop' since it already exists.\n",
      "Ignoring reaction 'R03472__cytop' since it already exists.\n",
      "Ignoring reaction 'R03950__cytop' since it already exists.\n",
      "Ignoring reaction 'R10523__cytop' since it already exists.\n",
      "Ignoring reaction 'R07236__cytop' since it already exists.\n",
      "Ignoring reaction 'R12423__cytop' since it already exists.\n",
      "Ignoring reaction 'R05813__cytop' since it already exists.\n",
      "Ignoring reaction 'R08769__cytop' since it already exists.\n",
      "Ignoring reaction 'R06269__cytop' since it already exists.\n",
      "Ignoring reaction 'R04237__cytop' since it already exists.\n",
      "Ignoring reaction 'R06427__cytop' since it already exists.\n",
      "Ignoring reaction 'R06270__cytop' since it already exists.\n",
      "Ignoring reaction 'R04988__cytop' since it already exists.\n",
      "Ignoring reaction 'R12161__cytop' since it already exists.\n",
      "Ignoring reaction 'R05149__cytop' since it already exists.\n",
      "Ignoring reaction 'R07504__cytop' since it already exists.\n",
      "Ignoring reaction 'R10492__cytop' since it already exists.\n",
      "Ignoring reaction 'R12002__cytop' since it already exists.\n",
      "Ignoring reaction 'R07501__cytop' since it already exists.\n",
      "Ignoring reaction 'R07237__cytop' since it already exists.\n",
      "Ignoring reaction 'R06895__cytop' since it already exists.\n",
      "Ignoring reaction 'R10654__cytop' since it already exists.\n",
      "Ignoring reaction 'R10710__cytop' since it already exists.\n",
      "Ignoring reaction 'R00177__cytop' since it already exists.\n",
      "Ignoring reaction 'R12162__cytop' since it already exists.\n",
      "Ignoring reaction 'R10491__cytop' since it already exists.\n",
      "Ignoring reaction 'R10709__cytop' since it already exists.\n",
      "Ignoring reaction 'R10524__cytop' since it already exists.\n",
      "Ignoring reaction 'R01169__cytop' since it already exists.\n",
      "Ignoring reaction 'R12424__cytop' since it already exists.\n",
      "Ignoring reaction 'R07238__cytop' since it already exists.\n",
      "Ignoring reaction 'R06268__cytop' since it already exists.\n",
      "Ignoring reaction 'R12657__cytop' since it already exists.\n",
      "Ignoring reaction 'R03194__cytop' since it already exists.\n",
      "Ignoring reaction 'R04436__cytop' since it already exists.\n",
      "Ignoring reaction 'R00550__cytop' since it already exists.\n",
      "Ignoring reaction 'R00549__cytop' since it already exists.\n",
      "Ignoring reaction 'R08574__cytop' since it already exists.\n",
      "Ignoring reaction 'R00548__cytop' since it already exists.\n",
      "Ignoring reaction 'R00066__cytop' since it already exists.\n",
      "Ignoring reaction 'R02325__cytop' since it already exists.\n",
      "Ignoring reaction 'R02326__cytop' since it already exists.\n",
      "Ignoring reaction 'R00895__cytop' since it already exists.\n",
      "Ignoring reaction 'R03650__cytop' since it already exists.\n",
      "Ignoring reaction 'R07460__cytop' since it already exists.\n",
      "Ignoring reaction 'R00896__cytop' since it already exists.\n",
      "Ignoring reaction 'R07274__cytop' since it already exists.\n",
      "Ignoring reaction 'R00897__cytop' since it already exists.\n",
      "Ignoring reaction 'R00899__cytop' since it already exists.\n",
      "Ignoring reaction 'R04859__cytop' since it already exists.\n",
      "Ignoring reaction 'R10495__cytop' since it already exists.\n",
      "Ignoring reaction 'R00698__cytop' since it already exists.\n",
      "Ignoring reaction 'R00694__cytop' since it already exists.\n",
      "Ignoring reaction 'R03660__cytop' since it already exists.\n",
      "Ignoring reaction 'R00566__cytop' since it already exists.\n",
      "Ignoring reaction 'R09593__cytop' since it already exists.\n",
      "Ignoring reaction 'R03646__cytop' since it already exists.\n",
      "Ignoring reaction 'R12929__cytop' since it already exists.\n",
      "Ignoring reaction 'R01086__cytop' since it already exists.\n",
      "Ignoring reaction 'R01248__cytop' since it already exists.\n",
      "Ignoring reaction 'R03661__cytop' since it already exists.\n",
      "Ignoring reaction 'R01251__cytop' since it already exists.\n",
      "Ignoring reaction 'R03658__cytop' since it already exists.\n",
      "Ignoring reaction 'R12506__cytop' since it already exists.\n",
      "Ignoring reaction 'R03659__cytop' since it already exists.\n",
      "Ignoring reaction 'R00649__cytop' since it already exists.\n",
      "Ignoring reaction 'R03472__cytop' since it already exists.\n",
      "Ignoring reaction 'R08588__cytop' since it already exists.\n",
      "Ignoring reaction 'R09637__cytop' since it already exists.\n",
      "Ignoring reaction 'R10667__cytop' since it already exists.\n",
      "Ignoring reaction 'R08873__cytop' since it already exists.\n",
      "Ignoring reaction 'R12423__cytop' since it already exists.\n",
      "Ignoring reaction 'R11293__cytop' since it already exists.\n",
      "Ignoring reaction 'R06269__cytop' since it already exists.\n",
      "Ignoring reaction 'R06270__cytop' since it already exists.\n",
      "Ignoring reaction 'R12161__cytop' since it already exists.\n",
      "Ignoring reaction 'R08875__cytop' since it already exists.\n",
      "Ignoring reaction 'R12098__cytop' since it already exists.\n",
      "Ignoring reaction 'R12002__cytop' since it already exists.\n",
      "Ignoring reaction 'R12238__cytop' since it already exists.\n",
      "Ignoring reaction 'R07396__cytop' since it already exists.\n",
      "Ignoring reaction 'R08893__cytop' since it already exists.\n",
      "Ignoring reaction 'R00650__cytop' since it already exists.\n",
      "Ignoring reaction 'R08862__cytop' since it already exists.\n",
      "Ignoring reaction 'R12724__cytop' since it already exists.\n",
      "Ignoring reaction 'R06895__cytop' since it already exists.\n",
      "Ignoring reaction 'R11294__cytop' since it already exists.\n",
      "Ignoring reaction 'R11484__cytop' since it already exists.\n",
      "Ignoring reaction 'R12569__cytop' since it already exists.\n",
      "Ignoring reaction 'R00946__cytop' since it already exists.\n",
      "Ignoring reaction 'R00177__cytop' since it already exists.\n",
      "Ignoring reaction 'R12162__cytop' since it already exists.\n",
      "Ignoring reaction 'R11700__cytop' since it already exists.\n",
      "Ignoring reaction 'R12239__cytop' since it already exists.\n",
      "Ignoring reaction 'R09639__cytop' since it already exists.\n",
      "Ignoring reaction 'R11710__cytop' since it already exists.\n",
      "Ignoring reaction 'R12424__cytop' since it already exists.\n",
      "Ignoring reaction 'R10437__cytop' since it already exists.\n",
      "Ignoring reaction 'R06268__cytop' since it already exists.\n",
      "Ignoring reaction 'R10523__cytop' since it already exists.\n",
      "Ignoring reaction 'R11015__cytop' since it already exists.\n",
      "Ignoring reaction 'R01159__cytop' since it already exists.\n",
      "Ignoring reaction 'R03655__cytop' since it already exists.\n",
      "Ignoring reaction 'R01169__cytop' since it already exists.\n",
      "Ignoring reaction 'R01163__cytop' since it already exists.\n",
      "Ignoring reaction 'R10686__cytop' since it already exists.\n",
      "Ignoring reaction 'R00945__cytop' since it already exists.\n",
      "Ignoring reaction 'R10060__cytop' since it already exists.\n",
      "Ignoring reaction 'R00367__cytop' since it already exists.\n",
      "Ignoring reaction 'R00497__cytop' since it already exists.\n",
      "Ignoring reaction 'R10062__cytop' since it already exists.\n",
      "Ignoring reaction 'R00365__cytop' since it already exists.\n",
      "Ignoring reaction 'R00565__cytop' since it already exists.\n",
      "Ignoring reaction 'R03425__cytop' since it already exists.\n",
      "Ignoring reaction 'R04144__cytop' since it already exists.\n",
      "Ignoring reaction 'R03654__cytop' since it already exists.\n",
      "Ignoring reaction 'R10994__cytop' since it already exists.\n",
      "Ignoring reaction 'R00652__cytop' since it already exists.\n",
      "Ignoring reaction 'R09718__cytop' since it already exists.\n",
      "Ignoring reaction 'R00899__cytop' since it already exists.\n",
      "Ignoring reaction 'R09099__cytop' since it already exists.\n",
      "Ignoring reaction 'R10964__cytop' since it already exists.\n",
      "Ignoring reaction 'R08825__cytop' since it already exists.\n",
      "Ignoring reaction 'R00735__cytop' since it already exists.\n",
      "Ignoring reaction 'R12161__cytop' since it already exists.\n",
      "Ignoring reaction 'R02918__cytop' since it already exists.\n",
      "Ignoring reaction 'R00734__cytop' since it already exists.\n",
      "Ignoring reaction 'R01795__cytop' since it already exists.\n",
      "Ignoring reaction 'R07211__cytop' since it already exists.\n",
      "Ignoring reaction 'R12540__cytop' since it already exists.\n"
     ]
    }
   ],
   "source": [
    "new_model = gf.deal_dead_ends(dead_ends=gf.dead_ends)"
   ],
   "metadata": {
    "collapsed": false,
    "pycharm": {
     "name": "#%%\n"
    }
   }
  },
  {
   "cell_type": "code",
   "execution_count": 7,
   "outputs": [
    {
     "name": "stdout",
     "output_type": "stream",
     "text": [
      "Using COBRApy default solver, namely glpk\n"
     ]
    },
    {
     "data": {
      "text/plain": "[('C00032__cytop', 'C_cytop'), ('C00123__cytop', 'C_cytop')]"
     },
     "execution_count": 7,
     "metadata": {},
     "output_type": "execute_result"
    }
   ],
   "source": [
    "from src.gap_filling_dl.biomeneco.model import Model\n",
    "\n",
    "new_model = Model(new_model, objective_function_id='e_Biomass__cytop')\n",
    "new_model.targets"
   ],
   "metadata": {
    "collapsed": false,
    "pycharm": {
     "name": "#%%\n"
    }
   }
  },
  {
   "cell_type": "code",
   "execution_count": 9,
   "outputs": [
    {
     "name": "stdout",
     "output_type": "stream",
     "text": [
      "Biomass production: 0.0\n"
     ]
    }
   ],
   "source": [
    "# print the biomass production of the model\n",
    "solution = new_model.optimize()\n",
    "print('Biomass production:', solution.objective_value)"
   ],
   "metadata": {
    "collapsed": false,
    "pycharm": {
     "name": "#%%\n"
    }
   }
  },
  {
   "cell_type": "code",
   "execution_count": 10,
   "outputs": [
    {
     "name": "stderr",
     "output_type": "stream",
     "text": [
      "Could not identify an external compartment by name and choosing one with the most boundary reactions. That might be complete nonsense or change suddenly. Consider renaming your compartments using `Model.compartments` to fix this.\n"
     ]
    },
    {
     "data": {
      "text/plain": "[('C00001__extr', 'C_extr'),\n ('C00244__extr', 'C_extr'),\n ('C14818__extr', 'C_extr'),\n ('C00011__extr', 'C_extr'),\n ('C00305__extr', 'C_extr'),\n ('C00007__extr', 'C_extr'),\n ('C01330__extr', 'C_extr'),\n ('C00014__extr', 'C_extr'),\n ('C00080__extr', 'C_extr'),\n ('C00031__extr', 'C_extr'),\n ('C00059__extr', 'C_extr'),\n ('C00205__extr', 'C_extr'),\n ('C00009__extr', 'C_extr')]"
     },
     "execution_count": 10,
     "metadata": {},
     "output_type": "execute_result"
    }
   ],
   "source": [
    "new_model.seeds"
   ],
   "metadata": {
    "collapsed": false,
    "pycharm": {
     "name": "#%%\n"
    }
   }
  },
  {
   "cell_type": "code",
   "execution_count": 11,
   "outputs": [
    {
     "name": "stderr",
     "output_type": "stream",
     "text": [
      "Could not identify an external compartment by name and choosing one with the most boundary reactions. That might be complete nonsense or change suddenly. Consider renaming your compartments using `Model.compartments` to fix this.\n"
     ]
    },
    {
     "name": "stdout",
     "output_type": "stream",
     "text": [
      "Using COBRApy default solver, namely glpk\n"
     ]
    }
   ],
   "source": [
    "new_model.to_sbml('new_model', '/Users/josediogomoura/gap_filling_dl/tests/data/new_model', targets=True, seeds=True)"
   ],
   "metadata": {
    "collapsed": false,
    "pycharm": {
     "name": "#%%\n"
    }
   }
  },
  {
   "cell_type": "code",
   "execution_count": 2,
   "outputs": [
    {
     "name": "stdout",
     "output_type": "stream",
     "text": [
      "Checking file: /Users/josediogomoura/gap_filling_dl/tests/data/new_model/universal_model.xml\n",
      "Found universal model.\n",
      "Checking file: /Users/josediogomoura/gap_filling_dl/tests/data/new_model/new_model_seeds.xml\n",
      "Checking file: /Users/josediogomoura/gap_filling_dl/tests/data/new_model/new_model.xml\n",
      "Checking file: /Users/josediogomoura/gap_filling_dl/tests/data/new_model/new_model_targets.xml\n",
      "model_file: new_model.xml\n",
      "seeds_file: new_model_seeds.xml\n",
      "targets_file: new_model_targets.xml\n",
      "universal_model_file: universal_model.xml\n"
     ]
    },
    {
     "name": "stderr",
     "output_type": "stream",
     "text": [
      "'' is not a valid SBML 'SId'.\n",
      "No objective coefficients in model. Unclear what should be optimized\n"
     ]
    }
   ],
   "source": [
    "from src.gap_filling_dl.biomeneco.gapfiller import GapFiller\n",
    "gf_new_model = GapFiller.from_folder('/Users/josediogomoura/gap_filling_dl/tests/data/new_model', temporary_universal_model=False, objective_function_id=\"e_Biomass__cytop\", clone=False)"
   ],
   "metadata": {
    "collapsed": false,
    "pycharm": {
     "name": "#%%\n"
    }
   }
  },
  {
   "cell_type": "code",
   "execution_count": 3,
   "outputs": [
    {
     "name": "stderr",
     "output_type": "stream",
     "text": [
      "Warning: R_EX_C00988__dra listOfProducts=None\n",
      "Warning: R_EX_C01327__dra listOfProducts=None\n",
      "Warning: R_EX_C00008__dra listOfProducts=None\n",
      "Warning: R_EX_C00001__dra listOfProducts=None\n",
      "Warning: R_EX_C00197__dra listOfProducts=None\n",
      "Warning: R_EX_C00244__dra listOfProducts=None\n",
      "Warning: R_EX_C00025__dra listOfProducts=None\n",
      "Warning: R_EX_C00236__dra listOfProducts=None\n",
      "Warning: R_EX_C00631__dra listOfProducts=None\n",
      "Warning: R_EX_C00076__dra listOfProducts=None\n",
      "Warning: R_EX_C01290__dra listOfProducts=None\n",
      "Warning: R_EX_C04046__dra listOfProducts=None\n",
      "Warning: R_EX_C00295__dra listOfProducts=None\n",
      "Warning: R_EX_C00074__dra listOfProducts=None\n",
      "Warning: R_TO1900010_CYTOP__cytop listOfReactants=None\n",
      "Warning: R_TO1900010_CYTOP__cytop listOfProducts=None\n",
      "Warning: R_EX_e_Biomass__dra listOfProducts=None\n",
      "Warning: R_EX_C00033__dra listOfProducts=None\n",
      "Warning: R_EX_C00704__dra listOfProducts=None\n",
      "Warning: R_EX_C14818__dra listOfProducts=None\n",
      "Warning: R_EX_C07756__dra listOfProducts=None\n",
      "Warning: R_EX_C00041__dra listOfProducts=None\n",
      "Warning: R_EX_C01674__dra listOfProducts=None\n",
      "Warning: R_EX_C00011__dra listOfProducts=None\n",
      "Warning: R_EX_C13508__dra listOfProducts=None\n",
      "Warning: R_EX_C04911__dra listOfProducts=None\n",
      "Warning: R_EX_C03912__dra listOfProducts=None\n",
      "Warning: R_EX_C00191__dra listOfProducts=None\n",
      "Warning: R_EX_C01190__dra listOfProducts=None\n",
      "Warning: R_EX_C04927__dra listOfProducts=None\n",
      "Warning: R_EX_C05080__dra listOfProducts=None\n",
      "Warning: R_EX_C00305__dra listOfProducts=None\n",
      "Warning: R_EX_C00007__dra listOfProducts=None\n",
      "Warning: R_EX_C00283__dra listOfProducts=None\n",
      "Warning: R_EX_C00148__dra listOfProducts=None\n",
      "Warning: R_EX_C01330__dra listOfProducts=None\n",
      "Warning: R_EX_C00217__dra listOfProducts=None\n",
      "Warning: R_EX_C00014__dra listOfProducts=None\n",
      "Warning: R_EX_C00175__dra listOfProducts=None\n",
      "Warning: R_EX_C06697__dra listOfProducts=None\n",
      "Warning: R_EX_C00344__dra listOfProducts=None\n",
      "Warning: R_EX_C19843__dra listOfProducts=None\n",
      "Warning: R_EX_C00037__dra listOfProducts=None\n",
      "Warning: R_EX_C00504__dra listOfProducts=None\n",
      "Warning: R_EX_C03272__dra listOfProducts=None\n",
      "Warning: R_EX_C00416__dra listOfProducts=None\n",
      "Warning: R_EX_C00135__dra listOfProducts=None\n",
      "Warning: R_EX_C00469__dra listOfProducts=None\n",
      "Warning: R_EX_C00047__dra listOfProducts=None\n",
      "Warning: R_EX_C07054__dra listOfProducts=None\n",
      "Warning: R_EX_C00993__dra listOfProducts=None\n",
      "Warning: R_EX_C00080__dra listOfProducts=None\n",
      "Warning: R_EX_C00013__dra listOfProducts=None\n",
      "Warning: R_EX_C00395__dra listOfProducts=None\n",
      "Warning: R_EX_C06232__dra listOfProducts=None\n",
      "Warning: R_EX_C01419__dra listOfProducts=None\n",
      "Warning: R_EX_C10906__dra listOfProducts=None\n",
      "Warning: R_EX_C00088__dra listOfProducts=None\n",
      "Warning: R_EX_C00031__dra listOfProducts=None\n",
      "Warning: R_EX_C19610__dra listOfProducts=None\n",
      "Warning: R_EX_C00064__dra listOfProducts=None\n",
      "Warning: R_EX_C00669__dra listOfProducts=None\n",
      "Warning: R_EX_C00320__dra listOfProducts=None\n",
      "Warning: R_EX_C05684__dra listOfProducts=None\n",
      "Warning: R_EX_C00038__dra listOfProducts=None\n",
      "Warning: R_EX_C04737__dra listOfProducts=None\n",
      "Warning: R_EX_C01342__dra listOfProducts=None\n",
      "Warning: R_EX_C04730__dra listOfProducts=None\n",
      "Warning: R_EX_C00089__dra listOfProducts=None\n",
      "Warning: R_EX_C00065__dra listOfProducts=None\n",
      "Warning: R_EX_C05697__dra listOfProducts=None\n",
      "Warning: R_EX_C01181__dra listOfProducts=None\n",
      "Warning: R_EX_C00221__dra listOfProducts=None\n",
      "Warning: R_EX_C04884__dra listOfProducts=None\n",
      "Warning: R_EX_C00536__dra listOfProducts=None\n",
      "Warning: R_EX_C00208__dra listOfProducts=None\n",
      "Warning: R_EX_C00059__dra listOfProducts=None\n",
      "Warning: R_EX_C00062__dra listOfProducts=None\n",
      "Warning: R_EX_C00002__dra listOfProducts=None\n",
      "Warning: R_EX_C14819__dra listOfProducts=None\n",
      "Warning: R_EX_C06037__dra listOfProducts=None\n",
      "Warning: R_EX_C00288__dra listOfProducts=None\n",
      "Warning: R_EX_C00022__dra listOfProducts=None\n",
      "Warning: R_EX_C00238__dra listOfProducts=None\n",
      "Warning: R_EX_C00205__dra listOfProducts=None\n",
      "Warning: R_EX_C11924__dra listOfProducts=None\n",
      "Warning: R_EX_C00258__dra listOfProducts=None\n",
      "Warning: R_EX_C00009__dra listOfProducts=None\n",
      "Warning: R_R08694__cytop listOfReactants=None\n",
      "Warning: R_R08694__cytmem listOfReactants=None\n",
      "Warning: R_R08694__unkn listOfReactants=None\n",
      "Warning: R_R08694__perip listOfReactants=None\n",
      "Warning: R_R08694__outme listOfReactants=None\n",
      "Warning: R_R08694__extr listOfReactants=None\n",
      "Warning: R_R08694__dra listOfReactants=None\n",
      "Warning: R_R10976__cytop listOfProducts=None\n",
      "Warning: R_R10976__cytmem listOfProducts=None\n",
      "Warning: R_R10976__unkn listOfProducts=None\n",
      "Warning: R_R10976__perip listOfProducts=None\n",
      "Warning: R_R10976__outme listOfProducts=None\n",
      "Warning: R_R10976__extr listOfProducts=None\n",
      "Warning: R_R10976__dra listOfProducts=None\n"
     ]
    },
    {
     "name": "stdout",
     "output_type": "stream",
     "text": [
      "Getting minimal completion...\n"
     ]
    },
    {
     "ename": "KeyboardInterrupt",
     "evalue": "",
     "output_type": "error",
     "traceback": [
      "\u001B[0;31m---------------------------------------------------------------------------\u001B[0m",
      "\u001B[0;31mKeyboardInterrupt\u001B[0m                         Traceback (most recent call last)",
      "Cell \u001B[0;32mIn[3], line 1\u001B[0m\n\u001B[0;32m----> 1\u001B[0m \u001B[43mgf_new_model\u001B[49m\u001B[38;5;241;43m.\u001B[39;49m\u001B[43mrun\u001B[49m\u001B[43m(\u001B[49m\u001B[43moptimize\u001B[49m\u001B[38;5;241;43m=\u001B[39;49m\u001B[38;5;28;43;01mFalse\u001B[39;49;00m\u001B[43m)\u001B[49m\n",
      "File \u001B[0;32m~/gap_filling_dl/src/gap_filling_dl/biomeneco/gapfiller.py:126\u001B[0m, in \u001B[0;36mGapFiller.run\u001B[0;34m(self, optimize, write_to_file, removed_reactions, objective_function_id, **kwargs)\u001B[0m\n\u001B[1;32m    124\u001B[0m \u001B[38;5;28mprint\u001B[39m(\u001B[38;5;124m\"\u001B[39m\u001B[38;5;124mGetting minimal completion...\u001B[39m\u001B[38;5;124m\"\u001B[39m)\n\u001B[1;32m    125\u001B[0m \u001B[38;5;66;03m# Call the get_minimal_completion_size function this order: draftnet, repairnet, seeds, targets)\u001B[39;00m\n\u001B[0;32m--> 126\u001B[0m \u001B[38;5;28mself\u001B[39m\u001B[38;5;241m.\u001B[39mminimal_completion \u001B[38;5;241m=\u001B[39m \u001B[43mget_minimal_completion_size\u001B[49m\u001B[43m(\u001B[49m\u001B[43mdraftnet\u001B[49m\u001B[43m,\u001B[49m\u001B[43m \u001B[49m\u001B[43mrepairnet\u001B[49m\u001B[43m,\u001B[49m\u001B[43m \u001B[49m\u001B[43mseeds\u001B[49m\u001B[43m,\u001B[49m\u001B[43m \u001B[49m\u001B[43mtargets\u001B[49m\u001B[43m)\u001B[49m\n\u001B[1;32m    127\u001B[0m time_end \u001B[38;5;241m=\u001B[39m time\u001B[38;5;241m.\u001B[39mtime()\n\u001B[1;32m    128\u001B[0m \u001B[38;5;28mself\u001B[39m\u001B[38;5;241m.\u001B[39mgftime \u001B[38;5;241m=\u001B[39m time_end \u001B[38;5;241m-\u001B[39m time_start\n",
      "File \u001B[0;32m/opt/anaconda3/envs/gap_filling_dl/lib/python3.10/site-packages/meneco/query.py:84\u001B[0m, in \u001B[0;36mget_minimal_completion_size\u001B[0;34m(draft, repairnet, seeds, targets)\u001B[0m\n\u001B[1;32m     82\u001B[0m optimum \u001B[38;5;241m=\u001B[39m \u001B[38;5;28;01mNone\u001B[39;00m\n\u001B[1;32m     83\u001B[0m models \u001B[38;5;241m=\u001B[39m clyngor\u001B[38;5;241m.\u001B[39msolve(prg, options\u001B[38;5;241m=\u001B[39mco, use_clingo_module\u001B[38;5;241m=\u001B[39m\u001B[38;5;28;01mFalse\u001B[39;00m)\n\u001B[0;32m---> 84\u001B[0m \u001B[38;5;28;01mfor\u001B[39;00m model \u001B[38;5;129;01min\u001B[39;00m models\u001B[38;5;241m.\u001B[39mdiscard_quotes\u001B[38;5;241m.\u001B[39mby_arity:\n\u001B[1;32m     85\u001B[0m     optimum \u001B[38;5;241m=\u001B[39m model\n\u001B[1;32m     87\u001B[0m os\u001B[38;5;241m.\u001B[39munlink(instance_f)\n",
      "File \u001B[0;32m/opt/anaconda3/envs/gap_filling_dl/lib/python3.10/site-packages/clyngor/answers.py:217\u001B[0m, in \u001B[0;36mAnswers.__iter__\u001B[0;34m(self)\u001B[0m\n\u001B[1;32m    215\u001B[0m \u001B[38;5;28;01mdef\u001B[39;00m \u001B[38;5;21m__iter__\u001B[39m(\u001B[38;5;28mself\u001B[39m):\n\u001B[1;32m    216\u001B[0m     \u001B[38;5;124;03m\"\"\"Yield answer sets\"\"\"\u001B[39;00m\n\u001B[0;32m--> 217\u001B[0m     \u001B[38;5;28;01mfor\u001B[39;00m answer_set, optimization, optimality, answer_number \u001B[38;5;129;01min\u001B[39;00m \u001B[38;5;28mself\u001B[39m\u001B[38;5;241m.\u001B[39m_answers:\n\u001B[1;32m    218\u001B[0m         answer_set \u001B[38;5;241m=\u001B[39m \u001B[38;5;28mtuple\u001B[39m(\u001B[38;5;28mself\u001B[39m\u001B[38;5;241m.\u001B[39m_parse_answer(answer_set))\n\u001B[1;32m    219\u001B[0m         parsed \u001B[38;5;241m=\u001B[39m \u001B[38;5;28mself\u001B[39m\u001B[38;5;241m.\u001B[39m_format(answer_set)\n",
      "File \u001B[0;32m/opt/anaconda3/envs/gap_filling_dl/lib/python3.10/site-packages/clyngor/solving.py:214\u001B[0m, in \u001B[0;36m_gen_answers\u001B[0;34m(stdout, stderr, statistics, error_on_warning)\u001B[0m\n\u001B[1;32m    212\u001B[0m answer_number \u001B[38;5;241m=\u001B[39m \u001B[38;5;28;01mNone\u001B[39;00m\n\u001B[1;32m    213\u001B[0m optimization, optimum_found \u001B[38;5;241m=\u001B[39m \u001B[38;5;28;01mNone\u001B[39;00m, \u001B[38;5;28;01mFalse\u001B[39;00m\n\u001B[0;32m--> 214\u001B[0m \u001B[38;5;28;01mfor\u001B[39;00m ptype, payload \u001B[38;5;129;01min\u001B[39;00m parse_clasp_output(stdout, yield_stats\u001B[38;5;241m=\u001B[39m\u001B[38;5;28;01mTrue\u001B[39;00m):\n\u001B[1;32m    215\u001B[0m     \u001B[38;5;28;01mif\u001B[39;00m ptype \u001B[38;5;241m==\u001B[39m \u001B[38;5;124m'\u001B[39m\u001B[38;5;124manswer_number\u001B[39m\u001B[38;5;124m'\u001B[39m:\n\u001B[1;32m    216\u001B[0m         \u001B[38;5;28;01mif\u001B[39;00m answer \u001B[38;5;129;01mis\u001B[39;00m \u001B[38;5;129;01mnot\u001B[39;00m \u001B[38;5;28;01mNone\u001B[39;00m:\n",
      "File \u001B[0;32m/opt/anaconda3/envs/gap_filling_dl/lib/python3.10/site-packages/clyngor/parsing.py:233\u001B[0m, in \u001B[0;36mparse_clasp_output\u001B[0;34m(output, yield_stats, yield_opti, yield_info, yield_prgs)\u001B[0m\n\u001B[1;32m    231\u001B[0m     infos\u001B[38;5;241m.\u001B[39mappend(line)\n\u001B[1;32m    232\u001B[0m \u001B[38;5;28;01mtry\u001B[39;00m:\n\u001B[0;32m--> 233\u001B[0m     line \u001B[38;5;241m=\u001B[39m \u001B[38;5;28;43mnext\u001B[39;49m\u001B[43m(\u001B[49m\u001B[43moutput\u001B[49m\u001B[43m)\u001B[49m\n\u001B[1;32m    234\u001B[0m \u001B[38;5;28;01mexcept\u001B[39;00m \u001B[38;5;167;01mStopIteration\u001B[39;00m:\n\u001B[1;32m    235\u001B[0m     \u001B[38;5;28;01mbreak\u001B[39;00m\n",
      "File \u001B[0;32m/opt/anaconda3/envs/gap_filling_dl/lib/python3.10/site-packages/clyngor/solving.py:114\u001B[0m, in \u001B[0;36m<genexpr>\u001B[0;34m(.0)\u001B[0m\n\u001B[1;32m    112\u001B[0m     clingo\u001B[38;5;241m.\u001B[39mstdin\u001B[38;5;241m.\u001B[39mwrite(stdin_feed\u001B[38;5;241m.\u001B[39mencode())\n\u001B[1;32m    113\u001B[0m     clingo\u001B[38;5;241m.\u001B[39mstdin\u001B[38;5;241m.\u001B[39mclose()\n\u001B[0;32m--> 114\u001B[0m stdout \u001B[38;5;241m=\u001B[39m (line\u001B[38;5;241m.\u001B[39mdecode() \u001B[38;5;28;01mfor\u001B[39;00m line \u001B[38;5;129;01min\u001B[39;00m clingo\u001B[38;5;241m.\u001B[39mstdout)\n\u001B[1;32m    115\u001B[0m stderr \u001B[38;5;241m=\u001B[39m (line\u001B[38;5;241m.\u001B[39mdecode() \u001B[38;5;28;01mfor\u001B[39;00m line \u001B[38;5;129;01min\u001B[39;00m clingo\u001B[38;5;241m.\u001B[39mstderr)\n\u001B[1;32m    116\u001B[0m \u001B[38;5;28;01mif\u001B[39;00m return_raw_output:  \u001B[38;5;28;01mreturn\u001B[39;00m \u001B[38;5;124m'\u001B[39m\u001B[38;5;124m'\u001B[39m\u001B[38;5;241m.\u001B[39mjoin(stdout), \u001B[38;5;124m'\u001B[39m\u001B[38;5;124m'\u001B[39m\u001B[38;5;241m.\u001B[39mjoin(stderr)\n",
      "\u001B[0;31mKeyboardInterrupt\u001B[0m: "
     ]
    }
   ],
   "source": [
    "# correr de novo gapfilling\n",
    "gf_new_model.run(optimize=False)"
   ],
   "metadata": {
    "collapsed": false,
    "pycharm": {
     "name": "#%%\n"
    }
   }
  },
  {
   "cell_type": "code",
   "execution_count": null,
   "outputs": [],
   "source": [],
   "metadata": {
    "collapsed": false,
    "pycharm": {
     "name": "#%%\n"
    }
   }
  }
 ],
 "metadata": {
  "kernelspec": {
   "display_name": "Python 3",
   "language": "python",
   "name": "python3"
  },
  "language_info": {
   "codemirror_mode": {
    "name": "ipython",
    "version": 2
   },
   "file_extension": ".py",
   "mimetype": "text/x-python",
   "name": "python",
   "nbconvert_exporter": "python",
   "pygments_lexer": "ipython2",
   "version": "2.7.6"
  }
 },
 "nbformat": 4,
 "nbformat_minor": 0
}
