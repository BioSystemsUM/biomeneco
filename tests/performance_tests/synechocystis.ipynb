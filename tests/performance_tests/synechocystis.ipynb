{
 "cells": [
  {
   "cell_type": "code",
   "execution_count": 4,
   "outputs": [
    {
     "name": "stderr",
     "output_type": "stream",
     "text": [
      "1148 does not conform to 'http(s)://identifiers.org/collection/id' or'http(s)://identifiers.org/COLLECTION:id\n"
     ]
    },
    {
     "name": "stdout",
     "output_type": "stream",
     "text": [
      "Using COBRApy default solver, namely glpk\n"
     ]
    },
    {
     "data": {
      "text/plain": "[('C00032_in', 'C_in'),\n ('C00016_in', 'C_in'),\n ('C00378_in', 'C_in'),\n ('C00061_in', 'C_in'),\n ('C00018_in', 'C_in'),\n ('C00019_in', 'C_in'),\n ('C00255_in', 'C_in'),\n ('C00458_in', 'C_in'),\n ('C00097_in', 'C_in'),\n ('C00079_in', 'C_in'),\n ('C00041_in', 'C_in'),\n ('C00183_in', 'C_in'),\n ('C00062_in', 'C_in'),\n ('C00148_in', 'C_in'),\n ('C00047_in', 'C_in'),\n ('C00073_in', 'C_in'),\n ('C00135_in', 'C_in'),\n ('C00037_in', 'C_in'),\n ('C00407_in', 'C_in'),\n ('C00123_in', 'C_in'),\n ('C00152_in', 'C_in'),\n ('C00188_in', 'C_in'),\n ('C00082_in', 'C_in')]"
     },
     "execution_count": 4,
     "metadata": {},
     "output_type": "execute_result"
    }
   ],
   "source": [
    "from src.gap_filling_dl.biomeneco.model import Model\n",
    "from src.gap_filling_dl.biomeneco.gapfiller import GapFiller\n",
    "from src.gap_filling_dl.biomeneco.fix_files.fix_underscore import fix_file\n",
    "import cobra\n",
    "\n",
    "path_model = '/Users/josediogomoura/gap_filling_dl/tests/data/draft_synechocystis/model_synechocystis.xml'\n",
    "cobra_model = cobra.io.read_sbml_model(path_model)\n",
    "my_model = Model(cobra_model, \"e_Biomass_in\")\n",
    "my_model.targets"
   ],
   "metadata": {
    "collapsed": false,
    "pycharm": {
     "name": "#%%\n"
    }
   }
  },
  {
   "cell_type": "code",
   "execution_count": 7,
   "outputs": [
    {
     "name": "stdout",
     "output_type": "stream",
     "text": [
      "Using COBRApy default solver, namely glpk\n"
     ]
    },
    {
     "name": "stderr",
     "output_type": "stream",
     "text": [
      "Could not identify an external compartment by name and choosing one with the most boundary reactions. That might be complete nonsense or change suddenly. Consider renaming your compartments using `Model.compartments` to fix this.\n"
     ]
    },
    {
     "name": "stdout",
     "output_type": "stream",
     "text": [
      "23\n"
     ]
    },
    {
     "data": {
      "text/plain": "[('C00001_out', 'C_out'),\n ('C00244_out', 'C_out'),\n ('C14818_out', 'C_out'),\n ('C00011_out', 'C_out'),\n ('C00305_out', 'C_out'),\n ('C00007_out', 'C_out'),\n ('C01330_out', 'C_out'),\n ('C00080_out', 'C_out'),\n ('C00059_out', 'C_out'),\n ('C00205_out', 'C_out'),\n ('C00009_out', 'C_out')]"
     },
     "execution_count": 7,
     "metadata": {},
     "output_type": "execute_result"
    }
   ],
   "source": [
    "print(len(my_model.targets))\n",
    "my_model.seeds"
   ],
   "metadata": {
    "collapsed": false,
    "pycharm": {
     "name": "#%%\n"
    }
   }
  },
  {
   "cell_type": "code",
   "execution_count": 8,
   "outputs": [
    {
     "name": "stderr",
     "output_type": "stream",
     "text": [
      "Could not identify an external compartment by name and choosing one with the most boundary reactions. That might be complete nonsense or change suddenly. Consider renaming your compartments using `Model.compartments` to fix this.\n",
      "Could not identify an external compartment by name and choosing one with the most boundary reactions. That might be complete nonsense or change suddenly. Consider renaming your compartments using `Model.compartments` to fix this.\n"
     ]
    },
    {
     "name": "stdout",
     "output_type": "stream",
     "text": [
      "11\n",
      "Using COBRApy default solver, namely glpk\n"
     ]
    }
   ],
   "source": [
    "print(len(my_model.seeds))\n",
    "my_model.to_sbml('draft_synechocystis', '/Users/josediogomoura/gap_filling_dl/tests/data/draft_synechocystis', seeds=True, targets=True)"
   ],
   "metadata": {
    "collapsed": false,
    "pycharm": {
     "name": "#%%\n"
    }
   }
  },
  {
   "cell_type": "code",
   "execution_count": 1,
   "outputs": [
    {
     "name": "stdout",
     "output_type": "stream",
     "text": [
      "Checking file: /Users/josediogomoura/gap_filling_dl/tests/data/draft_synechocystis/universal_model.xml\n",
      "Found file: universal_model.xml\n",
      "Checking file: /Users/josediogomoura/gap_filling_dl/tests/data/draft_synechocystis/temporary_universal_model.xml\n",
      "Found file: temporary_universal_model.xml\n",
      "Checking file: /Users/josediogomoura/gap_filling_dl/tests/data/draft_synechocystis/draft_synechocystis_targets.xml\n",
      "Found file: draft_synechocystis_targets.xml\n",
      "Checking file: /Users/josediogomoura/gap_filling_dl/tests/data/draft_synechocystis/model_synechocystis_1.xml\n",
      "Found file: model_synechocystis_1.xml\n",
      "Checking file: /Users/josediogomoura/gap_filling_dl/tests/data/draft_synechocystis/draft_synechocystis_seeds.xml\n",
      "Found file: draft_synechocystis_seeds.xml\n",
      "Checking file: /Users/josediogomoura/gap_filling_dl/tests/data/draft_synechocystis/model_synechocystis.xml\n",
      "Found file: model_synechocystis.xml\n",
      "model_file: model_synechocystis.xml\n",
      "seeds_file: draft_synechocystis_seeds.xml\n",
      "targets_file: draft_synechocystis_targets.xml\n",
      "universal_model_file: universal_model.xml\n"
     ]
    },
    {
     "name": "stderr",
     "output_type": "stream",
     "text": [
      "1148 does not conform to 'http(s)://identifiers.org/collection/id' or'http(s)://identifiers.org/COLLECTION:id\n",
      "No objective coefficients in model. Unclear what should be optimized\n"
     ]
    }
   ],
   "source": [
    "# run gf now\n",
    "from src.gap_filling_dl.biomeneco.gapfiller import GapFiller\n",
    "gf = GapFiller.from_folder('/Users/josediogomoura/gap_filling_dl/tests/data/draft_synechocystis', temporary_universal_model=False, objective_function_id=\"e_Biomass_in\")"
   ],
   "metadata": {
    "collapsed": false,
    "pycharm": {
     "name": "#%%\n"
    }
   }
  },
  {
   "cell_type": "code",
   "execution_count": null,
   "outputs": [],
   "source": [
    "gf.clone_reactions(with_temporary_universal_model = False)"
   ],
   "metadata": {
    "collapsed": false,
    "pycharm": {
     "name": "#%%\n"
    }
   }
  },
  {
   "cell_type": "code",
   "execution_count": null,
   "outputs": [],
   "source": [
    "gf.get_transport_reactions_of_universal()"
   ],
   "metadata": {
    "collapsed": false,
    "pycharm": {
     "name": "#%%\n"
    }
   }
  },
  {
   "cell_type": "code",
   "execution_count": null,
   "outputs": [],
   "source": [
    "gf.identify_dead_end_metabolites_with_bioiso()"
   ],
   "metadata": {
    "collapsed": false,
    "pycharm": {
     "name": "#%%\n",
     "is_executing": true
    }
   }
  },
  {
   "cell_type": "code",
   "execution_count": null,
   "outputs": [],
   "source": [
    "gf.fill_dead_ends()"
   ],
   "metadata": {
    "collapsed": false,
    "pycharm": {
     "name": "#%%\n"
    }
   }
  },
  {
   "cell_type": "code",
   "execution_count": null,
   "outputs": [],
   "source": [],
   "metadata": {
    "collapsed": false,
    "pycharm": {
     "name": "#%%\n"
    }
   }
  }
 ],
 "metadata": {
  "kernelspec": {
   "display_name": "Python 3",
   "language": "python",
   "name": "python3"
  },
  "language_info": {
   "codemirror_mode": {
    "name": "ipython",
    "version": 2
   },
   "file_extension": ".py",
   "mimetype": "text/x-python",
   "name": "python",
   "nbconvert_exporter": "python",
   "pygments_lexer": "ipython2",
   "version": "2.7.6"
  }
 },
 "nbformat": 4,
 "nbformat_minor": 0
}
