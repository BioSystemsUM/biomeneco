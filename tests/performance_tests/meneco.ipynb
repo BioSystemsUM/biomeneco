{
 "nbformat": 4,
 "nbformat_minor": 0,
 "metadata": {
  "colab": {
   "name": "meneco.ipynb",
   "provenance": [],
   "collapsed_sections": []
  },
  "kernelspec": {
   "name": "python3",
   "language": "python",
   "display_name": "Python 3 (ipykernel)"
  }
 },
 "cells": [
  {
   "cell_type": "markdown",
   "metadata": {
    "id": "xgB9x4323imj",
    "colab_type": "text"
   },
   "source": [
    "# Meneco demo\n",
    "\n",
    "First you need to install Meneco. For example with `pip` ..."
   ]
  },
  {
   "cell_type": "code",
   "metadata": {
    "id": "Vd7YkD5WyG6Z",
    "colab_type": "code",
    "colab": {
     "base_uri": "https://localhost:8080/",
     "height": 624
    },
    "outputId": "a85711db-7f98-49fe-b88d-b031ca25a364"
   },
   "source": [
    "pip install meneco"
   ],
   "execution_count": null,
   "outputs": [
    {
     "output_type": "stream",
     "text": [
      "Collecting meneco\n",
      "  Downloading https://files.pythonhosted.org/packages/2b/75/cbe49e47c0067bcf0e4b1117329eab27dc94f4ef889e35c2e118478705e2/Meneco-2.0.0.tar.gz\n",
      "Collecting clyngor_with_clingo\n",
      "\u001B[?25l  Downloading https://files.pythonhosted.org/packages/c5/7f/33858be8415afdda144479faae76e91e12880bcee5792f383c218ee613a6/clyngor-with-clingo-5.3.post1.tar.gz (5.8MB)\n",
      "\u001B[K     |████████████████████████████████| 5.8MB 3.8MB/s \n",
      "\u001B[?25hCollecting clyngor>=0.3.15\n",
      "\u001B[?25l  Downloading https://files.pythonhosted.org/packages/c9/aa/4f007a447adb6490a9bc4b5477aec6b4aa73502e4e765a148617451481e4/clyngor-0.3.31-py3-none-any.whl (59kB)\n",
      "\u001B[K     |████████████████████████████████| 61kB 7.5MB/s \n",
      "\u001B[?25hCollecting pyPEG2>=2.15.2\n",
      "\u001B[?25l  Downloading https://files.pythonhosted.org/packages/f9/bd/10398e2c2d2070cc8a9c7153abfbd4ddb2895a2c52a32722ab8689e0cc7d/pyPEG2-2.15.2.tar.gz (40kB)\n",
      "\u001B[K     |████████████████████████████████| 40kB 5.4MB/s \n",
      "\u001B[?25hCollecting Arpeggio>=1.6.1\n",
      "\u001B[?25l  Downloading https://files.pythonhosted.org/packages/ac/cb/6158dce2d1b09e08607413c4b739e1a409536b0b8682a1bc98ecbc4b42bb/Arpeggio-1.9.2-py2.py3-none-any.whl (57kB)\n",
      "\u001B[K     |████████████████████████████████| 61kB 7.3MB/s \n",
      "\u001B[?25hRequirement already satisfied: pytest>=3.2.1 in /usr/local/lib/python3.6/dist-packages (from clyngor>=0.3.15->clyngor_with_clingo->meneco) (3.6.4)\n",
      "Requirement already satisfied: more-itertools>=4.0.0 in /usr/local/lib/python3.6/dist-packages (from pytest>=3.2.1->clyngor>=0.3.15->clyngor_with_clingo->meneco) (8.4.0)\n",
      "Requirement already satisfied: setuptools in /usr/local/lib/python3.6/dist-packages (from pytest>=3.2.1->clyngor>=0.3.15->clyngor_with_clingo->meneco) (49.6.0)\n",
      "Requirement already satisfied: pluggy<0.8,>=0.5 in /usr/local/lib/python3.6/dist-packages (from pytest>=3.2.1->clyngor>=0.3.15->clyngor_with_clingo->meneco) (0.7.1)\n",
      "Requirement already satisfied: py>=1.5.0 in /usr/local/lib/python3.6/dist-packages (from pytest>=3.2.1->clyngor>=0.3.15->clyngor_with_clingo->meneco) (1.9.0)\n",
      "Requirement already satisfied: attrs>=17.4.0 in /usr/local/lib/python3.6/dist-packages (from pytest>=3.2.1->clyngor>=0.3.15->clyngor_with_clingo->meneco) (20.1.0)\n",
      "Requirement already satisfied: atomicwrites>=1.0 in /usr/local/lib/python3.6/dist-packages (from pytest>=3.2.1->clyngor>=0.3.15->clyngor_with_clingo->meneco) (1.4.0)\n",
      "Requirement already satisfied: six>=1.10.0 in /usr/local/lib/python3.6/dist-packages (from pytest>=3.2.1->clyngor>=0.3.15->clyngor_with_clingo->meneco) (1.15.0)\n",
      "Building wheels for collected packages: meneco, clyngor-with-clingo, pyPEG2\n",
      "  Building wheel for meneco (setup.py) ... \u001B[?25l\u001B[?25hdone\n",
      "  Created wheel for meneco: filename=Meneco-2.0.0-cp36-none-any.whl size=15271 sha256=d28903c1811afe873239b6ec9b0fcd2138147fa632880785465f3ad895843834\n",
      "  Stored in directory: /root/.cache/pip/wheels/f2/b1/da/9add58eff34821feb52c528bc86820bf98bc18fc97ed075e27\n",
      "  Building wheel for clyngor-with-clingo (setup.py) ... \u001B[?25l\u001B[?25hdone\n",
      "  Created wheel for clyngor-with-clingo: filename=clyngor_with_clingo-5.3.post1-cp36-none-any.whl size=5798483 sha256=60fdfe7689f7ca04884d291580bc0901bdda5c6beacd3f53dafd0057fb49432b\n",
      "  Stored in directory: /root/.cache/pip/wheels/38/f3/21/5ec422631f80e8905910c5ed4cabc43740db8404be904a4eb5\n",
      "  Building wheel for pyPEG2 (setup.py) ... \u001B[?25l\u001B[?25hdone\n",
      "  Created wheel for pyPEG2: filename=pyPEG2-2.15.2-cp36-none-any.whl size=22777 sha256=72923dbefd65f82931b17662f0b727ee4e432ca4472bf6e304c3ab8ed5bb9881\n",
      "  Stored in directory: /root/.cache/pip/wheels/4a/57/58/03557d6f87c87f518b56561f8ee036d46554824e08832e06f3\n",
      "Successfully built meneco clyngor-with-clingo pyPEG2\n",
      "Installing collected packages: pyPEG2, Arpeggio, clyngor, clyngor-with-clingo, meneco\n",
      "Successfully installed Arpeggio-1.9.2 clyngor-0.3.31 clyngor-with-clingo-5.3.post1 meneco-2.0.0 pyPEG2-2.15.2\n"
     ],
     "name": "stdout"
    }
   ]
  },
  {
   "cell_type": "markdown",
   "metadata": {
    "colab_type": "text",
    "id": "Qzas2YD6395Y"
   },
   "source": [
    "then you can import the necessary modules ..."
   ]
  },
  {
   "cell_type": "code",
   "metadata": {
    "id": "T--PJq4oy0LD",
    "colab_type": "code",
    "colab": {},
    "ExecuteTime": {
     "end_time": "2023-07-17T15:03:26.099694100Z",
     "start_time": "2023-07-17T15:03:25.303704400Z"
    }
   },
   "source": [
    "from clyngor.as_pyasp import TermSet,Atom\n",
    "from urllib.request import urlopen\n",
    "from meneco.meneco import query, utils, sbml"
   ],
   "execution_count": 1,
   "outputs": []
  },
  {
   "cell_type": "markdown",
   "metadata": {
    "id": "PqAWmNmTzkOA",
    "colab_type": "text"
   },
   "source": [
    "Next, you can load a draft network from an sbml file ..."
   ]
  },
  {
   "cell_type": "code",
   "metadata": {
    "id": "-OgubHemzTDn",
    "colab_type": "code",
    "colab": {},
    "ExecuteTime": {
     "end_time": "2023-07-17T15:04:59.391183100Z",
     "start_time": "2023-07-17T15:04:59.198619600Z"
    }
   },
   "source": [
    "draft_sbml= urlopen('https://raw.githubusercontent.com/bioasp/meneco/master/Ectodata/ectocyc.sbml')\n",
    "draftnet = sbml.readSBMLnetwork(draft_sbml, 'draft')\n",
    "len(draftnet)"
   ],
   "execution_count": 7,
   "outputs": [
    {
     "data": {
      "text/plain": "8191"
     },
     "execution_count": 7,
     "metadata": {},
     "output_type": "execute_result"
    }
   ]
  },
  {
   "cell_type": "markdown",
   "metadata": {
    "id": "yVi8_PK9zqYl",
    "colab_type": "text"
   },
   "source": [
    "load the seeds ..."
   ]
  },
  {
   "cell_type": "code",
   "metadata": {
    "id": "Pkt42CXLzWPE",
    "colab_type": "code",
    "colab": {},
    "ExecuteTime": {
     "end_time": "2023-07-17T15:06:27.339329200Z",
     "start_time": "2023-07-17T15:06:26.967116900Z"
    }
   },
   "source": [
    "seeds_sbml = urlopen('https://raw.githubusercontent.com/bioasp/meneco/master/Ectodata/seeds.sbml')\n",
    "seeds = sbml.readSBMLseeds(seeds_sbml)"
   ],
   "execution_count": 12,
   "outputs": []
  },
  {
   "cell_type": "markdown",
   "metadata": {
    "id": "Ktg_p47Kz5bL",
    "colab_type": "text"
   },
   "source": [
    "and load the targets ..."
   ]
  },
  {
   "cell_type": "code",
   "metadata": {
    "id": "8Lyy9PjMz6Ke",
    "colab_type": "code",
    "colab": {},
    "ExecuteTime": {
     "end_time": "2023-07-17T15:06:28.594742200Z",
     "start_time": "2023-07-17T15:06:28.308984100Z"
    }
   },
   "source": [
    "targets_sbml = urlopen('https://raw.githubusercontent.com/bioasp/meneco/master/Ectodata/targets.sbml')\n",
    "targets = sbml.readSBMLtargets(targets_sbml)"
   ],
   "execution_count": 13,
   "outputs": []
  },
  {
   "cell_type": "markdown",
   "metadata": {
    "id": "EPrjgIXI0iO4",
    "colab_type": "text"
   },
   "source": [
    "Then you can check the draft network for unproducible targets ..."
   ]
  },
  {
   "cell_type": "code",
   "metadata": {
    "id": "jXxpLcxbz9Nm",
    "colab_type": "code",
    "colab": {
     "base_uri": "https://localhost:8080/",
     "height": 936
    },
    "outputId": "0347ed41-6d2d-48fd-ee65-626182e80ee4",
    "ExecuteTime": {
     "end_time": "2023-07-17T15:06:57.762064400Z",
     "start_time": "2023-07-17T15:06:57.240988Z"
    }
   },
   "source": [
    "model = query.get_unproducible(draftnet, targets, seeds)\n",
    "unproducible = set(a[0] for pred in model if pred == 'unproducible_target' for a in model[pred])\n",
    "print('{0} unproducible targets:\\n\\t{1}\\n'.format(len(unproducible), '\\n\\t'.join(unproducible)))"
   ],
   "execution_count": 16,
   "outputs": [
    {
     "name": "stdout",
     "output_type": "stream",
     "text": [
      "51 unproducible targets:\n",
      "\tD__45__ALANINE\n",
      "\t_4__45__AMINO__45__BUTYRATE\n",
      "\tVAL\n",
      "\tTHREO__45__DS__45__ISO__45__CITRATE\n",
      "\tTYR\n",
      "\tGLYCERATE\n",
      "\tILE\n",
      "\tGLYCEROL\n",
      "\tTHR\n",
      "\tARACHIDIC_ACID\n",
      "\tL__45__ASPARTATE\n",
      "\tMANNITOL\n",
      "\tHOMO__45__SER\n",
      "\tARG\n",
      "\tGLY\n",
      "\tCPD__45__8117\n",
      "\tLINOLEIC_ACID\n",
      "\tPALMITATE\n",
      "\tLEU\n",
      "\tGLC\n",
      "\tHIS\n",
      "\tARACHIDONIC_ACID\n",
      "\tMET\n",
      "\tSUC\n",
      "\tCPD__45__13814\n",
      "\tCPD__45__8120\n",
      "\tGLYCOLLATE\n",
      "\tASN\n",
      "\tCPD__45__7836\n",
      "\tPHE\n",
      "\tL__45__ALPHA__45__ALANINE\n",
      "\tOLEATE__45__CPD\n",
      "\tGLT\n",
      "\tGLUTATHIONE\n",
      "\tCPD__45__9245\n",
      "\t_5Z8Z11Z14Z17Z__45__EICOSAPENTAENOATE\n",
      "\tCPD__45__14292\n",
      "\tCPD__45__8119\n",
      "\tCPD__45__8121\n",
      "\tCPD__45__9247\n",
      "\tPRO\n",
      "\tLYS\n",
      "\tSER\n",
      "\tGLN\n",
      "\tDOCOSANOATE\n",
      "\tSTEARIC_ACID\n",
      "\tTRP\n",
      "\tCIT\n",
      "\tLINOLENIC_ACID\n",
      "\tCYS\n",
      "\tL__45__ORNITHINE\n",
      "\n"
     ]
    }
   ]
  },
  {
   "cell_type": "markdown",
   "metadata": {
    "id": "Ih3_CNwW0pWr",
    "colab_type": "text"
   },
   "source": [
    "You can load another reaction network like metacyc repair data base ..."
   ]
  },
  {
   "cell_type": "code",
   "metadata": {
    "id": "R2jr_U1K0nuX",
    "colab_type": "code",
    "colab": {
     "base_uri": "https://localhost:8080/",
     "height": 52
    },
    "outputId": "1ee3a315-04a1-422b-ce12-062659de7c5f",
    "ExecuteTime": {
     "end_time": "2023-07-17T15:05:27.557410300Z",
     "start_time": "2023-07-17T15:05:24.122571900Z"
    }
   },
   "source": [
    "repair_sbml = urlopen('https://raw.githubusercontent.com/bioasp/meneco/master/Ectodata/metacyc_16-5.sbml')\n",
    "repairnet = sbml.readSBMLnetwork(repair_sbml, 'repairnet')\n",
    "len(repairnet)"
   ],
   "execution_count": 8,
   "outputs": [
    {
     "name": "stderr",
     "output_type": "stream",
     "text": [
      "Warning: RXN__45__13206 listOfProducts=None\n"
     ]
    },
    {
     "data": {
      "text/plain": "64180"
     },
     "execution_count": 8,
     "metadata": {},
     "output_type": "execute_result"
    }
   ]
  },
  {
   "cell_type": "markdown",
   "metadata": {
    "id": "LBTOly6700CP",
    "colab_type": "text"
   },
   "source": [
    "and combine the draft network with the repair database ..."
   ]
  },
  {
   "cell_type": "code",
   "metadata": {
    "id": "LZtKqgXZ0y_L",
    "colab_type": "code",
    "colab": {},
    "ExecuteTime": {
     "end_time": "2023-07-17T15:06:10.114442100Z",
     "start_time": "2023-07-17T15:06:10.034783500Z"
    }
   },
   "source": [
    "combinet = draftnet\n",
    "combinet = TermSet(combinet.union(repairnet))"
   ],
   "execution_count": 9,
   "outputs": []
  },
  {
   "cell_type": "code",
   "execution_count": 10,
   "outputs": [
    {
     "data": {
      "text/plain": "72371"
     },
     "execution_count": 10,
     "metadata": {},
     "output_type": "execute_result"
    }
   ],
   "source": [
    "len(combinet)"
   ],
   "metadata": {
    "collapsed": false,
    "ExecuteTime": {
     "end_time": "2023-07-17T15:06:11.890444300Z",
     "start_time": "2023-07-17T15:06:11.854808500Z"
    }
   }
  },
  {
   "cell_type": "markdown",
   "metadata": {
    "id": "vC50yfMP1Kb2",
    "colab_type": "text"
   },
   "source": [
    "and then check for which targets producibilty cannot be restored even with the combined networks ..."
   ]
  },
  {
   "cell_type": "code",
   "metadata": {
    "id": "e4QAmoFR09i_",
    "colab_type": "code",
    "colab": {
     "base_uri": "https://localhost:8080/",
     "height": 121
    },
    "outputId": "d4f4c319-761a-49ad-bfb0-4ee87e596e6f",
    "ExecuteTime": {
     "end_time": "2023-07-17T15:06:31.989508700Z",
     "start_time": "2023-07-17T15:06:30.413391500Z"
    }
   },
   "source": [
    "model = query.get_unproducible(combinet, targets, seeds)\n",
    "never_producible = set(a[0] for pred in model if pred == 'unproducible_target' for a in model[pred])\n",
    "print('{0} unreconstructable targets:\\n\\t{1}\\n'.format(len(never_producible), '\\n\\t'.join(never_producible)))"
   ],
   "execution_count": 14,
   "outputs": [
    {
     "name": "stdout",
     "output_type": "stream",
     "text": [
      "4 unreconstructable targets:\n",
      "\tCPD__45__8119\n",
      "\tDOCOSANOATE\n",
      "\tCPD__45__14292\n",
      "\tCPD__45__13814\n",
      "\n"
     ]
    }
   ]
  },
  {
   "cell_type": "markdown",
   "metadata": {
    "id": "yKMjGZr21SD6",
    "colab_type": "text"
   },
   "source": [
    "and for which targets the production paths are repairable ..."
   ]
  },
  {
   "cell_type": "code",
   "metadata": {
    "id": "ExlQXta41Pl4",
    "colab_type": "code",
    "colab": {
     "base_uri": "https://localhost:8080/",
     "height": 867
    },
    "outputId": "20e18749-3b1f-47b5-9101-1090b4c0ac1a",
    "ExecuteTime": {
     "end_time": "2023-07-17T15:07:04.482575700Z",
     "start_time": "2023-07-17T15:07:04.469656500Z"
    }
   },
   "source": [
    "reconstructable_targets = unproducible.difference(never_producible)\n",
    "print('{0} reconstructable targets:\\n\\t{1}\\n'.format(len(reconstructable_targets), '\\n\\t'.join(reconstructable_targets)))"
   ],
   "execution_count": 17,
   "outputs": [
    {
     "name": "stdout",
     "output_type": "stream",
     "text": [
      "47 reconstructable targets:\n",
      "\tD__45__ALANINE\n",
      "\t_4__45__AMINO__45__BUTYRATE\n",
      "\tVAL\n",
      "\tTHREO__45__DS__45__ISO__45__CITRATE\n",
      "\tTYR\n",
      "\tGLYCERATE\n",
      "\tILE\n",
      "\tGLYCEROL\n",
      "\tTHR\n",
      "\tARACHIDIC_ACID\n",
      "\tL__45__ASPARTATE\n",
      "\tMANNITOL\n",
      "\tHOMO__45__SER\n",
      "\tARG\n",
      "\tGLY\n",
      "\tCPD__45__8117\n",
      "\tLINOLEIC_ACID\n",
      "\tPALMITATE\n",
      "\tLEU\n",
      "\tGLC\n",
      "\tHIS\n",
      "\tARACHIDONIC_ACID\n",
      "\tMET\n",
      "\tSUC\n",
      "\tCPD__45__8120\n",
      "\tGLYCOLLATE\n",
      "\tASN\n",
      "\tCPD__45__7836\n",
      "\tPHE\n",
      "\tL__45__ALPHA__45__ALANINE\n",
      "\tOLEATE__45__CPD\n",
      "\tGLT\n",
      "\tGLUTATHIONE\n",
      "\tCPD__45__9245\n",
      "\t_5Z8Z11Z14Z17Z__45__EICOSAPENTAENOATE\n",
      "\tCPD__45__8121\n",
      "\tCPD__45__9247\n",
      "\tPRO\n",
      "\tLYS\n",
      "\tSER\n",
      "\tGLN\n",
      "\tSTEARIC_ACID\n",
      "\tTRP\n",
      "\tCIT\n",
      "\tLINOLENIC_ACID\n",
      "\tCYS\n",
      "\tL__45__ORNITHINE\n",
      "\n"
     ]
    }
   ]
  },
  {
   "cell_type": "markdown",
   "metadata": {
    "id": "lKFp46GR1dSC",
    "colab_type": "text"
   },
   "source": [
    "You can compute the essential reactions for the repairable target ..."
   ]
  },
  {
   "cell_type": "code",
   "metadata": {
    "id": "ww43a56D1Ygp",
    "colab_type": "code",
    "colab": {
     "base_uri": "https://localhost:8080/",
     "height": 1000
    },
    "outputId": "7018f57f-0ef3-487f-b45f-aa1aaef396c2"
   },
   "source": [
    "essential_reactions = set()\n",
    "for t in reconstructable_targets:\n",
    "      single_target = TermSet()\n",
    "      single_target.add(Atom('target(\"' + t + '\")'))\n",
    "      print('\\nComputing essential reactions for', t,'... ', end=' ')\n",
    "      model = query.get_intersection_of_completions(draftnet, repairnet, seeds, single_target)\n",
    "      print(' done.')\n",
    "      essentials_lst = set(a[0] for pred in model if pred == 'xreaction' for a in model[pred])\n",
    "      print('{0} essential reactions for target {1}:\\n\\t{2}'.format(len(essentials_lst), t, '\\n\\t'.join(essentials_lst)))\n",
    "      essential_reactions = essential_reactions.union(essentials_lst)\n",
    "print('Overall {0} essential reactions found:\\n\\t{1}\\n'.format(len(essential_reactions), '\\n\\t'.join(essential_reactions)))"
   ],
   "execution_count": null,
   "outputs": [
    {
     "output_type": "stream",
     "text": [
      "\n",
      "Computing essential reactions for MET ...   done.\n",
      "0 essential reactions for target MET:\n",
      "\t\n",
      "\n",
      "Computing essential reactions for L__45__ORNITHINE ...   done.\n",
      "0 essential reactions for target L__45__ORNITHINE:\n",
      "\t\n",
      "\n",
      "Computing essential reactions for ASN ...   done.\n",
      "0 essential reactions for target ASN:\n",
      "\t\n",
      "\n",
      "Computing essential reactions for OLEATE__45__CPD ...   done.\n",
      "5 essential reactions for target OLEATE__45__CPD:\n",
      "\tRXN__45__9520\n",
      "\t_1__46__14__46__19__46__2__45__RXN\n",
      "\tRXN__45__9655\n",
      "\t_3__46__1__46__2__46__14__45__RXN\n",
      "\t_4__46__2__46__1__46__59__45__RXN\n",
      "\n",
      "Computing essential reactions for CPD__45__7836 ...   done.\n",
      "6 essential reactions for target CPD__45__7836:\n",
      "\tRXN__45__9520\n",
      "\tRXN__45__9533\n",
      "\tRXN__45__9655\n",
      "\tRXN__45__10727\n",
      "\tRXN__45__9537\n",
      "\t_4__46__2__46__1__46__59__45__RXN\n",
      "\n",
      "Computing essential reactions for ILE ...   done.\n",
      "0 essential reactions for target ILE:\n",
      "\t\n",
      "\n",
      "Computing essential reactions for CPD__45__8117 ...   done.\n",
      "5 essential reactions for target CPD__45__8117:\n",
      "\tRXN__45__9520\n",
      "\t_1__46__14__46__19__46__2__45__RXN\n",
      "\tRXN__45__9655\n",
      "\t_3__46__1__46__2__46__14__45__RXN\n",
      "\t_4__46__2__46__1__46__59__45__RXN\n",
      "\n",
      "Computing essential reactions for STEARIC_ACID ...   done.\n",
      "3 essential reactions for target STEARIC_ACID:\n",
      "\tRXN__45__9520\n",
      "\tRXN__45__9655\n",
      "\t_4__46__2__46__1__46__59__45__RXN\n",
      "\n",
      "Computing essential reactions for LYS ...   done.\n",
      "0 essential reactions for target LYS:\n",
      "\t\n",
      "\n",
      "Computing essential reactions for CPD__45__8120 ...   done.\n",
      "10 essential reactions for target CPD__45__8120:\n",
      "\tRXN__45__12968\n",
      "\tRXN__45__9520\n",
      "\tRXN__45__12969\n",
      "\t_1__46__14__46__19__46__2__45__RXN\n",
      "\tRXN__45__12777\n",
      "\tRXN__45__12971\n",
      "\tRXN__45__9655\n",
      "\t_3__46__1__46__2__46__14__45__RXN\n",
      "\tRXN__45__13435\n",
      "\t_4__46__2__46__1__46__59__45__RXN\n",
      "\n",
      "Computing essential reactions for THR ...   done.\n",
      "0 essential reactions for target THR:\n",
      "\t\n",
      "\n",
      "Computing essential reactions for CPD__45__9245 ...   done.\n",
      "4 essential reactions for target CPD__45__9245:\n",
      "\tRXN__45__9550\n",
      "\tRXN__45__9520\n",
      "\tRXN__45__9655\n",
      "\t_4__46__2__46__1__46__59__45__RXN\n",
      "\n",
      "Computing essential reactions for PRO ...   done.\n",
      "0 essential reactions for target PRO:\n",
      "\t\n",
      "\n",
      "Computing essential reactions for SUC ...   done.\n",
      "0 essential reactions for target SUC:\n",
      "\t\n",
      "\n",
      "Computing essential reactions for L__45__ALPHA__45__ALANINE ...   done.\n",
      "0 essential reactions for target L__45__ALPHA__45__ALANINE:\n",
      "\t\n",
      "\n",
      "Computing essential reactions for TRP ...   done.\n",
      "0 essential reactions for target TRP:\n",
      "\t\n",
      "\n",
      "Computing essential reactions for _5Z8Z11Z14Z17Z__45__EICOSAPENTAENOATE ...   done.\n",
      "0 essential reactions for target _5Z8Z11Z14Z17Z__45__EICOSAPENTAENOATE:\n",
      "\t\n",
      "\n",
      "Computing essential reactions for GLY ...   done.\n",
      "0 essential reactions for target GLY:\n",
      "\t\n",
      "\n",
      "Computing essential reactions for L__45__ASPARTATE ...   done.\n",
      "0 essential reactions for target L__45__ASPARTATE:\n",
      "\t\n",
      "\n",
      "Computing essential reactions for GLUTATHIONE ...   done.\n",
      "0 essential reactions for target GLUTATHIONE:\n",
      "\t\n",
      "\n",
      "Computing essential reactions for CPD__45__8121 ...   done.\n",
      "0 essential reactions for target CPD__45__8121:\n",
      "\t\n",
      "\n",
      "Computing essential reactions for CIT ...   done.\n",
      "0 essential reactions for target CIT:\n",
      "\t\n",
      "\n",
      "Computing essential reactions for TYR ...   done.\n",
      "0 essential reactions for target TYR:\n",
      "\t\n",
      "\n",
      "Computing essential reactions for CYS ...   done.\n",
      "0 essential reactions for target CYS:\n",
      "\t\n",
      "\n",
      "Computing essential reactions for HIS ...   done.\n",
      "2 essential reactions for target HIS:\n",
      "\tHISTIDPHOS__45__RXN\n",
      "\tHISTCYCLOHYD__45__RXN\n",
      "\n",
      "Computing essential reactions for GLN ...   done.\n",
      "0 essential reactions for target GLN:\n",
      "\t\n",
      "\n",
      "Computing essential reactions for GLYCOLLATE ...   done.\n",
      "0 essential reactions for target GLYCOLLATE:\n",
      "\t\n",
      "\n",
      "Computing essential reactions for ARACHIDIC_ACID ...   done.\n",
      "3 essential reactions for target ARACHIDIC_ACID:\n",
      "\tRXN__45__9520\n",
      "\tRXN__45__9655\n",
      "\t_4__46__2__46__1__46__59__45__RXN\n",
      "\n",
      "Computing essential reactions for GLC ...   done.\n",
      "0 essential reactions for target GLC:\n",
      "\t\n",
      "\n",
      "Computing essential reactions for D__45__ALANINE ...   done.\n",
      "0 essential reactions for target D__45__ALANINE:\n",
      "\t\n",
      "\n",
      "Computing essential reactions for HOMO__45__SER ...   done.\n",
      "0 essential reactions for target HOMO__45__SER:\n",
      "\t\n",
      "\n",
      "Computing essential reactions for VAL ...   done.\n",
      "0 essential reactions for target VAL:\n",
      "\t\n",
      "\n",
      "Computing essential reactions for PHE ...   done.\n",
      "0 essential reactions for target PHE:\n",
      "\t\n",
      "\n",
      "Computing essential reactions for GLYCERATE ...   done.\n",
      "0 essential reactions for target GLYCERATE:\n",
      "\t\n",
      "\n",
      "Computing essential reactions for _4__45__AMINO__45__BUTYRATE ...   done.\n",
      "0 essential reactions for target _4__45__AMINO__45__BUTYRATE:\n",
      "\t\n",
      "\n",
      "Computing essential reactions for PALMITATE ...   done.\n",
      "4 essential reactions for target PALMITATE:\n",
      "\tRXN__45__9520\n",
      "\tRXN__45__9549\n",
      "\tRXN__45__9655\n",
      "\t_4__46__2__46__1__46__59__45__RXN\n",
      "\n",
      "Computing essential reactions for GLYCEROL ...   done.\n",
      "0 essential reactions for target GLYCEROL:\n",
      "\t\n",
      "\n",
      "Computing essential reactions for GLT ...   done.\n",
      "0 essential reactions for target GLT:\n",
      "\t\n",
      "\n",
      "Computing essential reactions for ARG ...   done.\n",
      "0 essential reactions for target ARG:\n",
      "\t\n",
      "\n",
      "Computing essential reactions for THREO__45__DS__45__ISO__45__CITRATE ...   done.\n",
      "0 essential reactions for target THREO__45__DS__45__ISO__45__CITRATE:\n",
      "\t\n",
      "\n",
      "Computing essential reactions for SER ...   done.\n",
      "0 essential reactions for target SER:\n",
      "\t\n",
      "\n",
      "Computing essential reactions for LINOLENIC_ACID ...   done.\n",
      "0 essential reactions for target LINOLENIC_ACID:\n",
      "\t\n",
      "\n",
      "Computing essential reactions for MANNITOL ...   done.\n",
      "0 essential reactions for target MANNITOL:\n",
      "\t\n",
      "\n",
      "Computing essential reactions for LEU ...   done.\n",
      "0 essential reactions for target LEU:\n",
      "\t\n",
      "\n",
      "Computing essential reactions for LINOLEIC_ACID ...   done.\n",
      "5 essential reactions for target LINOLEIC_ACID:\n",
      "\tRXN__45__9520\n",
      "\t_1__46__14__46__19__46__2__45__RXN\n",
      "\tRXN__45__9655\n",
      "\t_3__46__1__46__2__46__14__45__RXN\n",
      "\t_4__46__2__46__1__46__59__45__RXN\n",
      "\n",
      "Computing essential reactions for ARACHIDONIC_ACID ...   done.\n",
      "11 essential reactions for target ARACHIDONIC_ACID:\n",
      "\tRXN__45__12968\n",
      "\tRXN__45__9520\n",
      "\tRXN__45__8346\n",
      "\tRXN__45__12969\n",
      "\t_1__46__14__46__19__46__2__45__RXN\n",
      "\tRXN__45__12777\n",
      "\tRXN__45__12971\n",
      "\tRXN__45__9655\n",
      "\t_3__46__1__46__2__46__14__45__RXN\n",
      "\tRXN__45__13435\n",
      "\t_4__46__2__46__1__46__59__45__RXN\n",
      "\n",
      "Computing essential reactions for CPD__45__9247 ...   done.\n",
      "6 essential reactions for target CPD__45__9247:\n",
      "\tRXN__45__9520\n",
      "\tRXN__45__9558\n",
      "\tRXN__45__9655\n",
      "\t_4__46__2__46__1__46__59__45__RXN\n",
      "\tRXN__45__9555\n",
      "\tRXN__45__9557\n",
      "Overall 21 essential reactions found:\n",
      "\tRXN__45__12968\n",
      "\tRXN__45__9549\n",
      "\tRXN__45__8346\n",
      "\tRXN__45__12969\n",
      "\tRXN__45__9533\n",
      "\tRXN__45__9550\n",
      "\tRXN__45__9558\n",
      "\tRXN__45__9655\n",
      "\tRXN__45__13435\n",
      "\tRXN__45__12777\n",
      "\t_4__46__2__46__1__46__59__45__RXN\n",
      "\tRXN__45__9557\n",
      "\tHISTCYCLOHYD__45__RXN\n",
      "\tRXN__45__9520\n",
      "\t_1__46__14__46__19__46__2__45__RXN\n",
      "\tHISTIDPHOS__45__RXN\n",
      "\tRXN__45__12971\n",
      "\tRXN__45__10727\n",
      "\t_3__46__1__46__2__46__14__45__RXN\n",
      "\tRXN__45__9537\n",
      "\tRXN__45__9555\n",
      "\n"
     ],
     "name": "stdout"
    }
   ]
  },
  {
   "cell_type": "markdown",
   "metadata": {
    "id": "EGHtOzN51n7k",
    "colab_type": "text"
   },
   "source": [
    "You can compute a completion of minimal size suitable to produce all reconstructable targets ..."
   ]
  },
  {
   "cell_type": "code",
   "metadata": {
    "id": "DiIhAg8u1h2V",
    "colab_type": "code",
    "colab": {
     "base_uri": "https://localhost:8080/",
     "height": 849
    },
    "outputId": "b36a540c-e5e0-4d95-a5f4-ce18927e2f94",
    "ExecuteTime": {
     "end_time": "2023-07-17T15:14:17.763295200Z",
     "start_time": "2023-07-17T15:07:12.816038200Z"
    }
   },
   "source": [
    "targets = TermSet(Atom('target(\"' + t+'\")') for t in reconstructable_targets)\n",
    "model =  query.get_minimal_completion_size(draftnet, repairnet, seeds, targets)\n",
    "one_min_sol_lst = set(a[0] for pred in model if pred == 'xreaction' for a in model[pred])\n",
    "optimum = len(one_min_sol_lst)\n",
    "\n",
    "print('minimal size =',optimum)\n",
    "\n",
    "print('One minimal completion of size {0}:\\n\\t{1}\\n'.format(\n",
    "            optimum, '\\n\\t'.join(one_min_sol_lst)))"
   ],
   "execution_count": 18,
   "outputs": [
    {
     "ename": "KeyboardInterrupt",
     "evalue": "",
     "output_type": "error",
     "traceback": [
      "\u001B[1;31m---------------------------------------------------------------------------\u001B[0m",
      "\u001B[1;31mKeyboardInterrupt\u001B[0m                         Traceback (most recent call last)",
      "Cell \u001B[1;32mIn[18], line 2\u001B[0m\n\u001B[0;32m      1\u001B[0m targets \u001B[38;5;241m=\u001B[39m TermSet(Atom(\u001B[38;5;124m'\u001B[39m\u001B[38;5;124mtarget(\u001B[39m\u001B[38;5;124m\"\u001B[39m\u001B[38;5;124m'\u001B[39m \u001B[38;5;241m+\u001B[39m t\u001B[38;5;241m+\u001B[39m\u001B[38;5;124m'\u001B[39m\u001B[38;5;124m\"\u001B[39m\u001B[38;5;124m)\u001B[39m\u001B[38;5;124m'\u001B[39m) \u001B[38;5;28;01mfor\u001B[39;00m t \u001B[38;5;129;01min\u001B[39;00m reconstructable_targets)\n\u001B[1;32m----> 2\u001B[0m model \u001B[38;5;241m=\u001B[39m  \u001B[43mquery\u001B[49m\u001B[38;5;241;43m.\u001B[39;49m\u001B[43mget_minimal_completion_size\u001B[49m\u001B[43m(\u001B[49m\u001B[43mdraftnet\u001B[49m\u001B[43m,\u001B[49m\u001B[43m \u001B[49m\u001B[43mrepairnet\u001B[49m\u001B[43m,\u001B[49m\u001B[43m \u001B[49m\u001B[43mseeds\u001B[49m\u001B[43m,\u001B[49m\u001B[43m \u001B[49m\u001B[43mtargets\u001B[49m\u001B[43m)\u001B[49m\n\u001B[0;32m      3\u001B[0m one_min_sol_lst \u001B[38;5;241m=\u001B[39m \u001B[38;5;28mset\u001B[39m(a[\u001B[38;5;241m0\u001B[39m] \u001B[38;5;28;01mfor\u001B[39;00m pred \u001B[38;5;129;01min\u001B[39;00m model \u001B[38;5;28;01mif\u001B[39;00m pred \u001B[38;5;241m==\u001B[39m \u001B[38;5;124m'\u001B[39m\u001B[38;5;124mxreaction\u001B[39m\u001B[38;5;124m'\u001B[39m \u001B[38;5;28;01mfor\u001B[39;00m a \u001B[38;5;129;01min\u001B[39;00m model[pred])\n\u001B[0;32m      4\u001B[0m optimum \u001B[38;5;241m=\u001B[39m \u001B[38;5;28mlen\u001B[39m(one_min_sol_lst)\n",
      "File \u001B[1;32m~\\gap_filling_dl\\lib\\site-packages\\meneco\\query.py:84\u001B[0m, in \u001B[0;36mget_minimal_completion_size\u001B[1;34m(draft, repairnet, seeds, targets)\u001B[0m\n\u001B[0;32m     82\u001B[0m optimum \u001B[38;5;241m=\u001B[39m \u001B[38;5;28;01mNone\u001B[39;00m\n\u001B[0;32m     83\u001B[0m models \u001B[38;5;241m=\u001B[39m clyngor\u001B[38;5;241m.\u001B[39msolve(prg, options\u001B[38;5;241m=\u001B[39mco, use_clingo_module\u001B[38;5;241m=\u001B[39m\u001B[38;5;28;01mFalse\u001B[39;00m)\n\u001B[1;32m---> 84\u001B[0m \u001B[38;5;28;01mfor\u001B[39;00m model \u001B[38;5;129;01min\u001B[39;00m models\u001B[38;5;241m.\u001B[39mdiscard_quotes\u001B[38;5;241m.\u001B[39mby_arity:\n\u001B[0;32m     85\u001B[0m     optimum \u001B[38;5;241m=\u001B[39m model\n\u001B[0;32m     87\u001B[0m os\u001B[38;5;241m.\u001B[39munlink(instance_f)\n",
      "File \u001B[1;32m~\\gap_filling_dl\\lib\\site-packages\\clyngor\\answers.py:217\u001B[0m, in \u001B[0;36mAnswers.__iter__\u001B[1;34m(self)\u001B[0m\n\u001B[0;32m    215\u001B[0m \u001B[38;5;28;01mdef\u001B[39;00m \u001B[38;5;21m__iter__\u001B[39m(\u001B[38;5;28mself\u001B[39m):\n\u001B[0;32m    216\u001B[0m \u001B[38;5;250m    \u001B[39m\u001B[38;5;124;03m\"\"\"Yield answer sets\"\"\"\u001B[39;00m\n\u001B[1;32m--> 217\u001B[0m     \u001B[38;5;28;01mfor\u001B[39;00m answer_set, optimization, optimality, answer_number \u001B[38;5;129;01min\u001B[39;00m \u001B[38;5;28mself\u001B[39m\u001B[38;5;241m.\u001B[39m_answers:\n\u001B[0;32m    218\u001B[0m         answer_set \u001B[38;5;241m=\u001B[39m \u001B[38;5;28mtuple\u001B[39m(\u001B[38;5;28mself\u001B[39m\u001B[38;5;241m.\u001B[39m_parse_answer(answer_set))\n\u001B[0;32m    219\u001B[0m         parsed \u001B[38;5;241m=\u001B[39m \u001B[38;5;28mself\u001B[39m\u001B[38;5;241m.\u001B[39m_format(answer_set)\n",
      "File \u001B[1;32m~\\gap_filling_dl\\lib\\site-packages\\clyngor\\solving.py:214\u001B[0m, in \u001B[0;36m_gen_answers\u001B[1;34m(stdout, stderr, statistics, error_on_warning)\u001B[0m\n\u001B[0;32m    212\u001B[0m answer_number \u001B[38;5;241m=\u001B[39m \u001B[38;5;28;01mNone\u001B[39;00m\n\u001B[0;32m    213\u001B[0m optimization, optimum_found \u001B[38;5;241m=\u001B[39m \u001B[38;5;28;01mNone\u001B[39;00m, \u001B[38;5;28;01mFalse\u001B[39;00m\n\u001B[1;32m--> 214\u001B[0m \u001B[38;5;28;01mfor\u001B[39;00m ptype, payload \u001B[38;5;129;01min\u001B[39;00m parse_clasp_output(stdout, yield_stats\u001B[38;5;241m=\u001B[39m\u001B[38;5;28;01mTrue\u001B[39;00m):\n\u001B[0;32m    215\u001B[0m     \u001B[38;5;28;01mif\u001B[39;00m ptype \u001B[38;5;241m==\u001B[39m \u001B[38;5;124m'\u001B[39m\u001B[38;5;124manswer_number\u001B[39m\u001B[38;5;124m'\u001B[39m:\n\u001B[0;32m    216\u001B[0m         \u001B[38;5;28;01mif\u001B[39;00m answer \u001B[38;5;129;01mis\u001B[39;00m \u001B[38;5;129;01mnot\u001B[39;00m \u001B[38;5;28;01mNone\u001B[39;00m:\n",
      "File \u001B[1;32m~\\gap_filling_dl\\lib\\site-packages\\clyngor\\parsing.py:224\u001B[0m, in \u001B[0;36mparse_clasp_output\u001B[1;34m(output, yield_stats, yield_opti, yield_info, yield_prgs)\u001B[0m\n\u001B[0;32m    222\u001B[0m \u001B[38;5;28;01mif\u001B[39;00m \u001B[38;5;129;01mnot\u001B[39;00m yield_stats: \u001B[38;5;28;01mbreak\u001B[39;00m  \u001B[38;5;66;03m# stats are the last part of the output\u001B[39;00m\n\u001B[0;32m    223\u001B[0m stats \u001B[38;5;241m=\u001B[39m {}\n\u001B[1;32m--> 224\u001B[0m \u001B[38;5;28;01mfor\u001B[39;00m line \u001B[38;5;129;01min\u001B[39;00m output:\n\u001B[0;32m    225\u001B[0m     sep \u001B[38;5;241m=\u001B[39m line\u001B[38;5;241m.\u001B[39mfind(\u001B[38;5;124m'\u001B[39m\u001B[38;5;124m:\u001B[39m\u001B[38;5;124m'\u001B[39m)\n\u001B[0;32m    226\u001B[0m     key, value \u001B[38;5;241m=\u001B[39m line[:sep], line[sep\u001B[38;5;241m+\u001B[39m\u001B[38;5;241m1\u001B[39m:]\n",
      "File \u001B[1;32m~\\gap_filling_dl\\lib\\site-packages\\clyngor\\solving.py:114\u001B[0m, in \u001B[0;36m<genexpr>\u001B[1;34m(.0)\u001B[0m\n\u001B[0;32m    112\u001B[0m     clingo\u001B[38;5;241m.\u001B[39mstdin\u001B[38;5;241m.\u001B[39mwrite(stdin_feed\u001B[38;5;241m.\u001B[39mencode())\n\u001B[0;32m    113\u001B[0m     clingo\u001B[38;5;241m.\u001B[39mstdin\u001B[38;5;241m.\u001B[39mclose()\n\u001B[1;32m--> 114\u001B[0m stdout \u001B[38;5;241m=\u001B[39m (\u001B[43mline\u001B[49m\u001B[38;5;241;43m.\u001B[39;49m\u001B[43mdecode\u001B[49m\u001B[43m(\u001B[49m\u001B[43m)\u001B[49m \u001B[38;5;28;01mfor\u001B[39;00m line \u001B[38;5;129;01min\u001B[39;00m clingo\u001B[38;5;241m.\u001B[39mstdout)\n\u001B[0;32m    115\u001B[0m stderr \u001B[38;5;241m=\u001B[39m (line\u001B[38;5;241m.\u001B[39mdecode() \u001B[38;5;28;01mfor\u001B[39;00m line \u001B[38;5;129;01min\u001B[39;00m clingo\u001B[38;5;241m.\u001B[39mstderr)\n\u001B[0;32m    116\u001B[0m \u001B[38;5;28;01mif\u001B[39;00m return_raw_output:  \u001B[38;5;28;01mreturn\u001B[39;00m \u001B[38;5;124m'\u001B[39m\u001B[38;5;124m'\u001B[39m\u001B[38;5;241m.\u001B[39mjoin(stdout), \u001B[38;5;124m'\u001B[39m\u001B[38;5;124m'\u001B[39m\u001B[38;5;241m.\u001B[39mjoin(stderr)\n",
      "\u001B[1;31mKeyboardInterrupt\u001B[0m: "
     ]
    }
   ]
  },
  {
   "cell_type": "markdown",
   "metadata": {
    "id": "baXsQE4D1wXW",
    "colab_type": "text"
   },
   "source": [
    "We can compute the common reactions in all completion with a given size ..."
   ]
  },
  {
   "cell_type": "code",
   "metadata": {
    "id": "_uA97Wk911zo",
    "colab_type": "code",
    "colab": {
     "base_uri": "https://localhost:8080/",
     "height": 589
    },
    "outputId": "960b8429-f712-4be9-a62e-c0ff0a60a3da"
   },
   "source": [
    "model = query.get_intersection_of_optimal_completions(draftnet, repairnet, seeds, targets,  optimum)\n",
    "cautious_sol_lst = set(a[0] for pred in model if pred == 'xreaction' for a in model[pred])\n",
    "\n",
    "print('Intersection of all solutions of size {0}:\\n\\t{1}\\n'.format(\n",
    "            optimum, '\\n\\t'.join(cautious_sol_lst)))"
   ],
   "execution_count": null,
   "outputs": [
    {
     "output_type": "stream",
     "text": [
      "Intersection of all solutions of size 45:\n",
      "\tRXN__45__9549\n",
      "\tRXN__45__8346\n",
      "\t_4__46__2__46__1__46__61__45__RXN\n",
      "\tRXN__45__9533\n",
      "\tRXN__45__9655\n",
      "\tGLUTDECARBOX__45__RXN\n",
      "\tRXN__45__13435\n",
      "\tRXN__45__12777\n",
      "\tMANNITOL__45__1__45__PHOSPHATASE__45__RXN\n",
      "\t_4__46__2__46__1__46__59__45__RXN\n",
      "\tHISTCYCLOHYD__45__RXN\n",
      "\t_4__46__2__46__1__46__58__45__RXN\n",
      "\tRXN__45__10727\n",
      "\tRXN__45__9634\n",
      "\tRXN__45__12968\n",
      "\tRXN__45__13261\n",
      "\tRXN__45__13242\n",
      "\tRXN__45__12969\n",
      "\tRXN__45__9673\n",
      "\tRXN__45__9550\n",
      "\tRXN__45__9548\n",
      "\tRXN__45__9558\n",
      "\tRXN__45__9557\n",
      "\tRXN__45__9520\n",
      "\t_1__46__14__46__19__46__2__45__RXN\n",
      "\tHISTIDPHOS__45__RXN\n",
      "\tRXN__45__12971\n",
      "\t_3__46__1__46__2__46__14__45__RXN\n",
      "\tRXN__45__9537\n",
      "\tRXN__45__12766\n",
      "\tRXN__45__9555\n",
      "\n"
     ],
     "name": "stdout"
    }
   ]
  },
  {
   "cell_type": "markdown",
   "metadata": {
    "id": "n6u0SWY418Hm",
    "colab_type": "text"
   },
   "source": [
    "We can compute the **union** of all completion with a given size ..."
   ]
  },
  {
   "cell_type": "code",
   "metadata": {
    "id": "RpcZ9CUP2AEE",
    "colab_type": "code",
    "colab": {
     "base_uri": "https://localhost:8080/",
     "height": 1000
    },
    "outputId": "db3c9648-9da8-4996-da9a-93e5676f6206"
   },
   "source": [
    "model = query.get_union_of_optimal_completions(draftnet, repairnet, seeds, targets, optimum)\n",
    "brave_sol_lst = set(a[0] for pred in model if pred == 'xreaction' for a in model[pred])\n",
    "\n",
    "print('Intersection of all solutions of size {0}:\\n\\t{1}\\n'.format(\n",
    "            optimum, '\\n\\t'.join(brave_sol_lst)))"
   ],
   "execution_count": null,
   "outputs": [
    {
     "output_type": "stream",
     "text": [
      "Intersection of all solutions of size 45:\n",
      "\tRXN__45__8349\n",
      "\tRXN__45__9549\n",
      "\tRXN__45__8346\n",
      "\t_4__46__2__46__1__46__61__45__RXN\n",
      "\tADENOSYLHOMOCYSTEINASE__45__RXN\n",
      "\tRXN__45__12794\n",
      "\t_3__46__4__46__13__46__19__45__RXN\n",
      "\tRXN__45__9533\n",
      "\tRXN__45__13431\n",
      "\tRXN__45__9655\n",
      "\t_4__46__3__46__1__46__25__45__RXN\n",
      "\tGLUTDECARBOX__45__RXN\n",
      "\tPREPHENATE__45__ASP__45__TRANSAMINE__45__RXN\n",
      "\tRXN__45__12755\n",
      "\tRXN__45__13435\n",
      "\tRXN__45__12777\n",
      "\t_3__46__4__46__13__46__17__45__RXN\n",
      "\tMANNITOL__45__1__45__PHOSPHATASE__45__RXN\n",
      "\t_4__46__2__46__1__46__59__45__RXN\n",
      "\tHISTCYCLOHYD__45__RXN\n",
      "\t_4__46__2__46__1__46__58__45__RXN\n",
      "\tRXN__45__8389\n",
      "\tPHOSPHOGLYCERATE__45__PHOSPHATASE__45__RXN\n",
      "\tRXN__45__7968\n",
      "\t_3__46__4__46__13__46__4__45__RXN\n",
      "\tRXN__45__9548\n",
      "\t_4__46__3__46__1__46__23__45__RXN\n",
      "\tACP__45__S__45__ACETYLTRANSFER__45__RXN\n",
      "\tPREPHENATEDEHYDROG__45__RXN\n",
      "\tRXN__45__10727\n",
      "\tRXN__45__11243\n",
      "\tRXN__45__9634\n",
      "\tTRANS__45__CINNAMATE__45__4__45__MONOOXYGENASE__45__RXN\n",
      "\tADENYLYLSULFATE__45__REDUCTASE__45__RXN\n",
      "\tTYRAMINOTRANS__45__RXN\n",
      "\tRXN__45__12968\n",
      "\tRXN__45__13261\n",
      "\tRXN__45__12361\n",
      "\tRXN__45__13242\n",
      "\tSHIKIMATE__45__5__45__DEHYDROGENASE__45__RXN\n",
      "\tRXN__45__9673\n",
      "\tRXN__45__10663\n",
      "\tRXN__45__9550\n",
      "\tRXN__45__5682\n",
      "\tRXN__45__9558\n",
      "\tCYCLOHEXADIENYL__45__DEHYDROGENASE__45__RXN\n",
      "\tFORMYLMETHIONINE__45__DEFORMYLASE__45__RXN\n",
      "\tRXN__45__12969\n",
      "\t_2__46__3__46__1__46__180__45__RXN\n",
      "\tMALONYL__45__ACPDECARBOX__45__RXN\n",
      "\tPREPHENATE__45__DEHYDROGENASE__45__NADP__43____45__RXN\n",
      "\tFATTY__45__ACYL__45__COA__45__SYNTHASE__45__RXN\n",
      "\tFATTY__45__ACID__45__SYNTHASE__45__RXN\n",
      "\tRXN__45__9557\n",
      "\t_3__45__PHOSPHOGLYCERATE__45__PHOSPHATASE__45__RXN\n",
      "\tPREPHENATE__45__TRANSAMINE__45__RXN\n",
      "\t_4__45__COUMARATE__45____45__COA__45__LIGASE__45__RXN\n",
      "\tPHENYLALANINE__45__AMMONIA__45__LYASE__45__RXN\n",
      "\tRXN__45__8350\n",
      "\tRXN__45__9520\n",
      "\tRXN__45__12793\n",
      "\t_1__46__14__46__19__46__2__45__RXN\n",
      "\t_3__46__4__46__13__46__5__45__RXN\n",
      "\tRXN__45__12971\n",
      "\tRXN__45__9697\n",
      "\tHISTIDPHOS__45__RXN\n",
      "\tRXN__45__12487\n",
      "\tRXN__45__8347\n",
      "\tRXN__45__9537\n",
      "\t_3__46__1__46__2__46__14__45__RXN\n",
      "\tRXN__45__12766\n",
      "\t_3__46__4__46__19__46__7__45__RXN\n",
      "\tRXN__45__701\n",
      "\tRXN__45__9555\n",
      "\tTYROSINE__45__AMINOTRANSFERASE__45__RXN\n",
      "\t_3__46__4__46__14__46__1__45__RXN\n",
      "\n"
     ],
     "name": "stdout"
    }
   ]
  },
  {
   "cell_type": "markdown",
   "metadata": {
    "id": "_Sho_Bll2DkX",
    "colab_type": "text"
   },
   "source": [
    "And finally compute **all** (for this notebook we print only the first three) completions with a given size ...\n"
   ]
  },
  {
   "cell_type": "code",
   "metadata": {
    "id": "TptWH9g02HtS",
    "colab_type": "code",
    "colab": {
     "base_uri": "https://localhost:8080/",
     "height": 1000
    },
    "outputId": "267be30b-5ae6-4f24-a80a-ed6957a0ee21"
   },
   "source": [
    "models = query.get_optimal_completions(draftnet, repairnet, seeds, targets, optimum)\n",
    "count = 0\n",
    "for model in models:\n",
    "   one_min_sol_lst = set(a[0] for pred in model if pred == 'xreaction' for a in model[pred])\n",
    "   count += 1\n",
    "   print('Completion {0}:\\n\\t{1}\\n'.format(\n",
    "            str(count), '\\n\\t'.join(one_min_sol_lst)))\n",
    "   if count == 3:  break"
   ],
   "execution_count": null,
   "outputs": [
    {
     "output_type": "stream",
     "text": [
      "Completion 1:\n",
      "\tRXN__45__8349\n",
      "\tRXN__45__9549\n",
      "\tRXN__45__8346\n",
      "\t_4__46__2__46__1__46__61__45__RXN\n",
      "\tRXN__45__9533\n",
      "\tADENOSYLHOMOCYSTEINASE__45__RXN\n",
      "\tRXN__45__13431\n",
      "\tRXN__45__9655\n",
      "\tGLUTDECARBOX__45__RXN\n",
      "\tRXN__45__13435\n",
      "\tRXN__45__12777\n",
      "\tMANNITOL__45__1__45__PHOSPHATASE__45__RXN\n",
      "\t_4__46__2__46__1__46__59__45__RXN\n",
      "\tHISTCYCLOHYD__45__RXN\n",
      "\t_4__46__2__46__1__46__58__45__RXN\n",
      "\tPHOSPHOGLYCERATE__45__PHOSPHATASE__45__RXN\n",
      "\tRXN__45__7968\n",
      "\tRXN__45__10727\n",
      "\tRXN__45__11243\n",
      "\tRXN__45__9634\n",
      "\tADENYLYLSULFATE__45__REDUCTASE__45__RXN\n",
      "\tRXN__45__12968\n",
      "\tRXN__45__13261\n",
      "\tRXN__45__12361\n",
      "\tRXN__45__13242\n",
      "\tRXN__45__12969\n",
      "\tRXN__45__9673\n",
      "\tRXN__45__10663\n",
      "\tRXN__45__9550\n",
      "\tRXN__45__9548\n",
      "\tRXN__45__9558\n",
      "\tRXN__45__9555\n",
      "\tRXN__45__9557\n",
      "\t_4__45__COUMARATE__45____45__COA__45__LIGASE__45__RXN\n",
      "\tPHENYLALANINE__45__AMMONIA__45__LYASE__45__RXN\n",
      "\tRXN__45__9520\n",
      "\t_1__46__14__46__19__46__2__45__RXN\n",
      "\tHISTIDPHOS__45__RXN\n",
      "\tRXN__45__12971\n",
      "\tRXN__45__9697\n",
      "\tRXN__45__8347\n",
      "\tRXN__45__9537\n",
      "\t_3__46__1__46__2__46__14__45__RXN\n",
      "\tRXN__45__12766\n",
      "\tTRANS__45__CINNAMATE__45__4__45__MONOOXYGENASE__45__RXN\n",
      "\n",
      "Completion 2:\n",
      "\tRXN__45__8349\n",
      "\tRXN__45__9549\n",
      "\tRXN__45__8346\n",
      "\t_4__46__2__46__1__46__61__45__RXN\n",
      "\tRXN__45__9533\n",
      "\tADENOSYLHOMOCYSTEINASE__45__RXN\n",
      "\tRXN__45__9655\n",
      "\tGLUTDECARBOX__45__RXN\n",
      "\tRXN__45__13435\n",
      "\tRXN__45__12777\n",
      "\tMANNITOL__45__1__45__PHOSPHATASE__45__RXN\n",
      "\t_4__46__2__46__1__46__59__45__RXN\n",
      "\tHISTCYCLOHYD__45__RXN\n",
      "\t_4__46__2__46__1__46__58__45__RXN\n",
      "\tPHOSPHOGLYCERATE__45__PHOSPHATASE__45__RXN\n",
      "\tRXN__45__7968\n",
      "\tRXN__45__10727\n",
      "\tRXN__45__11243\n",
      "\tRXN__45__9634\n",
      "\tADENYLYLSULFATE__45__REDUCTASE__45__RXN\n",
      "\tRXN__45__12968\n",
      "\tRXN__45__13261\n",
      "\tRXN__45__12361\n",
      "\tRXN__45__13242\n",
      "\tRXN__45__12969\n",
      "\tRXN__45__9673\n",
      "\tRXN__45__10663\n",
      "\tRXN__45__9550\n",
      "\tRXN__45__9548\n",
      "\tRXN__45__9558\n",
      "\tRXN__45__9555\n",
      "\tRXN__45__9557\n",
      "\t_4__45__COUMARATE__45____45__COA__45__LIGASE__45__RXN\n",
      "\tPHENYLALANINE__45__AMMONIA__45__LYASE__45__RXN\n",
      "\tRXN__45__8350\n",
      "\tRXN__45__9520\n",
      "\t_1__46__14__46__19__46__2__45__RXN\n",
      "\tHISTIDPHOS__45__RXN\n",
      "\tRXN__45__12971\n",
      "\tRXN__45__9697\n",
      "\tRXN__45__8347\n",
      "\tRXN__45__9537\n",
      "\t_3__46__1__46__2__46__14__45__RXN\n",
      "\tRXN__45__12766\n",
      "\tTRANS__45__CINNAMATE__45__4__45__MONOOXYGENASE__45__RXN\n",
      "\n",
      "Completion 3:\n",
      "\tRXN__45__8349\n",
      "\tRXN__45__9549\n",
      "\tRXN__45__8346\n",
      "\t_4__46__2__46__1__46__61__45__RXN\n",
      "\tRXN__45__9533\n",
      "\tADENOSYLHOMOCYSTEINASE__45__RXN\n",
      "\tRXN__45__9655\n",
      "\tGLUTDECARBOX__45__RXN\n",
      "\tRXN__45__12755\n",
      "\tRXN__45__13435\n",
      "\tRXN__45__12777\n",
      "\tMANNITOL__45__1__45__PHOSPHATASE__45__RXN\n",
      "\t_4__46__2__46__1__46__59__45__RXN\n",
      "\tHISTCYCLOHYD__45__RXN\n",
      "\t_4__46__2__46__1__46__58__45__RXN\n",
      "\tPHOSPHOGLYCERATE__45__PHOSPHATASE__45__RXN\n",
      "\tRXN__45__7968\n",
      "\tRXN__45__10727\n",
      "\tRXN__45__11243\n",
      "\tRXN__45__9634\n",
      "\tADENYLYLSULFATE__45__REDUCTASE__45__RXN\n",
      "\tRXN__45__12968\n",
      "\tRXN__45__13261\n",
      "\tRXN__45__12361\n",
      "\tRXN__45__13242\n",
      "\tRXN__45__12969\n",
      "\tRXN__45__9673\n",
      "\tRXN__45__10663\n",
      "\tRXN__45__9550\n",
      "\tRXN__45__9548\n",
      "\tRXN__45__9558\n",
      "\tRXN__45__9555\n",
      "\tRXN__45__9557\n",
      "\t_4__45__COUMARATE__45____45__COA__45__LIGASE__45__RXN\n",
      "\tPHENYLALANINE__45__AMMONIA__45__LYASE__45__RXN\n",
      "\tRXN__45__9520\n",
      "\t_1__46__14__46__19__46__2__45__RXN\n",
      "\tHISTIDPHOS__45__RXN\n",
      "\tRXN__45__12971\n",
      "\tRXN__45__9697\n",
      "\tRXN__45__8347\n",
      "\tRXN__45__9537\n",
      "\t_3__46__1__46__2__46__14__45__RXN\n",
      "\tRXN__45__12766\n",
      "\tTRANS__45__CINNAMATE__45__4__45__MONOOXYGENASE__45__RXN\n",
      "\n"
     ],
     "name": "stdout"
    }
   ]
  },
  {
   "cell_type": "markdown",
   "metadata": {
    "id": "ZSpZ-sOt2LnL",
    "colab_type": "text"
   },
   "source": [
    "That's all folks!"
   ]
  }
 ]
}
