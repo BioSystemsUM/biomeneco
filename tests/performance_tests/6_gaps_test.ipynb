{
 "cells": [
  {
   "cell_type": "code",
   "execution_count": 1,
   "outputs": [],
   "source": [
    "# alterar os underscores do file\n",
    "from src.gap_filling_dl.biomeneco.fix_files.fix_underscore import fix_file\n",
    "\n",
    "#universal_change = '/Users/josediogomoura/gap_filling_dl/tests/data/6gaps/universal_model_kegg.xml'\n",
    "#fix_file(universal_change)"
   ],
   "metadata": {
    "collapsed": false,
    "pycharm": {
     "name": "#%%\n"
    }
   }
  },
  {
   "cell_type": "code",
   "execution_count": 3,
   "outputs": [
    {
     "name": "stdout",
     "output_type": "stream",
     "text": [
      "Maximize\n",
      "1.0*Biomass_C3_cytop - 1.0*Biomass_C3_cytop_reverse_fc83b\n"
     ]
    }
   ],
   "source": [
    "from cobra.io import read_sbml_model\n",
    "\n",
    "model = read_sbml_model('/Users/josediogomoura/gap_filling_dl/tests/data/6gaps/6gaps_model.xml')\n",
    "print(model.objective)\n",
    "\n"
   ],
   "metadata": {
    "collapsed": false,
    "pycharm": {
     "name": "#%%\n"
    }
   }
  },
  {
   "cell_type": "code",
   "execution_count": 5,
   "outputs": [],
   "source": [
    "from src.gap_filling_dl.biomeneco.model import Model\n",
    "\n",
    "my_model = Model(model= model, objective_function_id='Biomass_C3_cytop')"
   ],
   "metadata": {
    "collapsed": false,
    "pycharm": {
     "name": "#%%\n"
    }
   }
  },
  {
   "cell_type": "code",
   "execution_count": 8,
   "outputs": [
    {
     "name": "stdout",
     "output_type": "stream",
     "text": [
      "Using COBRApy default solver, namely glpk\n"
     ]
    },
    {
     "name": "stderr",
     "output_type": "stream",
     "text": [
      "Could not identify an external compartment by name and choosing one with the most boundary reactions. That might be complete nonsense or change suddenly. Consider renaming your compartments using `Model.compartments` to fix this.\n"
     ]
    },
    {
     "name": "stdout",
     "output_type": "stream",
     "text": [
      "my targets are: [('e_CellWall_cytop', 'C_00002'), ('C06042_cytop', 'C_00002'), ('e_DNA_cytop', 'C_00002'), ('C01356_cytop', 'C_00002')]\n",
      "my seeds are: [('C00001_extr_b', 'C_00001'), ('C00262_extr_b', 'C_00001'), ('C00124_extr_b', 'C_00001'), ('C00140_extr_b', 'C_00001'), ('C00106_extr_b', 'C_00001'), ('Biomass_extr_b', 'C_00001'), ('C00159_extr_b', 'C_00001'), ('C00047_extr_b', 'C_00001'), ('C00147_extr_b', 'C_00001'), ('C00255_extr_b', 'C_00001'), ('C00041_extr_b', 'C_00001'), ('C00186_extr_b', 'C_00001'), ('C00022_extr_b', 'C_00001'), ('C00025_extr_b', 'C_00001'), ('C00033_extr_b', 'C_00001'), ('C00378_extr_b', 'C_00001'), ('C00153_extr_b', 'C_00001'), ('C00183_extr_b', 'C_00001'), ('C00014_extr_b', 'C_00001'), ('C01330_extr_b', 'C_00001'), ('C00011_extr_b', 'C_00001'), ('C03089_cytop_b', 'C_00001'), ('C00073_extr_b', 'C_00001'), ('C00027_extr_b', 'C_00001'), ('C00492_extr_b', 'C_00001'), ('C00504_extr_b', 'C_00001'), ('C00079_extr_b', 'C_00001'), ('C00134_extr_b', 'C_00001'), ('C00750_extr_b', 'C_00001'), ('C00062_extr_b', 'C_00001'), ('C00065_extr_b', 'C_00001'), ('C00120_extr_b', 'C_00001'), ('C00123_extr_b', 'C_00001'), ('C00049_extr_b', 'C_00001'), ('C00082_extr_b', 'C_00001'), ('C01762_extr_b', 'C_00001'), ('C00135_extr_b', 'C_00001'), ('C00188_extr_b', 'C_00001'), ('C00243_extr_b', 'C_00001'), ('C00288_extr_b', 'C_00001'), ('C00864_extr_b', 'C_00001'), ('C00148_extr_b', 'C_00001'), ('C00009_extr_b', 'C_00001'), ('C00266_extr_b', 'C_00001'), ('C00058_extr_b', 'C_00001'), ('C00097_extr_b', 'C_00001'), ('C00152_extr_b', 'C_00001'), ('C00089_extr_b', 'C_00001'), ('C00064_extr_b', 'C_00001'), ('C00078_extr_b', 'C_00001'), ('C01613_extr_b', 'C_00001'), ('C00122_extr_b', 'C_00001'), ('C00059_extr_b', 'C_00001'), ('C00114_extr_b', 'C_00001'), ('C00267_extr_b', 'C_00001'), ('C00469_extr_b', 'C_00001'), ('C00253_extr_b', 'C_00001'), ('C00080_extr_b', 'C_00001'), ('C00116_extr_b', 'C_00001'), ('C00037_extr_b', 'C_00001'), ('C00042_extr_b', 'C_00001'), ('C00242_extr_b', 'C_00001'), ('C00250_extr_b', 'C_00001'), ('C14818_extr_b', 'C_00001'), ('C00392_extr_b', 'C_00001'), ('C00407_extr_b', 'C_00001'), ('C00007_extr_b', 'C_00001')]\n"
     ]
    }
   ],
   "source": [
    "print('my targets are:', my_model.identify_targets())\n",
    "print('my seeds are:', my_model.identify_seeds())"
   ],
   "metadata": {
    "collapsed": false,
    "pycharm": {
     "name": "#%%\n"
    }
   }
  },
  {
   "cell_type": "code",
   "execution_count": 9,
   "outputs": [
    {
     "name": "stderr",
     "output_type": "stream",
     "text": [
      "Could not identify an external compartment by name and choosing one with the most boundary reactions. That might be complete nonsense or change suddenly. Consider renaming your compartments using `Model.compartments` to fix this.\n"
     ]
    },
    {
     "name": "stdout",
     "output_type": "stream",
     "text": [
      "Using COBRApy default solver, namely glpk\n"
     ]
    }
   ],
   "source": [
    "my_model.to_sbml('6gaps', '/Users/josediogomoura/gap_filling_dl/tests/data/6gaps', seeds=True, targets=True)"
   ],
   "metadata": {
    "collapsed": false,
    "pycharm": {
     "name": "#%%\n"
    }
   }
  },
  {
   "cell_type": "code",
   "execution_count": 10,
   "outputs": [
    {
     "name": "stdout",
     "output_type": "stream",
     "text": [
      "Found file: universal_model_kegg.xml\n",
      "Found file: 6gaps_model.xml\n",
      "Found file: 6gaps_targets.xml\n",
      "Found file: 6gaps_seeds.xml\n",
      "model_file: 6gaps_model.xml\n",
      "seeds_file: 6gaps_seeds.xml\n",
      "targets_file: 6gaps_targets.xml\n",
      "universal_model_file: universal_model_kegg.xml\n"
     ]
    }
   ],
   "source": [
    "from src.gap_filling_dl.biomeneco.gapfiller import GapFiller\n",
    "\n",
    "gapfiller = GapFiller.from_folder('/Users/josediogomoura/gap_filling_dl/tests/data/6gaps')"
   ],
   "metadata": {
    "collapsed": false,
    "pycharm": {
     "name": "#%%\n"
    }
   }
  },
  {
   "cell_type": "code",
   "execution_count": 11,
   "outputs": [
    {
     "name": "stderr",
     "output_type": "stream",
     "text": [
      "Warning: R_EX_C00001_extr_b listOfProducts=None\n",
      "Warning: R_EX_C00262_extr_b listOfProducts=None\n",
      "Warning: R_EX_C00124_extr_b listOfProducts=None\n",
      "Warning: R_EX_C00140_extr_b listOfProducts=None\n",
      "Warning: R_EX_C00106_extr_b listOfProducts=None\n",
      "Warning: R_EX_Biomass_extr_b listOfProducts=None\n",
      "Warning: R_EX_C00159_extr_b listOfProducts=None\n",
      "Warning: R_EX_C00047_extr_b listOfProducts=None\n",
      "Warning: R_EX_C00147_extr_b listOfProducts=None\n",
      "Warning: R_EX_C00255_extr_b listOfProducts=None\n",
      "Warning: R_EX_C00041_extr_b listOfProducts=None\n",
      "Warning: R_EX_C00186_extr_b listOfProducts=None\n",
      "Warning: R_EX_C00022_extr_b listOfProducts=None\n",
      "Warning: R_EX_C00025_extr_b listOfProducts=None\n",
      "Warning: R_EX_C00033_extr_b listOfProducts=None\n",
      "Warning: R_EX_C00378_extr_b listOfProducts=None\n",
      "Warning: R_EX_C00153_extr_b listOfProducts=None\n",
      "Warning: R_EX_C00183_extr_b listOfProducts=None\n",
      "Warning: R_EX_C00014_extr_b listOfProducts=None\n",
      "Warning: R_EX_C01330_extr_b listOfProducts=None\n",
      "Warning: R_EX_C00011_extr_b listOfProducts=None\n",
      "Warning: R_EX_C03089_cytop_b listOfProducts=None\n",
      "Warning: R_EX_C00073_extr_b listOfProducts=None\n",
      "Warning: R_EX_C00027_extr_b listOfProducts=None\n",
      "Warning: R_EX_C00492_extr_b listOfProducts=None\n",
      "Warning: R_EX_C00504_extr_b listOfProducts=None\n",
      "Warning: R_EX_C00079_extr_b listOfProducts=None\n",
      "Warning: R_EX_C00134_extr_b listOfProducts=None\n",
      "Warning: R_EX_C00750_extr_b listOfProducts=None\n",
      "Warning: R_EX_C00062_extr_b listOfProducts=None\n",
      "Warning: R_EX_C00065_extr_b listOfProducts=None\n",
      "Warning: R_EX_C00120_extr_b listOfProducts=None\n",
      "Warning: R_EX_C00123_extr_b listOfProducts=None\n",
      "Warning: R_EX_C00049_extr_b listOfProducts=None\n",
      "Warning: R_EX_C00082_extr_b listOfProducts=None\n",
      "Warning: R_EX_C01762_extr_b listOfProducts=None\n",
      "Warning: R_EX_C00135_extr_b listOfProducts=None\n",
      "Warning: R_EX_C00188_extr_b listOfProducts=None\n",
      "Warning: R_EX_C00243_extr_b listOfProducts=None\n",
      "Warning: R_EX_C00288_extr_b listOfProducts=None\n",
      "Warning: R_EX_C00864_extr_b listOfProducts=None\n",
      "Warning: R_EX_C00148_extr_b listOfProducts=None\n",
      "Warning: R_EX_C00009_extr_b listOfProducts=None\n",
      "Warning: R_EX_C00266_extr_b listOfProducts=None\n",
      "Warning: R_EX_C00058_extr_b listOfProducts=None\n",
      "Warning: R_EX_C00097_extr_b listOfProducts=None\n",
      "Warning: R_EX_C00152_extr_b listOfProducts=None\n",
      "Warning: R_EX_C00089_extr_b listOfProducts=None\n",
      "Warning: R_EX_C00064_extr_b listOfProducts=None\n",
      "Warning: R_EX_C00078_extr_b listOfProducts=None\n",
      "Warning: R_EX_C01613_extr_b listOfProducts=None\n",
      "Warning: R_EX_C00122_extr_b listOfProducts=None\n",
      "Warning: R_EX_C00059_extr_b listOfProducts=None\n",
      "Warning: R_EX_C00114_extr_b listOfProducts=None\n",
      "Warning: R_EX_C00267_extr_b listOfProducts=None\n",
      "Warning: R_EX_C00469_extr_b listOfProducts=None\n",
      "Warning: R_EX_C00253_extr_b listOfProducts=None\n",
      "Warning: R_EX_C00080_extr_b listOfProducts=None\n",
      "Warning: R_EX_C00116_extr_b listOfProducts=None\n",
      "Warning: R_EX_C00037_extr_b listOfProducts=None\n",
      "Warning: R_EX_C00042_extr_b listOfProducts=None\n",
      "Warning: R_EX_C00242_extr_b listOfProducts=None\n",
      "Warning: R_EX_C00250_extr_b listOfProducts=None\n",
      "Warning: R_EX_C14818_extr_b listOfProducts=None\n",
      "Warning: R_EX_C00392_extr_b listOfProducts=None\n",
      "Warning: R_EX_C00407_extr_b listOfProducts=None\n",
      "Warning: R_EX_C00007_extr_b listOfProducts=None\n"
     ]
    },
    {
     "name": "stdout",
     "output_type": "stream",
     "text": [
      "Time taken:  2.2069907188415527\n"
     ]
    },
    {
     "data": {
      "text/plain": "{'Draft network file': '/Users/josediogomoura/gap_filling_dl/tests/data/6gaps/6gaps_model.xml',\n 'Seeds file': '/Users/josediogomoura/gap_filling_dl/tests/data/6gaps/6gaps_seeds.xml',\n 'Targets file': '/Users/josediogomoura/gap_filling_dl/tests/data/6gaps/6gaps_targets.xml',\n 'Unproducible targets': ['M_C01356_cytop',\n  'M_C06042_cytop',\n  'M_e_CellWall_cytop',\n  'M_e_DNA_cytop'],\n 'Repair db file': '/Users/josediogomoura/gap_filling_dl/tests/data/6gaps/universal_model_kegg.xml',\n 'Unreconstructable targets': ['M_C01356_cytop',\n  'M_C06042_cytop',\n  'M_e_CellWall_cytop',\n  'M_e_DNA_cytop'],\n 'Reconstructable targets': []}"
     },
     "execution_count": 11,
     "metadata": {},
     "output_type": "execute_result"
    }
   ],
   "source": [
    "gapfiller.run(enumeration=True,json_output=True)"
   ],
   "metadata": {
    "collapsed": false,
    "pycharm": {
     "name": "#%%\n"
    }
   }
  },
  {
   "cell_type": "code",
   "execution_count": 12,
   "outputs": [
    {
     "data": {
      "text/plain": "[<Reaction EX_C00001_extr_b at 0x7fa09b1f17e0>,\n <Reaction EX_C00262_extr_b at 0x7fa09b221cc0>,\n <Reaction EX_C00124_extr_b at 0x7fa09b222080>,\n <Reaction EX_C00140_extr_b at 0x7fa09b222110>,\n <Reaction EX_C00106_extr_b at 0x7fa09b2222c0>,\n <Reaction EX_Biomass_extr_b at 0x7fa09b2223e0>,\n <Reaction EX_C00159_extr_b at 0x7fa09b222500>,\n <Reaction EX_C00047_extr_b at 0x7fa09b222620>,\n <Reaction EX_C00147_extr_b at 0x7fa09b222740>,\n <Reaction EX_C00255_extr_b at 0x7fa09b222860>,\n <Reaction EX_C00041_extr_b at 0x7fa09b222980>,\n <Reaction EX_C00186_extr_b at 0x7fa09b222aa0>,\n <Reaction EX_C00022_extr_b at 0x7fa09b222bc0>,\n <Reaction EX_C00025_extr_b at 0x7fa09b222ce0>,\n <Reaction EX_C00033_extr_b at 0x7fa09b222e00>,\n <Reaction EX_C00378_extr_b at 0x7fa09b222f20>,\n <Reaction EX_C00153_extr_b at 0x7fa09b223040>,\n <Reaction EX_C00183_extr_b at 0x7fa09b223160>,\n <Reaction EX_C00014_extr_b at 0x7fa09b223280>,\n <Reaction EX_C01330_extr_b at 0x7fa09b2233a0>,\n <Reaction EX_C00011_extr_b at 0x7fa09b2234c0>,\n <Reaction EX_C03089_cytop_b at 0x7fa09b2235e0>,\n <Reaction EX_C00073_extr_b at 0x7fa09b223700>,\n <Reaction EX_C00027_extr_b at 0x7fa09b223820>,\n <Reaction EX_C00492_extr_b at 0x7fa09b223940>,\n <Reaction EX_C00504_extr_b at 0x7fa09b223a60>,\n <Reaction EX_C00079_extr_b at 0x7fa09b223b80>,\n <Reaction EX_C00134_extr_b at 0x7fa09b223ca0>,\n <Reaction EX_C00750_extr_b at 0x7fa09b223dc0>,\n <Reaction EX_C00062_extr_b at 0x7fa09b223ee0>,\n <Reaction EX_C00065_extr_b at 0x7fa09b223fd0>,\n <Reaction EX_C00120_extr_b at 0x7fa09b221de0>,\n <Reaction EX_C00123_extr_b at 0x7fa09b221d20>,\n <Reaction EX_C00049_extr_b at 0x7fa09b223f70>,\n <Reaction EX_C00082_extr_b at 0x7fa09b24c4c0>,\n <Reaction EX_C01762_extr_b at 0x7fa09b24c5e0>,\n <Reaction EX_C00135_extr_b at 0x7fa09b24c700>,\n <Reaction EX_C00188_extr_b at 0x7fa09b24c820>,\n <Reaction EX_C00243_extr_b at 0x7fa09b24c940>,\n <Reaction EX_C00288_extr_b at 0x7fa09b24ca60>,\n <Reaction EX_C00864_extr_b at 0x7fa09b24cb80>,\n <Reaction EX_C00148_extr_b at 0x7fa09b24cca0>,\n <Reaction EX_C00009_extr_b at 0x7fa09b24cdc0>,\n <Reaction EX_C00266_extr_b at 0x7fa09b24cee0>,\n <Reaction EX_C00058_extr_b at 0x7fa09b24d000>,\n <Reaction EX_C00097_extr_b at 0x7fa09b24d120>,\n <Reaction EX_C00152_extr_b at 0x7fa09b24d240>,\n <Reaction EX_C00089_extr_b at 0x7fa09b24d360>,\n <Reaction EX_C00064_extr_b at 0x7fa09b24d480>,\n <Reaction EX_C00078_extr_b at 0x7fa09b24d5a0>,\n <Reaction EX_C01613_extr_b at 0x7fa09b24d6c0>,\n <Reaction EX_C00122_extr_b at 0x7fa09b24d7e0>,\n <Reaction EX_C00059_extr_b at 0x7fa09b24d900>,\n <Reaction EX_C00114_extr_b at 0x7fa09b24da20>,\n <Reaction EX_C00267_extr_b at 0x7fa09b24db40>,\n <Reaction EX_C00469_extr_b at 0x7fa09b24dc60>,\n <Reaction EX_C00253_extr_b at 0x7fa09b24dd80>,\n <Reaction EX_C00080_extr_b at 0x7fa09b24dea0>,\n <Reaction EX_C00116_extr_b at 0x7fa09b24dfc0>,\n <Reaction EX_C00037_extr_b at 0x7fa09b24e0e0>,\n <Reaction EX_C00042_extr_b at 0x7fa09b24e200>,\n <Reaction EX_C00242_extr_b at 0x7fa09b24e320>,\n <Reaction EX_C00250_extr_b at 0x7fa09b24e440>,\n <Reaction EX_C14818_extr_b at 0x7fa09b24e560>,\n <Reaction EX_C00392_extr_b at 0x7fa09b24e680>,\n <Reaction EX_C00407_extr_b at 0x7fa09b24e7a0>,\n <Reaction EX_C00007_extr_b at 0x7fa09b24e8c0>,\n <Reaction R00174_C3_cytop at 0x7fa09b24e9e0>,\n <Reaction R03240_C3_cytop at 0x7fa09b24eb00>,\n <Reaction T00357_C4_cytmem at 0x7fa09b24f070>,\n <Reaction T00698_C4_cytmem at 0x7fa09b24ec50>,\n <Reaction R01771_C3_cytop at 0x7fa09b24f340>,\n <Reaction T01122_C4_cytmem at 0x7fa09b24f9a0>,\n <Reaction R04426_C3_cytop at 0x7fa09b24fd30>,\n <Reaction R00248_C3_cytop at 0x7fa09b24fca0>,\n <Reaction R03509_C3_cytop at 0x7fa09b24fc10>,\n <Reaction T01669_C4_cytmem at 0x7fa09b264340>,\n <Reaction R01561_C3_cytop at 0x7fa09b2642b0>,\n <Reaction R01152_C3_cytop at 0x7fa09b265cf0>,\n <Reaction R01665_C3_cytop at 0x7fa09b24efe0>,\n <Reaction R02295_C3_cytop at 0x7fa09b24f3d0>,\n <Reaction R02297_C3_cytop at 0x7fa09b2664d0>,\n <Reaction R07281_C3_cytop at 0x7fa09b266710>,\n <Reaction R04208_C3_cytop at 0x7fa09b266410>,\n <Reaction R00512_C3_cytop at 0x7fa09b266ad0>,\n <Reaction R04965_C3_cytop at 0x7fa09b267310>,\n <Reaction R02294_C3_cytop at 0x7fa09b2677c0>,\n <Reaction R00847_C3_cytop at 0x7fa09b2671c0>,\n <Reaction T_L_Asparagine_transport_cytmem at 0x7fa09b274040>,\n <Reaction T00637_C4_cytmem at 0x7fa09b2669e0>,\n <Reaction T01631_C4_cytmem at 0x7fa09b267e50>,\n <Reaction T_Ethanol_transport_cytmem at 0x7fa09b266d10>,\n <Reaction R02096_C3_cytop at 0x7fa09b24ffd0>,\n <Reaction T_L_Aspartate_transport_cytmem at 0x7fa09b267df0>,\n <Reaction T00417_C4_cytmem at 0x7fa09b267b80>,\n <Reaction R00516_C3_cytop at 0x7fa09b274b20>,\n <Reaction T01595_C4_cytmem at 0x7fa09b2757b0>,\n <Reaction T01141_C4_cytmem at 0x7fa09b2759f0>,\n <Reaction T_Oxygen_transport_cytmem at 0x7fa09b275d80>,\n <Reaction T00693_C4_cytmem at 0x7fa09b275ff0>,\n <Reaction R02245_C3_cytop at 0x7fa09b274eb0>,\n <Reaction R01021_C3_cytop at 0x7fa09b276680>,\n <Reaction R03018_C3_cytop at 0x7fa09b2768c0>,\n <Reaction T00555_1_C4_cytmem at 0x7fa09b276bf0>,\n <Reaction R01652_C3_cytop at 0x7fa09b276ef0>,\n <Reaction R00315_C3_cytop at 0x7fa09b276f50>,\n <Reaction R01547_C3_cytop at 0x7fa09b2771f0>,\n <Reaction R05068_C3_cytop at 0x7fa09b2770a0>,\n <Reaction R02733_C3_cytop at 0x7fa09b277610>,\n <Reaction R00150_C3_cytop at 0x7fa09b2777f0>,\n <Reaction R04440_C3_cytop at 0x7fa09b2779a0>,\n <Reaction R02090_C3_cytop at 0x7fa09b277b80>,\n <Reaction T00692_1_0_C4_cytmem at 0x7fa09b277d60>,\n <Reaction R00480_C3_cytop at 0x7fa09b277f10>,\n <Reaction R04377_C3_cytop at 0x7fa09b277df0>,\n <Reaction R00158_C3_cytop at 0x7fa09b277940>,\n <Reaction R04457_C3_cytop at 0x7fa09b276290>,\n <Reaction R04364_C3_cytop at 0x7fa09b277eb0>,\n <Reaction R01512_C3_cytop at 0x7fa09b28c790>,\n <Reaction R02094_C3_cytop at 0x7fa09b28c970>,\n <Reaction T00497_C4_cytmem at 0x7fa09b28cb20>,\n <Reaction R00130_C3_cytop at 0x7fa09b28ccd0>,\n <Reaction R00104_C3_cytop at 0x7fa09b28ce80>,\n <Reaction T01590_C4_cytmem at 0x7fa09b28d030>,\n <Reaction T01557_2_0_C4_cytmem at 0x7fa09b28d1e0>,\n <Reaction R04536_C3_cytop at 0x7fa09b28d3c0>,\n <Reaction T02385_C4_cytmem at 0x7fa09b28d2a0>,\n <Reaction R04543_C3_cytop at 0x7fa09b28d7b0>,\n <Reaction R04953_C3_cytop at 0x7fa09b28d960>,\n <Reaction R02060_C3_cytop at 0x7fa09b28d1b0>,\n <Reaction R04966_C3_cytop at 0x7fa09b28dcc0>,\n <Reaction R04969_C3_cytop at 0x7fa09b28df30>,\n <Reaction R04961_C3_cytop at 0x7fa09b28e5f0>,\n <Reaction R04724_C3_cytop at 0x7fa09b28e7d0>,\n <Reaction R04537_C3_cytop at 0x7fa09b28e9b0>,\n <Reaction R00844_C3_cytop at 0x7fa09b28eb90>,\n <Reaction R04544_C3_cytop at 0x7fa09b28ed10>,\n <Reaction R02081_C3_cytop at 0x7fa0a9b56c50>,\n <Reaction EX_C00135_extr at 0x7fa0a9b56d70>,\n <Reaction R05070_C3_cytop at 0x7fa0a9b575b0>,\n <Reaction T01146_C4_cytmem at 0x7fa0a9b56830>,\n <Reaction EX_C00134_extr at 0x7fa0a9b56b90>,\n <Reaction R02099_C3_cytop at 0x7fa0a9b56230>,\n <Reaction T01848_C4_cytmem at 0x7fa0a9b570d0>,\n <Reaction EX_C00266_extr at 0x7fa0a9b96ad0>,\n <Reaction T01670_C4_cytmem at 0x7fa0a9b579d0>,\n <Reaction EX_C00027_extr at 0x7fa0a9b96cb0>,\n <Reaction Lipid_entity_cytop at 0x7fa0a9b970d0>,\n <Reaction T02406_0_3_11_0_C4_cytmem at 0x7fa0a9b97a90>,\n <Reaction EX_C00058_extr at 0x7fa0a9b97ca0>,\n <Reaction ATP_m_cytop at 0x7fa0a9b964d0>,\n <Reaction EX_C00073_extr at 0x7fa0a9bc23b0>,\n <Reaction T01850_C4_cytmem at 0x7fa0a9bc2860>,\n <Reaction T01591_C4_cytmem at 0x7fa0a9bc35b0>,\n <Reaction EX_C00378_extr at 0x7fa0a9bdc9a0>,\n <Reaction EX_C00042_extr at 0x7fa0a9bc2320>,\n <Reaction R04441_C3_cytop at 0x7fa0a9bc3af0>,\n <Reaction T01851_C4_cytmem at 0x7fa0a9bc3ac0>,\n <Reaction R00549_C3_cytop at 0x7fa0a9bddd20>,\n <Reaction R04429_C3_cytop at 0x7fa0a9bdeec0>,\n <Reaction R01515_C3_cytop at 0x7fa0a9bddff0>,\n <Reaction R02020_C3_cytop at 0x7fa0a9bdf5b0>,\n <Reaction R04568_C3_cytop at 0x7fa0a9bdff10>,\n <Reaction R02014_C3_cytop at 0x7fa0a9bdebf0>,\n <Reaction R04534_C3_cytop at 0x7fa0a9bdf5e0>,\n <Reaction R00317_C3_cytop at 0x7fa0a9bfd240>,\n <Reaction R02022_C3_cytop at 0x7fa0a9bfe350>,\n <Reaction R04958_C3_cytop at 0x7fa0a9bfd9f0>,\n <Reaction R04964_C3_cytop at 0x7fa0a9bfe0e0>,\n <Reaction R04955_C3_cytop at 0x7fa0a9bff2b0>,\n <Reaction R04535_C3_cytop at 0x7fa0a9bff340>,\n <Reaction R02023_C3_cytop at 0x7fa0a9bffa60>,\n <Reaction R04954_C3_cytop at 0x7fa0a9bff850>,\n <Reaction R00485_C3_cytop at 0x7fa0b9f197b0>,\n <Reaction R04566_C3_cytop at 0x7fa0b9f19c30>,\n <Reaction R04533_C3_cytop at 0x7fa0b9f1a7a0>,\n <Reaction T02394_C4_cytmem at 0x7fa0b9f1b610>,\n <Reaction EX_C00041_extr at 0x7fa0b9f1ae00>,\n <Reaction T01004_1_C4_cytmem at 0x7fa0a9bde890>,\n <Reaction EX_C00392_extr at 0x7fa0a9bdd090>,\n <Reaction EX_C00078_extr at 0x7fa0a9bdce80>,\n <Reaction T01769_C4_cytmem at 0x7fa0a9bc3c10>,\n <Reaction EX_C00114_extr at 0x7fa0b9f1bee0>,\n <Reaction EX_C01762_extr at 0x7fa0b9f3e590>,\n <Reaction EX_C00255_extr at 0x7fa0b9f3d8a0>,\n <Reaction EX_C00250_extr at 0x7fa0b9f3e170>,\n <Reaction EX_C00116_extr at 0x7fa0b9f3e440>,\n <Reaction T02047_C4_cytmem at 0x7fa0b9f3f0d0>,\n <Reaction EX_C00065_extr at 0x7fa0b9f3fa30>,\n <Reaction R01230_C3_cytop at 0x7fa0b9f3ea40>,\n <Reaction R01466_C3_cytop at 0x7fa0b9f3fbe0>,\n <Reaction R01231_C3_cytop at 0x7fa0b9f3c190>,\n <Reaction R02017_C3_cytop at 0x7fa0b9f5cd30>,\n <Reaction R04144_C3_cytop at 0x7fa0b9f5dde0>,\n <Reaction R04463_C3_cytop at 0x7fa0b9f5ea70>,\n <Reaction R03083_C3_cytop at 0x7fa0b9f5e9e0>,\n <Reaction R01714_C3_cytop at 0x7fa0b9f5fd90>,\n <Reaction R00199_C3_cytop at 0x7fa0b9f5fbb0>,\n <Reaction R00189_C3_cytop at 0x7fa0b9f5ee90>,\n <Reaction R02024_C3_cytop at 0x7fa0b9f7d600>,\n <Reaction R02019_C3_cytop at 0x7fa0b9f7dc90>,\n <Reaction R04467_C3_cytop at 0x7fa0b9f7e950>,\n <Reaction R02018_C3_cytop at 0x7fa0b9f5c940>,\n <Reaction R00506_C3_cytop at 0x7fa0b9f3c610>,\n <Reaction EX_C00407_extr at 0x7fa0b9f3f940>,\n <Reaction EX_C00062_extr at 0x7fa0b9f3ec80>,\n <Reaction EX_C00089_extr at 0x7fa0b9f7fee0>,\n <Reaction EX_C00188_extr at 0x7fa0b9f7f100>,\n <Reaction EX_C00123_extr at 0x7fa0b9f3fca0>,\n <Reaction EX_C00262_extr at 0x7fa0b9f7f2e0>,\n <Reaction T00054_C4_cytmem at 0x7fa0b9fa1ae0>,\n <Reaction EX_C00267_extr at 0x7fa0b9fa1f60>,\n <Reaction T01602_C4_cytmem at 0x7fa0b9fa2920>,\n <Reaction EX_C01613_extr at 0x7fa0b9fa2290>,\n <Reaction R00451_C3_cytop at 0x7fa0b9fa2b90>,\n <Reaction R03921_C3_cytop at 0x7fa0b9fa22f0>,\n <Reaction R01015_C3_cytop at 0x7fa0b9fa3a30>,\n <Reaction R00803_C3_cytop at 0x7fa0b9fa3d90>,\n <Reaction R02029_C3_cytop at 0x7fa0b9fa3ac0>,\n <Reaction R00765_C3_cytop at 0x7fa0b9fbd1e0>,\n <Reaction R06447_C3_cytop at 0x7fa0b9fbcaf0>,\n <Reaction R02736_C3_cytop at 0x7fa09b222b60>,\n <Reaction R00004_C3_cytop at 0x7fa09b223880>,\n <Reaction R01826_C3_cytop at 0x7fa09b222d40>,\n <Reaction R07405_C3_cytop at 0x7fa09b24ce20>,\n <Reaction R07763_C3_cytop at 0x7fa09b24d780>,\n <Reaction EX_C00243_extr at 0x7fa09b24d660>,\n <Reaction EX_C00106_extr at 0x7fa0b9fa3940>,\n <Reaction EX_C00152_extr at 0x7fa0b9fa2380>,\n <Reaction EX_C00492_extr at 0x7fa0b9fa3130>,\n <Reaction EX_C00183_extr at 0x7fa0b9fa3490>,\n <Reaction R01728_C3_cytop at 0x7fa09b24f8b0>,\n <Reaction EX_C00097_extr at 0x7fa09b24ec80>,\n <Reaction EX_C00037_extr at 0x7fa0b9fa1ea0>,\n <Reaction EX_C01330_extr at 0x7fa0b9fa25f0>,\n <Reaction T00346_C4_cytmem at 0x7fa09b264a60>,\n <Reaction EX_C00049_extr at 0x7fa09b265c90>,\n <Reaction EX_C00469_extr at 0x7fa09b266830>,\n <Reaction R00345_C3_cytop at 0x7fa09b264f40>,\n <Reaction R01602_C3_cytop at 0x7fa09b264880>,\n <Reaction R02291_C3_cytop at 0x7fa09b267850>,\n <Reaction R01954_C3_cytop at 0x7fa09b267c40>,\n <Reaction R00228_C3_cytop at 0x7fa09b267fa0>,\n <Reaction R00260_C3_cytop at 0x7fa09b267460>,\n <Reaction R01416_C3_cytop at 0x7fa09b275300>,\n <Reaction R04199_C3_cytop at 0x7fa09b275cc0>,\n <Reaction R00291_C3_cytop at 0x7fa09b276200>,\n <Reaction R04198_C3_cytop at 0x7fa09afcd570>,\n <Reaction R00571_C3_cytop at 0x7fa08850f130>,\n <Reaction R01061_C3_cytop at 0x7fa09b265d50>,\n <Reaction R01819_C3_cytop at 0x7fa09b2757e0>,\n <Reaction R02240_C3_cytop at 0x7fa09b28f790>,\n <Reaction EX_C00124_extr at 0x7fa09b28fc40>,\n <Reaction EX_C00011_extr at 0x7fa09b2667d0>,\n <Reaction EX_C00025_extr at 0x7fa09b266f80>,\n <Reaction EX_C00007_extr at 0x7fa09b28f730>,\n <Reaction EX_C00080_extr at 0x7fa09b267700>,\n <Reaction EX_C00159_extr at 0x7fa09b28fe20>,\n <Reaction EX_C00009_extr at 0x7fa09b28fb20>,\n <Reaction EX_C00001_extr at 0x7fa0888f88b0>,\n <Reaction R04428_C3_cytop at 0x7fa0888f8a60>,\n <Reaction R01135_C3_cytop at 0x7fa0888f8c10>,\n <Reaction R00943_C3_cytop at 0x7fa0888f90c0>,\n <Reaction R01397_C3_cytop at 0x7fa0888f9300>,\n <Reaction R01869_C3_cytop at 0x7fa0888f97b0>,\n <Reaction R01056_C3_cytop at 0x7fa0888f9c60>,\n <Reaction R01528_C3_cytop at 0x7fa0888f9b40>,\n <Reaction R01529_C3_cytop at 0x7fa0888fa410>,\n <Reaction R03460_C3_cytop at 0x7fa0888fa680>,\n <Reaction R00573_C3_cytop at 0x7fa0888fab30>,\n <Reaction R03503_C3_cytop at 0x7fa0888fada0>,\n <Reaction R03236_C3_cytop at 0x7fa0888fb130>,\n <Reaction R04779_C3_cytop at 0x7fa0888fb700>,\n <Reaction R04963_C3_cytop at 0x7fa0888fbeb0>,\n <Reaction T02026_1_0_0_0_0_C4_cytmem at 0x7fa0888fbe50>,\n <Reaction R04957_C3_cytop at 0x7fa0889145e0>,\n <Reaction R04968_C3_cytop at 0x7fa088915390>,\n <Reaction R00619_C3_cytop at 0x7fa088914a90>,\n <Reaction R01624_C3_cytop at 0x7fa0888f8ee0>,\n <Reaction R04960_C3_cytop at 0x7fa0889154b0>,\n <Reaction R04952_C3_cytop at 0x7fa088916050>,\n <Reaction R04355_C3_cytop at 0x7fa0889163e0>,\n <Reaction R01049_C3_cytop at 0x7fa088916620>,\n <Reaction R01867_C3_cytop at 0x7fa088916710>,\n <Reaction R00209_C3_cytop at 0x7fa088917190>,\n <Reaction R00014_C3_cytop at 0x7fa0889171c0>,\n <Reaction R02689_C3_cytop at 0x7fa088917a30>,\n <Reaction T01556_C4_cytmem at 0x7fa088917130>,\n <Reaction R02569_C3_cytop at 0x7fa088917e80>,\n <Reaction R02142_C3_cytop at 0x7fa088917f10>,\n <Reaction R02484_C3_cytop at 0x7fa08892cc40>,\n <Reaction R01229_C3_cytop at 0x7fa08892cf40>,\n <Reaction R03270_C3_cytop at 0x7fa08892d180>,\n <Reaction R00281_C3_cytop at 0x7fa0888f8910>,\n <Reaction T01147_C4_cytmem at 0x7fa0884e4970>,\n <Reaction R08549_C3_cytop at 0x7fa0888fbd30>,\n <Reaction R09380_C3_cytop at 0x7fa08892e0e0>,\n <Reaction T02032_C4_cytmem at 0x7fa08892e3e0>,\n <Reaction T02037_C4_cytmem at 0x7fa08892e020>,\n <Reaction R01706_C3_cytop at 0x7fa08892f850>,\n <Reaction R01134_C3_cytop at 0x7fa08892f220>,\n <Reaction R00156_C3_cytop at 0x7fa08892ecb0>,\n <Reaction R10092_C3_cytop at 0x7fa08892ffa0>,\n <Reaction R03314_C3_cytop at 0x7fa08892ff40>,\n <Reaction R02331_C3_cytop at 0x7fa08892f9a0>,\n <Reaction R01092_C3_cytop at 0x7fa08892ec80>,\n <Reaction R02030_C3_cytop at 0x7fa08892f160>,\n <Reaction R08159_C3_cytop at 0x7fa0888fba00>,\n <Reaction R00332_C3_cytop at 0x7fa088949000>,\n <Reaction R00239_C3_cytop at 0x7fa088949990>,\n <Reaction T02015_C4_cytmem at 0x7fa088949bd0>,\n <Reaction R00430_C3_cytop at 0x7fa088949f60>,\n <Reaction T02011_C4_cytmem at 0x7fa08894a890>,\n <Reaction R01072_C3_cytop at 0x7fa08894a5c0>,\n <Reaction R04014_C3_cytop at 0x7fa08894b4c0>,\n <Reaction R00200_C3_cytop at 0x7fa08894afb0>,\n <Reaction R01863_C3_cytop at 0x7fa08894b910>,\n <Reaction R02147_C3_cytop at 0x7fa08894bca0>,\n <Reaction R00570_C3_cytop at 0x7fa08895c1f0>,\n <Reaction R02326_C3_cytop at 0x7fa0889498d0>,\n <Reaction R00330_C3_cytop at 0x7fa08894bfa0>,\n <Reaction R01786_C3_cytop at 0x7fa08895cd00>,\n <Reaction T00015_C4_cytmem at 0x7fa08895d090>,\n <Reaction T01732_C7_cellw at 0x7fa08895d420>,\n <Reaction R00238_C3_cytop at 0x7fa08895d7b0>,\n <Reaction R09381_C3_cytop at 0x7fa08894a650>,\n <Reaction R00230_C3_cytop at 0x7fa08894bf70>,\n <Reaction R00921_C3_cytop at 0x7fa0889498a0>,\n <Reaction T02400_C4_cytmem at 0x7fa08895e530>,\n <Reaction T01786_1_0_0_0_0_C4_cytmem at 0x7fa08895e770>,\n <Reaction T02397_C4_cytmem at 0x7fa08895f130>,\n <Reaction R02412_C3_cytop at 0x7fa08895ecb0>,\n <Reaction R00760_C3_cytop at 0x7fa08895fd90>,\n <Reaction R01600_C3_cytop at 0x7fa08895f760>,\n <Reaction R00127_C3_cytop at 0x7fa08895ff10>,\n <Reaction R00867_C3_cytop at 0x7fa08895f8b0>,\n <Reaction R03245_C3_cytop at 0x7fa0889786d0>,\n <Reaction R02098_C3_cytop at 0x7fa088978a90>,\n <Reaction T_H2O2_transport_cytmem at 0x7fa088978df0>,\n <Reaction R00964_C3_cytop at 0x7fa08895f2b0>,\n <Reaction T_Glycolaldehyde_transport_cytmem at 0x7fa08895e260>,\n <Reaction T02481_6_C4_cytmem at 0x7fa08895edd0>,\n <Reaction T01593_C4_cytmem at 0x7fa08894b100>,\n <Reaction R02371_C3_cytop at 0x7fa088979c30>,\n <Reaction T_Carbon_dioxide_transport_cytmem at 0x7fa088979e70>,\n <Reaction T_Folate_transport_cytmem at 0x7fa08897a0e0>,\n <Reaction R01880_C3_cytop at 0x7fa088979b40>,\n <Reaction R00968_C3_cytop at 0x7fa088979930>,\n <Reaction R02327_C3_cytop at 0x7fa08897a920>,\n <Reaction R00513_C3_cytop at 0x7fa08897ab60>,\n <Reaction R02091_C3_cytop at 0x7fa08897aef0>,\n <Reaction T02481_27_C4_cytmem at 0x7fa08897b280>,\n <Reaction R00742_C3_cytop at 0x7fa08897b610>,\n <Reaction R01070_C3_cytop at 0x7fa08897b9a0>,\n <Reaction T_Guanine_transport_cytmem at 0x7fa08897b1f0>,\n <Reaction T_Adenine_transport_cytmem at 0x7fa08897bc10>,\n <Reaction T00021_7_C4_cytmem at 0x7fa08897bf10>,\n <Reaction R01724_C3_cytop at 0x7fa08897a620>,\n <Reaction R01870_C3_cytop at 0x7fa08897b4f0>,\n <Reaction R05662_C3_cytop at 0x7fa0ba024760>,\n <Reaction R00517_C3_cytop at 0x7fa0ba024910>,\n <Reaction R02097_C3_cytop at 0x7fa0ba024ac0>,\n <Reaction R00967_C3_cytop at 0x7fa0ba024c70>,\n <Reaction R01073_C3_cytop at 0x7fa0ba024e20>,\n <Reaction R05069_C3_cytop at 0x7fa0ba024fd0>,\n <Reaction R05071_C3_cytop at 0x7fa0ba025180>,\n <Reaction R00985_C3_cytop at 0x7fa0ba0251e0>,\n <Reaction R00258_C3_cytop at 0x7fa0ba025330>,\n <Reaction R01127_C3_cytop at 0x7fa0ba024f70>,\n <Reaction R00986_C3_cytop at 0x7fa0ba025810>,\n <Reaction R03313_C3_cytop at 0x7fa0ba025b40>,\n <Reaction R04560_C3_cytop at 0x7fa0ba025630>,\n <Reaction R05629_C3_cytop at 0x7fa0ba025f00>,\n <Reaction R05553_C3_cytop at 0x7fa0ba026260>,\n <Reaction R02059_C3_cytop at 0x7fa0ba026440>,\n <Reaction LCTO_cytop at 0x7fa0ba0265c0>,\n <Reaction R05048_C3_cytop at 0x7fa0ba026770>,\n <Reaction R05046_C3_cytop at 0x7fa0ba026920>,\n <Reaction R00590_C3_cytop at 0x7fa0ba026980>,\n <Reaction R00945_C3_cytop at 0x7fa0ba026c20>,\n <Reaction R01777_C3_cytop at 0x7fa0b9fbd420>,\n <Reaction R01775_C3_cytop at 0x7fa0ba0263e0>,\n <Reaction R01123_C3_cytop at 0x7fa0ba027190>,\n <Reaction R00996_C3_cytop at 0x7fa0ba027370>,\n <Reaction R01993_C3_cytop at 0x7fa0ba0273d0>,\n <Reaction R04325_C3_cytop at 0x7fa0ba027640>,\n <Reaction R00220_C3_cytop at 0x7fa0ba0277f0>,\n <Reaction R01773_C3_cytop at 0x7fa0ba027700>,\n <Reaction R03191_C3_cytop at 0x7fa0ba027df0>,\n <Reaction R03192_C3_cytop at 0x7fa0ba027910>,\n <Reaction R08698_C3_cytop at 0x7fa0ba027be0>,\n <Reaction R02199_C3_cytop at 0x7fa0ba027fd0>,\n <Reaction R02485_C3_cytop at 0x7fa0ba0585b0>,\n <Reaction R01057_C3_cytop at 0x7fa0ba0584c0>,\n <Reaction R08639_C3_cytop at 0x7fa0ba0588e0>,\n <Reaction R00959_C3_cytop at 0x7fa0ba058e50>,\n <Reaction R02101_C3_cytop at 0x7fa0ba058ac0>,\n <Reaction R00842_C3_cytop at 0x7fa0ba058850>,\n <Reaction R01518_C3_cytop at 0x7fa0ba059210>,\n <Reaction R04639_C3_cytop at 0x7fa0ba059420>,\n <Reaction R00428_C3_cytop at 0x7fa0ba0596c0>,\n <Reaction R00416_C3_cytop at 0x7fa0ba059480>,\n <Reaction R00207_C3_cytop at 0x7fa0ba059a80>,\n <Reaction R00137_C3_cytop at 0x7fa0ba059c30>,\n <Reaction R00355_C3_cytop at 0x7fa0ba059e40>,\n <Reaction R03005_C3_cytop at 0x7fa0ba05a020>,\n <Reaction R02749_C3_cytop at 0x7fa0ba05a080>,\n <Reaction R00289_C3_cytop at 0x7fa0ba05a0e0>,\n <Reaction R05627_C3_cytop at 0x7fa0ba05a5f0>,\n <Reaction EX_C14818_extr at 0x7fa0ba05a7d0>,\n <Reaction T_NH3_cytmem at 0x7fa08897a650>,\n <Reaction EX_C00014_extr at 0x7fa0a83b2950>,\n <Reaction R07764_C3_cytop at 0x7fa0a9d1e5f0>,\n <Reaction Lipoteichoic_Acid_cytop at 0x7fa0ba027d60>,\n <Reaction EX_C03089_extr at 0x7fa0ba05acb0>,\n <Reaction R00511_C3_cytop at 0x7fa0ba05aef0>,\n <Reaction R02102_C3_cytop at 0x7fa0ba05afe0>,\n <Reaction R01126_C3_cytop at 0x7fa0ba05b190>,\n <Reaction R00066_C3_cytop at 0x7fa0ba05b400>,\n <Reaction R00183_C3_cytop at 0x7fa0ba05b5b0>,\n <Reaction R00946_C3_cytop at 0x7fa0ba05b730>,\n <Reaction R01664_C3_cytop at 0x7fa08897b880>,\n <Reaction R00963_C3_cytop at 0x7fa0ba05b550>,\n <Reaction Biomass_C3_cytop at 0x7fa0ba05bb20>,\n <Reaction Cell_wall_cytmem at 0x7fa0ba05bd90>,\n <Reaction Teichoic_Acid_cytop at 0x7fa0ba05b130>,\n <Reaction Fatty_acid_cytop at 0x7fa0ba05b9d0>,\n <Reaction Protein_cytop at 0x7fa0ba05baf0>,\n <Reaction T00068_C4_cytmem at 0x7fa0ba05b490>,\n <Reaction EX_C00120_extr at 0x7fa0ba05b790>,\n <Reaction e_Cofactor_cytop at 0x7fa0ba05bfd0>,\n <Reaction R01658_C3_cytop at 0x7fa0ba05bf40>,\n <Reaction R00660_C3_cytop at 0x7fa0ba089570>,\n <Reaction R00177_C3_cytop at 0x7fa0ba089840>,\n <Reaction R03035_C3_cytop at 0x7fa0ba089ae0>,\n <Reaction R00161_C3_cytop at 0x7fa0ba089a80>,\n <Reaction R01626_C3_cytop at 0x7fa0ba089f60>,\n <Reaction EX_C00059_extr at 0x7fa0ba08a110>,\n <Reaction T02027_2_0_0_0_0_C4_cytmem at 0x7fa0ba08a2c0>,\n <Reaction T01642_gal_C4_cytmem at 0x7fa0ba088fd0>,\n <Reaction T02384_C4_cytmem at 0x7fa0ba08a8c0>,\n <Reaction EX_C00082_extr at 0x7fa0ba089f30>,\n <Reaction EX_C00022_extr at 0x7fa0ba08b340>,\n <Reaction EX_C00079_extr at 0x7fa0ba08a620>,\n <Reaction T01849_C4_cytmem at 0x7fa0ba08ac20>,\n <Reaction EX_C00186_extr at 0x7fa0ba08ace0>,\n <Reaction EX_C00033_extr at 0x7fa0ba08b460>,\n <Reaction EX_C00253_extr at 0x7fa0ba08ad70>,\n <Reaction EX_C00864_extr at 0x7fa0ba08a650>,\n <Reaction R07762_C3_cytop at 0x7fa0ba08ab90>,\n <Reaction EX_C00288_extr at 0x7fa0ba08ba30>,\n <Reaction EX_C00750_extr at 0x7fa0ba08bc10>,\n <Reaction R02719_C3_cytop at 0x7fa0ba08bac0>,\n <Reaction EX_C00140_extr at 0x7fa0ba08bca0>,\n <Reaction R02323_C3_cytop at 0x7fa0ba08bfa0>,\n <Reaction EX_C00047_extr at 0x7fa0ba08be80>,\n <Reaction EX_C00153_extr at 0x7fa0ba08bb50>,\n <Reaction R01227_C3_cytop at 0x7fa0ba08bfd0>,\n <Reaction EX_Biomass_extr at 0x7fa0ba08ae30>,\n <Reaction EX_C00242_extr at 0x7fa0ba08aaa0>,\n <Reaction T01283_C4_cytmem at 0x7fa0ba08b670>,\n <Reaction EX_C00122_extr at 0x7fa0ba08bf10>,\n <Reaction EX_C00148_extr at 0x7fa0ba0b49d0>,\n <Reaction EX_C00147_extr at 0x7fa0ba0b48b0>,\n <Reaction R03346_C3_cytop at 0x7fa0ba0b4a60>,\n <Reaction EX_C00064_extr at 0x7fa0ba0b4ca0>,\n <Reaction R05332_C3_cytop at 0x7fa0ba0b4e50>,\n <Reaction Biomass_assembly_C3_cytop at 0x7fa0ba0b4d30>,\n <Reaction EX_C00504_extr at 0x7fa0ba0b50f0>,\n <Reaction T00257_C4_cytmem at 0x7fa0ba0b4be0>,\n <Reaction T02026_glutamine_C4_cytmem at 0x7fa0ba0b53c0>,\n <Reaction T00357_spermine_C4_cytmem at 0x7fa0ba0b5570>,\n <Reaction R01220_C3_cytop at 0x7fa0ba0b5480>,\n <Reaction R01121_C3_cytop at 0x7fa0ba0b5a20>,\n <Reaction R01715_C3_cytop at 0x7fa0ba0b5c90>,\n <Reaction R00802_C3_cytop at 0x7fa0ba0b5c30>,\n <Reaction R00190_C3_cytop at 0x7fa0ba0b5db0>,\n <Reaction T02412_gal_C4_cytmem at 0x7fa0ba0b6290>,\n <Reaction R06863_C3_cytop at 0x7fa0ba0b6230>,\n <Reaction R00939_C3_cytop at 0x7fa0ba0b6b90>,\n <Reaction R00937_C3_cytop at 0x7fa0ba0b63b0>,\n <Reaction R04620_C3_cytop at 0x7fa0ba0b6650>,\n <Reaction R00734_C3_cytop at 0x7fa0ba0b70d0>,\n <Reaction R01132_C3_cytop at 0x7fa0ba0b4fd0>,\n <Reaction R01641_C3_cytop at 0x7fa0ba0b73a0>,\n <Reaction R00936_C3_cytop at 0x7fa0ba0b7370>,\n <Reaction R01251_C3_cytop at 0x7fa0ba0b77f0>,\n <Reaction R01855_C3_cytop at 0x7fa0ba0b7850>,\n <Reaction R06861_C3_cytop at 0x7fa0ba0b7d90>,\n <Reaction R01830_C3_cytop at 0x7fa0ba0b7f40>,\n <Reaction R02740_C3_cytop at 0x7fa0ba0b74c0>,\n <Reaction R00771_C3_cytop at 0x7fa0ba0b7f10>,\n <Reaction R03321_C3_cytop at 0x7fa0ba0e8550>,\n <Reaction R00426_C3_cytop at 0x7fa0ba0e8610>,\n <Reaction T_H__transport_cytmem at 0x7fa0ba0e8760>,\n <Reaction R03269_C3_cytop at 0x7fa0ba0b71c0>,\n <Reaction R01090_C3_cytop at 0x7fa0ba0b7280>,\n <Reaction R10147_C3_cytop at 0x7fa0ba0b76d0>,\n <Reaction R00212_C3_cytop at 0x7fa0ba0b7e20>,\n <Reaction R01214_C3_cytop at 0x7fa0ba0e8c70>,\n <Reaction R02739_C3_cytop at 0x7fa0ba0e9120>,\n <Reaction R00462_C3_cytop at 0x7fa0ba0e91b0>,\n <Reaction R01373_C3_cytop at 0x7fa0ba0e9360>,\n <Reaction R00966_C3_cytop at 0x7fa0ba0e9780>,\n <Reaction R00566_C3_cytop at 0x7fa0ba0e9930>,\n <Reaction R01286_C3_cytop at 0x7fa0ba0e9b10>,\n <Reaction R02735_C3_cytop at 0x7fa0ba0e8fa0>,\n <Reaction R00418_C3_cytop at 0x7fa0ba0e9990>,\n <Reaction R02003_C3_cytop at 0x7fa0ba0e8be0>,\n <Reaction R07456_C3_cytop at 0x7fa0ba0e9ae0>,\n <Reaction R00703_C3_cytop at 0x7fa0ba0ea0b0>,\n <Reaction R01150_C3_cytop at 0x7fa0ba0ea620>,\n <Reaction R02035_C3_cytop at 0x7fa0ba0ea5c0>,\n <Reaction R08648_C3_cytop at 0x7fa0ba0eaaa0>,\n <Reaction R00086_C3_cytop at 0x7fa0ba0eac20>,\n <Reaction R03084_C3_cytop at 0x7fa0ba0eae00>,\n <Reaction R01066_C3_cytop at 0x7fa0ba0eb5e0>,\n <Reaction R04230_C3_cytop at 0x7fa0ba0eaef0>,\n <Reaction R04231_C3_cytop at 0x7fa0ba0eb7c0>,\n <Reaction R01224_C3_cytop at 0x7fa0ba0eb910>,\n <Reaction R04591_C3_cytop at 0x7fa0ba0ebb20>,\n <Reaction R07168_C3_cytop at 0x7fa0ba0ebd00>,\n <Reaction R03066_C3_cytop at 0x7fa0ba0ebf10>,\n <Reaction R07390_C3_cytop at 0x7fa0ba0ebd90>,\n <Reaction R03067_C3_cytop at 0x7fa0ba0ebeb0>,\n <Reaction R00658_C3_cytop at 0x7fa0a9578460>,\n <Reaction R01920_C3_cytop at 0x7fa0a9578610>,\n <Reaction R01655_C3_cytop at 0x7fa0a9578790>,\n <Reaction R00694_C3_cytop at 0x7fa0a9578970>,\n <Reaction R01827_C3_cytop at 0x7fa0a9578b20>,\n <Reaction R00401_C3_cytop at 0x7fa0a9578b80>,\n <Reaction R03504_C3_cytop at 0x7fa0a9578be0>,\n <Reaction R00178_C3_cytop at 0x7fa0a95790f0>,\n <Reaction T_Acetate_transport_cytmem at 0x7fa0ba0ea470>,\n <Reaction T_Lactate_transport_cytmem at 0x7fa0ba0eabf0>,\n <Reaction R01069_C3_cytop at 0x7fa0ba0eae30>,\n <Reaction R02722_C3_cytop at 0x7fa0ba0e99f0>,\n <Reaction R00662_C3_cytop at 0x7fa0a9579660>,\n <Reaction T_Pantothenate_transport_cytmem at 0x7fa0a9579b40>,\n <Reaction R03508_C3_cytop at 0x7fa0a9579c00>,\n <Reaction R00226_C3_cytop at 0x7fa0a9579180>,\n <Reaction T_Nicotinate_transport_cytmem at 0x7fa0a9579cf0>,\n <Reaction R01878_C3_cytop at 0x7fa0ba0e98d0>,\n <Reaction R02703_C3_cytop at 0x7fa0a95797e0>,\n <Reaction T_Pyruvate_transport_cytmem at 0x7fa0a9579870>,\n <Reaction R07618_C3_cytop at 0x7fa0a957a440>,\n <Reaction R01221_C3_cytop at 0x7fa0a957a560>,\n <Reaction R07765_C3_cytop at 0x7fa0a957aad0>,\n <Reaction T_L_Tyrosine_transport_cytmem at 0x7fa0a957ae00>,\n <Reaction T01004_1_phenylalanine_C4_cytmem at 0x7fa0a95791b0>,\n <Reaction R01083_C3_cytop at 0x7fa0a957af80>,\n <Reaction R04559_C3_cytop at 0x7fa0a957b100>,\n <Reaction R01086_C3_cytop at 0x7fa0a957b340>,\n <Reaction R01401_C3_cytop at 0x7fa0a957b4c0>,\n <Reaction R00253_C3_cytop at 0x7fa0a957b640>,\n <Reaction R00768_C3_cytop at 0x7fa0a957b7f0>,\n <Reaction R03260_C3_cytop at 0x7fa0a957b7c0>,\n <Reaction R02016_C3_cytop at 0x7fa0a957bc70>,\n <Reaction R02786_C3_cytop at 0x7fa0a957be20>,\n <Reaction R02783_C3_cytop at 0x7fa0a957bcd0>,\n <Reaction R03193_C3_cytop at 0x7fa0a957bfa0>,\n <Reaction R01105_C3_cytop at 0x7fa0a957afe0>,\n <Reaction R01678_C3_cytop at 0x7fa0a95b4760>,\n <Reaction R03256_C3_cytop at 0x7fa0a95b4940>,\n <Reaction R02413_C3_cytop at 0x7fa0a95b4cd0>,\n <Reaction R00188_C3_cytop at 0x7fa0a95b4f70>,\n <Reaction R01130_C3_cytop at 0x7fa0a957a6b0>,\n <Reaction R04573_C3_cytop at 0x7fa0a957a980>,\n <Reaction R00999_C3_cytop at 0x7fa0a95792d0>,\n <Reaction R00575_C3_cytop at 0x7fa0a95b5690>,\n <Reaction R00754_C3_cytop at 0x7fa0a95b58a0>,\n <Reaction R06178_C3_cytop at 0x7fa0a95b5d20>,\n <Reaction R01058_C3_cytop at 0x7fa0a95b5360>,\n <Reaction R01525_C3_cytop at 0x7fa0a95b4e50>,\n <Reaction R00965_C3_cytop at 0x7fa0a95b5750>,\n <Reaction R01524_C3_cytop at 0x7fa0a95b6860>,\n <Reaction R01876_C3_cytop at 0x7fa0a95b69e0>,\n <Reaction R02237_C3_cytop at 0x7fa0a95b6bc0>,\n <Reaction R00256_C3_cytop at 0x7fa0a95b6d70>,\n <Reaction R00483_C3_cytop at 0x7fa0a95b6f80>,\n <Reaction R02869_C3_cytop at 0x7fa0a95b6fe0>,\n <Reaction R01148_C3_cytop at 0x7fa0a95b7040>,\n <Reaction R01625_C3_cytop at 0x7fa0a95b76a0>,\n <Reaction e_DNA_cytop at 0x7fa0a95b7640>,\n <Reaction R01801_C3_cytop at 0x7fa0a957ac20>,\n <Reaction R01799_C3_cytop at 0x7fa0a9579810>,\n <Reaction R00955_C3_cytop at 0x7fa0a95b7d60>,\n <Reaction R07404_C3_cytop at 0x7fa0a95b7eb0>,\n <Reaction Acyl__ACP__biosynthesis__cytop at 0x7fa0a95b7fd0>,\n <Reaction e_RNA_cytop at 0x7fa0a95b7670>]"
     },
     "execution_count": 12,
     "metadata": {},
     "output_type": "execute_result"
    }
   ],
   "source": [
    "# remove more reactions\n",
    "\n",
    "my_model.reactions"
   ],
   "metadata": {
    "collapsed": false,
    "pycharm": {
     "name": "#%%\n"
    }
   }
  },
  {
   "cell_type": "code",
   "execution_count": 13,
   "outputs": [],
   "source": [
    "my_model.remove_reactions(['EX_C00120_extr_b', 'EX_C00123_extr_b', 'EX_C00049_extr_b', 'R04441_C3_cytop'])"
   ],
   "metadata": {
    "collapsed": false,
    "pycharm": {
     "name": "#%%\n"
    }
   }
  },
  {
   "cell_type": "code",
   "execution_count": 14,
   "outputs": [
    {
     "name": "stdout",
     "output_type": "stream",
     "text": [
      "Using COBRApy default solver, namely glpk\n"
     ]
    },
    {
     "name": "stderr",
     "output_type": "stream",
     "text": [
      "Could not identify an external compartment by name and choosing one with the most boundary reactions. That might be complete nonsense or change suddenly. Consider renaming your compartments using `Model.compartments` to fix this.\n"
     ]
    },
    {
     "name": "stdout",
     "output_type": "stream",
     "text": [
      "my targets are: [('e_Protein_cytop', 'C_00002'), ('e_CellWall_cytop', 'C_00002'), ('C06042_cytop', 'C_00002'), ('e_DNA_cytop', 'C_00002'), ('C01356_cytop', 'C_00002'), ('e_Cofactor_cytop', 'C_00002')]\n",
      "my seeds are: [('C00001_extr_b', 'C_00001'), ('C00262_extr_b', 'C_00001'), ('C00124_extr_b', 'C_00001'), ('C00140_extr_b', 'C_00001'), ('C00106_extr_b', 'C_00001'), ('Biomass_extr_b', 'C_00001'), ('C00159_extr_b', 'C_00001'), ('C00047_extr_b', 'C_00001'), ('C00147_extr_b', 'C_00001'), ('C00255_extr_b', 'C_00001'), ('C00041_extr_b', 'C_00001'), ('C00186_extr_b', 'C_00001'), ('C00022_extr_b', 'C_00001'), ('C00025_extr_b', 'C_00001'), ('C00033_extr_b', 'C_00001'), ('C00378_extr_b', 'C_00001'), ('C00153_extr_b', 'C_00001'), ('C00183_extr_b', 'C_00001'), ('C00014_extr_b', 'C_00001'), ('C01330_extr_b', 'C_00001'), ('C00011_extr_b', 'C_00001'), ('C03089_cytop_b', 'C_00001'), ('C00073_extr_b', 'C_00001'), ('C00027_extr_b', 'C_00001'), ('C00492_extr_b', 'C_00001'), ('C00504_extr_b', 'C_00001'), ('C00079_extr_b', 'C_00001'), ('C00134_extr_b', 'C_00001'), ('C00750_extr_b', 'C_00001'), ('C00062_extr_b', 'C_00001'), ('C00065_extr_b', 'C_00001'), ('C00082_extr_b', 'C_00001'), ('C01762_extr_b', 'C_00001'), ('C00135_extr_b', 'C_00001'), ('C00188_extr_b', 'C_00001'), ('C00243_extr_b', 'C_00001'), ('C00288_extr_b', 'C_00001'), ('C00864_extr_b', 'C_00001'), ('C00148_extr_b', 'C_00001'), ('C00009_extr_b', 'C_00001'), ('C00266_extr_b', 'C_00001'), ('C00058_extr_b', 'C_00001'), ('C00097_extr_b', 'C_00001'), ('C00152_extr_b', 'C_00001'), ('C00089_extr_b', 'C_00001'), ('C00064_extr_b', 'C_00001'), ('C00078_extr_b', 'C_00001'), ('C01613_extr_b', 'C_00001'), ('C00122_extr_b', 'C_00001'), ('C00059_extr_b', 'C_00001'), ('C00114_extr_b', 'C_00001'), ('C00267_extr_b', 'C_00001'), ('C00469_extr_b', 'C_00001'), ('C00253_extr_b', 'C_00001'), ('C00080_extr_b', 'C_00001'), ('C00116_extr_b', 'C_00001'), ('C00037_extr_b', 'C_00001'), ('C00042_extr_b', 'C_00001'), ('C00242_extr_b', 'C_00001'), ('C00250_extr_b', 'C_00001'), ('C14818_extr_b', 'C_00001'), ('C00392_extr_b', 'C_00001'), ('C00407_extr_b', 'C_00001'), ('C00007_extr_b', 'C_00001')]\n"
     ]
    }
   ],
   "source": [
    "print('my targets are:', my_model.identify_targets())\n",
    "print('my seeds are:', my_model.identify_seeds())"
   ],
   "metadata": {
    "collapsed": false,
    "pycharm": {
     "name": "#%%\n"
    }
   }
  },
  {
   "cell_type": "code",
   "execution_count": 15,
   "outputs": [
    {
     "name": "stderr",
     "output_type": "stream",
     "text": [
      "Could not identify an external compartment by name and choosing one with the most boundary reactions. That might be complete nonsense or change suddenly. Consider renaming your compartments using `Model.compartments` to fix this.\n"
     ]
    },
    {
     "name": "stdout",
     "output_type": "stream",
     "text": [
      "Using COBRApy default solver, namely glpk\n"
     ]
    }
   ],
   "source": [
    "my_model.to_sbml('6gaps', '/Users/josediogomoura/gap_filling_dl/tests/data/6gaps', seeds=True, targets=True)"
   ],
   "metadata": {
    "collapsed": false,
    "pycharm": {
     "name": "#%%\n"
    }
   }
  },
  {
   "cell_type": "code",
   "execution_count": 20,
   "outputs": [
    {
     "name": "stderr",
     "output_type": "stream",
     "text": [
      "Warning: R_EX_C00001_extr_b listOfProducts=None\n",
      "Warning: R_EX_C00262_extr_b listOfProducts=None\n",
      "Warning: R_EX_C00124_extr_b listOfProducts=None\n",
      "Warning: R_EX_C00140_extr_b listOfProducts=None\n",
      "Warning: R_EX_C00106_extr_b listOfProducts=None\n",
      "Warning: R_EX_Biomass_extr_b listOfProducts=None\n",
      "Warning: R_EX_C00159_extr_b listOfProducts=None\n",
      "Warning: R_EX_C00047_extr_b listOfProducts=None\n",
      "Warning: R_EX_C00147_extr_b listOfProducts=None\n",
      "Warning: R_EX_C00255_extr_b listOfProducts=None\n",
      "Warning: R_EX_C00041_extr_b listOfProducts=None\n",
      "Warning: R_EX_C00186_extr_b listOfProducts=None\n",
      "Warning: R_EX_C00022_extr_b listOfProducts=None\n",
      "Warning: R_EX_C00025_extr_b listOfProducts=None\n",
      "Warning: R_EX_C00033_extr_b listOfProducts=None\n",
      "Warning: R_EX_C00378_extr_b listOfProducts=None\n",
      "Warning: R_EX_C00153_extr_b listOfProducts=None\n",
      "Warning: R_EX_C00183_extr_b listOfProducts=None\n",
      "Warning: R_EX_C00014_extr_b listOfProducts=None\n",
      "Warning: R_EX_C01330_extr_b listOfProducts=None\n",
      "Warning: R_EX_C00011_extr_b listOfProducts=None\n",
      "Warning: R_EX_C03089_cytop_b listOfProducts=None\n",
      "Warning: R_EX_C00073_extr_b listOfProducts=None\n",
      "Warning: R_EX_C00027_extr_b listOfProducts=None\n",
      "Warning: R_EX_C00492_extr_b listOfProducts=None\n",
      "Warning: R_EX_C00504_extr_b listOfProducts=None\n",
      "Warning: R_EX_C00079_extr_b listOfProducts=None\n",
      "Warning: R_EX_C00134_extr_b listOfProducts=None\n",
      "Warning: R_EX_C00750_extr_b listOfProducts=None\n",
      "Warning: R_EX_C00062_extr_b listOfProducts=None\n",
      "Warning: R_EX_C00065_extr_b listOfProducts=None\n",
      "Warning: R_EX_C00120_extr_b listOfProducts=None\n",
      "Warning: R_EX_C00123_extr_b listOfProducts=None\n",
      "Warning: R_EX_C00049_extr_b listOfProducts=None\n",
      "Warning: R_EX_C00082_extr_b listOfProducts=None\n",
      "Warning: R_EX_C01762_extr_b listOfProducts=None\n",
      "Warning: R_EX_C00135_extr_b listOfProducts=None\n",
      "Warning: R_EX_C00188_extr_b listOfProducts=None\n",
      "Warning: R_EX_C00243_extr_b listOfProducts=None\n",
      "Warning: R_EX_C00288_extr_b listOfProducts=None\n",
      "Warning: R_EX_C00864_extr_b listOfProducts=None\n",
      "Warning: R_EX_C00148_extr_b listOfProducts=None\n",
      "Warning: R_EX_C00009_extr_b listOfProducts=None\n",
      "Warning: R_EX_C00266_extr_b listOfProducts=None\n",
      "Warning: R_EX_C00058_extr_b listOfProducts=None\n",
      "Warning: R_EX_C00097_extr_b listOfProducts=None\n",
      "Warning: R_EX_C00152_extr_b listOfProducts=None\n",
      "Warning: R_EX_C00089_extr_b listOfProducts=None\n",
      "Warning: R_EX_C00064_extr_b listOfProducts=None\n",
      "Warning: R_EX_C00078_extr_b listOfProducts=None\n",
      "Warning: R_EX_C01613_extr_b listOfProducts=None\n",
      "Warning: R_EX_C00122_extr_b listOfProducts=None\n",
      "Warning: R_EX_C00059_extr_b listOfProducts=None\n",
      "Warning: R_EX_C00114_extr_b listOfProducts=None\n",
      "Warning: R_EX_C00267_extr_b listOfProducts=None\n",
      "Warning: R_EX_C00469_extr_b listOfProducts=None\n",
      "Warning: R_EX_C00253_extr_b listOfProducts=None\n",
      "Warning: R_EX_C00080_extr_b listOfProducts=None\n",
      "Warning: R_EX_C00116_extr_b listOfProducts=None\n",
      "Warning: R_EX_C00037_extr_b listOfProducts=None\n",
      "Warning: R_EX_C00042_extr_b listOfProducts=None\n",
      "Warning: R_EX_C00242_extr_b listOfProducts=None\n",
      "Warning: R_EX_C00250_extr_b listOfProducts=None\n",
      "Warning: R_EX_C14818_extr_b listOfProducts=None\n",
      "Warning: R_EX_C00392_extr_b listOfProducts=None\n",
      "Warning: R_EX_C00407_extr_b listOfProducts=None\n",
      "Warning: R_EX_C00007_extr_b listOfProducts=None\n"
     ]
    },
    {
     "name": "stdout",
     "output_type": "stream",
     "text": [
      "Found file: universal_model_kegg.xml\n",
      "Found file: 6gaps_model.xml\n",
      "Found file: 6gaps_targets.xml\n",
      "Found file: 6gaps_seeds.xml\n",
      "model_file: 6gaps_model.xml\n",
      "seeds_file: 6gaps_seeds.xml\n",
      "targets_file: 6gaps_targets.xml\n",
      "universal_model_file: universal_model_kegg.xml\n",
      "Time taken:  2.9659111499786377\n",
      "{'Draft network file': '/Users/josediogomoura/gap_filling_dl/tests/data/6gaps/6gaps_model.xml', 'Seeds file': '/Users/josediogomoura/gap_filling_dl/tests/data/6gaps/6gaps_seeds.xml', 'Targets file': '/Users/josediogomoura/gap_filling_dl/tests/data/6gaps/6gaps_targets.xml', 'Unproducible targets': ['M_C01356_cytop', 'M_C06042_cytop', 'M_e_CellWall_cytop', 'M_e_Cofactor_cytop', 'M_e_DNA_cytop', 'M_e_Protein_cytop'], 'Repair db file': '/Users/josediogomoura/gap_filling_dl/tests/data/6gaps/universal_model_kegg.xml', 'Unreconstructable targets': ['M_C01356_cytop', 'M_C06042_cytop', 'M_e_CellWall_cytop', 'M_e_Cofactor_cytop', 'M_e_DNA_cytop', 'M_e_Protein_cytop'], 'Reconstructable targets': []}\n"
     ]
    }
   ],
   "source": [
    "gapfiller = GapFiller.from_folder('/Users/josediogomoura/gap_filling_dl/tests/data/6gaps')\n",
    "\n",
    "print(gapfiller.run(enumeration=True,json_output=True))"
   ],
   "metadata": {
    "collapsed": false,
    "pycharm": {
     "name": "#%%\n"
    }
   }
  },
  {
   "cell_type": "code",
   "execution_count": 17,
   "outputs": [
    {
     "data": {
      "text/plain": "{'Draft network file': '/Users/josediogomoura/gap_filling_dl/tests/data/6gaps/6gaps_model.xml',\n 'Seeds file': '/Users/josediogomoura/gap_filling_dl/tests/data/6gaps/6gaps_seeds.xml',\n 'Targets file': '/Users/josediogomoura/gap_filling_dl/tests/data/6gaps/6gaps_targets.xml',\n 'Unproducible targets': ['M_C01356_cytop',\n  'M_C06042_cytop',\n  'M_e_CellWall_cytop',\n  'M_e_Cofactor_cytop',\n  'M_e_DNA_cytop',\n  'M_e_Protein_cytop'],\n 'Repair db file': '/Users/josediogomoura/gap_filling_dl/tests/data/6gaps/universal_model_kegg.xml',\n 'Unreconstructable targets': ['M_C01356_cytop',\n  'M_C06042_cytop',\n  'M_e_CellWall_cytop',\n  'M_e_Cofactor_cytop',\n  'M_e_DNA_cytop',\n  'M_e_Protein_cytop'],\n 'Reconstructable targets': []}"
     },
     "execution_count": 17,
     "metadata": {},
     "output_type": "execute_result"
    }
   ],
   "source": [
    "gapfiller.results_meneco"
   ],
   "metadata": {
    "collapsed": false,
    "pycharm": {
     "name": "#%%\n"
    }
   }
  },
  {
   "cell_type": "code",
   "execution_count": 18,
   "outputs": [
    {
     "name": "stderr",
     "output_type": "stream",
     "text": [
      "'' is not a valid SBML 'SId'.\n",
      "No reactions in model\n",
      "No objective coefficients in model. Unclear what should be optimized\n",
      "'' is not a valid SBML 'SId'.\n",
      "No reactions in model\n",
      "No objective coefficients in model. Unclear what should be optimized\n"
     ]
    },
    {
     "data": {
      "text/plain": "{'Seed reactions': 0,\n 'Target reactions': 0,\n 'Draft reactions': 590,\n 'Gap-filled reactions': 0,\n 'Unproducible reactions': 6}"
     },
     "execution_count": 18,
     "metadata": {},
     "output_type": "execute_result"
    }
   ],
   "source": [
    "gapfiller.evaluate_results()"
   ],
   "metadata": {
    "collapsed": false,
    "pycharm": {
     "name": "#%%\n"
    }
   }
  },
  {
   "cell_type": "code",
   "execution_count": 19,
   "outputs": [
    {
     "name": "stderr",
     "output_type": "stream",
     "text": [
      "1314884 does not conform to 'http(s)://identifiers.org/collection/id' or'http(s)://identifiers.org/COLLECTION:id\n",
      "No objective in listOfObjectives\n",
      "No objective coefficients in model. Unclear what should be optimized\n",
      "1314884 does not conform to 'http(s)://identifiers.org/collection/id' or'http(s)://identifiers.org/COLLECTION:id\n",
      "No objective in listOfObjectives\n",
      "No objective coefficients in model. Unclear what should be optimized\n"
     ]
    },
    {
     "ename": "Infeasible",
     "evalue": "gap filling optimization failed (infeasible).",
     "output_type": "error",
     "traceback": [
      "\u001B[0;31m---------------------------------------------------------------------------\u001B[0m",
      "\u001B[0;31mInfeasible\u001B[0m                                Traceback (most recent call last)",
      "Cell \u001B[0;32mIn[19], line 1\u001B[0m\n\u001B[0;32m----> 1\u001B[0m \u001B[43mgapfiller\u001B[49m\u001B[38;5;241;43m.\u001B[39;49m\u001B[43madd_reactions_to_model\u001B[49m\u001B[43m(\u001B[49m\u001B[43m[\u001B[49m\u001B[38;5;124;43m'\u001B[39;49m\u001B[38;5;124;43mEX_C00120_extr_b\u001B[39;49m\u001B[38;5;124;43m'\u001B[39;49m\u001B[43m,\u001B[49m\u001B[43m \u001B[49m\u001B[38;5;124;43m'\u001B[39;49m\u001B[38;5;124;43mEX_C00123_extr_b\u001B[39;49m\u001B[38;5;124;43m'\u001B[39;49m\u001B[43m,\u001B[49m\u001B[43m \u001B[49m\u001B[38;5;124;43m'\u001B[39;49m\u001B[38;5;124;43mEX_C00049_extr_b\u001B[39;49m\u001B[38;5;124;43m'\u001B[39;49m\u001B[43m,\u001B[49m\u001B[43m \u001B[49m\u001B[38;5;124;43m'\u001B[39;49m\u001B[38;5;124;43mR04441_C3_cytop\u001B[39;49m\u001B[38;5;124;43m'\u001B[39;49m\u001B[43m]\u001B[49m\u001B[43m)\u001B[49m\n",
      "File \u001B[0;32m~/gap_filling_dl/src/gap_filling_dl/biomeneco/gapfiller.py:198\u001B[0m, in \u001B[0;36mGapFiller.add_reactions_to_model\u001B[0;34m(self, reactions)\u001B[0m\n\u001B[1;32m    194\u001B[0m model\u001B[38;5;241m.\u001B[39madd_reactions(\n\u001B[1;32m    195\u001B[0m     [uni_model\u001B[38;5;241m.\u001B[39mreactions\u001B[38;5;241m.\u001B[39mget_by_id(reaction\u001B[38;5;241m.\u001B[39mreplace(\u001B[38;5;124m\"\u001B[39m\u001B[38;5;124mR_\u001B[39m\u001B[38;5;124m\"\u001B[39m, \u001B[38;5;124m\"\u001B[39m\u001B[38;5;124m\"\u001B[39m)) \u001B[38;5;28;01mfor\u001B[39;00m reaction \u001B[38;5;129;01min\u001B[39;00m reactions_to_add])\n\u001B[1;32m    197\u001B[0m \u001B[38;5;66;03m# run the cobra gap-filling algorithm\u001B[39;00m\n\u001B[0;32m--> 198\u001B[0m \u001B[38;5;28mself\u001B[39m\u001B[38;5;241m.\u001B[39mcobra_filled_model \u001B[38;5;241m=\u001B[39m \u001B[43mcobra\u001B[49m\u001B[38;5;241;43m.\u001B[39;49m\u001B[43mflux_analysis\u001B[49m\u001B[38;5;241;43m.\u001B[39;49m\u001B[43mgapfilling\u001B[49m\u001B[38;5;241;43m.\u001B[39;49m\u001B[43mgapfill\u001B[49m\u001B[43m(\u001B[49m\u001B[43mmodel\u001B[49m\u001B[43m,\u001B[49m\u001B[43m \u001B[49m\u001B[38;5;28;43mself\u001B[39;49m\u001B[38;5;241;43m.\u001B[39;49m\u001B[43muniversal_model\u001B[49m\u001B[43m,\u001B[49m\n\u001B[1;32m    199\u001B[0m \u001B[43m                                                                 \u001B[49m\u001B[43mdemand_reactions\u001B[49m\u001B[38;5;241;43m=\u001B[39;49m\u001B[38;5;28;43;01mFalse\u001B[39;49;00m\u001B[43m)\u001B[49m\n\u001B[1;32m    201\u001B[0m \u001B[38;5;28;01mreturn\u001B[39;00m \u001B[38;5;28mself\u001B[39m\u001B[38;5;241m.\u001B[39mcobra_filled_model\n",
      "File \u001B[0;32m/opt/anaconda3/envs/gap_filling_dl/lib/python3.10/site-packages/cobra/flux_analysis/gapfilling.py:407\u001B[0m, in \u001B[0;36mgapfill\u001B[0;34m(model, universal, lower_bound, penalties, demand_reactions, exchange_reactions, iterations)\u001B[0m\n\u001B[1;32m    348\u001B[0m \u001B[38;5;124;03m\"\"\"Perform gap filling on a model.\u001B[39;00m\n\u001B[1;32m    349\u001B[0m \n\u001B[1;32m    350\u001B[0m \u001B[38;5;124;03mParameters\u001B[39;00m\n\u001B[0;32m   (...)\u001B[0m\n\u001B[1;32m    397\u001B[0m \n\u001B[1;32m    398\u001B[0m \u001B[38;5;124;03m\"\"\"\u001B[39;00m\n\u001B[1;32m    399\u001B[0m gapfiller \u001B[38;5;241m=\u001B[39m GapFiller(\n\u001B[1;32m    400\u001B[0m     model,\n\u001B[1;32m    401\u001B[0m     universal\u001B[38;5;241m=\u001B[39muniversal,\n\u001B[0;32m   (...)\u001B[0m\n\u001B[1;32m    405\u001B[0m     exchange_reactions\u001B[38;5;241m=\u001B[39mexchange_reactions,\n\u001B[1;32m    406\u001B[0m )\n\u001B[0;32m--> 407\u001B[0m \u001B[38;5;28;01mreturn\u001B[39;00m \u001B[43mgapfiller\u001B[49m\u001B[38;5;241;43m.\u001B[39;49m\u001B[43mfill\u001B[49m\u001B[43m(\u001B[49m\u001B[43miterations\u001B[49m\u001B[38;5;241;43m=\u001B[39;49m\u001B[43miterations\u001B[49m\u001B[43m)\u001B[49m\n",
      "File \u001B[0;32m/opt/anaconda3/envs/gap_filling_dl/lib/python3.10/site-packages/cobra/flux_analysis/gapfilling.py:296\u001B[0m, in \u001B[0;36mGapFiller.fill\u001B[0;34m(self, iterations)\u001B[0m\n\u001B[1;32m    294\u001B[0m used_reactions \u001B[38;5;241m=\u001B[39m []\n\u001B[1;32m    295\u001B[0m \u001B[38;5;28;01mfor\u001B[39;00m _ \u001B[38;5;129;01min\u001B[39;00m \u001B[38;5;28mrange\u001B[39m(iterations):\n\u001B[0;32m--> 296\u001B[0m     \u001B[38;5;28;43mself\u001B[39;49m\u001B[38;5;241;43m.\u001B[39;49m\u001B[43mmodel\u001B[49m\u001B[38;5;241;43m.\u001B[39;49m\u001B[43mslim_optimize\u001B[49m\u001B[43m(\u001B[49m\n\u001B[1;32m    297\u001B[0m \u001B[43m        \u001B[49m\u001B[43merror_value\u001B[49m\u001B[38;5;241;43m=\u001B[39;49m\u001B[38;5;28;43;01mNone\u001B[39;49;00m\u001B[43m,\u001B[49m\u001B[43m \u001B[49m\u001B[43mmessage\u001B[49m\u001B[38;5;241;43m=\u001B[39;49m\u001B[38;5;124;43m\"\u001B[39;49m\u001B[38;5;124;43mgap filling optimization failed\u001B[39;49m\u001B[38;5;124;43m\"\u001B[39;49m\n\u001B[1;32m    298\u001B[0m \u001B[43m    \u001B[49m\u001B[43m)\u001B[49m\n\u001B[1;32m    299\u001B[0m     solution \u001B[38;5;241m=\u001B[39m [\n\u001B[1;32m    300\u001B[0m         \u001B[38;5;28mself\u001B[39m\u001B[38;5;241m.\u001B[39mmodel\u001B[38;5;241m.\u001B[39mreactions\u001B[38;5;241m.\u001B[39mget_by_id(ind\u001B[38;5;241m.\u001B[39mrxn_id)\n\u001B[1;32m    301\u001B[0m         \u001B[38;5;28;01mfor\u001B[39;00m ind \u001B[38;5;129;01min\u001B[39;00m \u001B[38;5;28mself\u001B[39m\u001B[38;5;241m.\u001B[39mindicators\n\u001B[1;32m    302\u001B[0m         \u001B[38;5;28;01mif\u001B[39;00m ind\u001B[38;5;241m.\u001B[39m_get_primal() \u001B[38;5;241m>\u001B[39m \u001B[38;5;28mself\u001B[39m\u001B[38;5;241m.\u001B[39minteger_threshold\n\u001B[1;32m    303\u001B[0m     ]\n\u001B[1;32m    304\u001B[0m     \u001B[38;5;28;01mif\u001B[39;00m \u001B[38;5;129;01mnot\u001B[39;00m \u001B[38;5;28mself\u001B[39m\u001B[38;5;241m.\u001B[39mvalidate(solution):\n",
      "File \u001B[0;32m/opt/anaconda3/envs/gap_filling_dl/lib/python3.10/site-packages/cobra/core/model.py:1203\u001B[0m, in \u001B[0;36mModel.slim_optimize\u001B[0;34m(self, error_value, message)\u001B[0m\n\u001B[1;32m   1201\u001B[0m     \u001B[38;5;28;01mreturn\u001B[39;00m error_value\n\u001B[1;32m   1202\u001B[0m \u001B[38;5;28;01melse\u001B[39;00m:\n\u001B[0;32m-> 1203\u001B[0m     \u001B[43massert_optimal\u001B[49m\u001B[43m(\u001B[49m\u001B[38;5;28;43mself\u001B[39;49m\u001B[43m,\u001B[49m\u001B[43m \u001B[49m\u001B[43mmessage\u001B[49m\u001B[43m)\u001B[49m\n",
      "File \u001B[0;32m/opt/anaconda3/envs/gap_filling_dl/lib/python3.10/site-packages/cobra/util/solver.py:590\u001B[0m, in \u001B[0;36massert_optimal\u001B[0;34m(model, message)\u001B[0m\n\u001B[1;32m    588\u001B[0m \u001B[38;5;28;01mif\u001B[39;00m status \u001B[38;5;241m!=\u001B[39m OPTIMAL:\n\u001B[1;32m    589\u001B[0m     exception_cls \u001B[38;5;241m=\u001B[39m OPTLANG_TO_EXCEPTIONS_DICT\u001B[38;5;241m.\u001B[39mget(status, OptimizationError)\n\u001B[0;32m--> 590\u001B[0m     \u001B[38;5;28;01mraise\u001B[39;00m exception_cls(\u001B[38;5;124mf\u001B[39m\u001B[38;5;124m\"\u001B[39m\u001B[38;5;132;01m{\u001B[39;00mmessage\u001B[38;5;132;01m}\u001B[39;00m\u001B[38;5;124m (\u001B[39m\u001B[38;5;132;01m{\u001B[39;00mstatus\u001B[38;5;132;01m}\u001B[39;00m\u001B[38;5;124m).\u001B[39m\u001B[38;5;124m\"\u001B[39m)\n",
      "\u001B[0;31mInfeasible\u001B[0m: gap filling optimization failed (infeasible)."
     ]
    }
   ],
   "source": [
    "gapfiller.add_reactions_to_model(['EX_C00120_extr_b', 'EX_C00123_extr_b', 'EX_C00049_extr_b', 'R04441_C3_cytop'])"
   ],
   "metadata": {
    "collapsed": false,
    "pycharm": {
     "name": "#%%\n"
    }
   }
  },
  {
   "cell_type": "code",
   "execution_count": null,
   "outputs": [],
   "source": [],
   "metadata": {
    "collapsed": false,
    "pycharm": {
     "name": "#%%\n"
    }
   }
  }
 ],
 "metadata": {
  "kernelspec": {
   "display_name": "Python 3",
   "language": "python",
   "name": "python3"
  },
  "language_info": {
   "codemirror_mode": {
    "name": "ipython",
    "version": 2
   },
   "file_extension": ".py",
   "mimetype": "text/x-python",
   "name": "python",
   "nbconvert_exporter": "python",
   "pygments_lexer": "ipython2",
   "version": "2.7.6"
  }
 },
 "nbformat": 4,
 "nbformat_minor": 0
}