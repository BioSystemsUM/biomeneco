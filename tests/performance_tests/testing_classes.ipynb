{
 "cells": [
  {
   "cell_type": "code",
   "execution_count": 1,
   "outputs": [
    {
     "name": "stderr",
     "output_type": "stream",
     "text": [
      "12345 does not conform to 'http(s)://identifiers.org/collection/id' or'http(s)://identifiers.org/COLLECTION:id\n",
      "No objective in listOfObjectives\n",
      "No objective coefficients in model. Unclear what should be optimized\n"
     ]
    }
   ],
   "source": [
    "import os\n",
    "\n",
    "import cobra.io\n",
    "\n",
    "from src.gap_filling_dl.my_classes import GapFiller, Model, write_metabolites_to_sbml\n",
    "\n",
    "from src.gap_filling_dl.biomeneco.model import Model\n",
    "from src.gap_filling_dl.biomeneco.gapfiller import GapFiller\n",
    "model_path = \"../data/test_model/model_toy_network.xml\"\n",
    "universal_model_path = \"../data/test_model/universal_model_kegg.xml\"\n",
    "my_model = Model.from_sbml(model_path=model_path, objective_function='e_Biomass__in')"
   ],
   "metadata": {
    "collapsed": false
   }
  },
  {
   "cell_type": "code",
   "execution_count": 6,
   "outputs": [
    {
     "data": {
      "text/plain": "<cobra.summary.model_summary.ModelSummary at 0x2697cbec5e0>",
      "text/html": "<h3>Objective</h3><p>1.0 e_Biomass__in = 0.0</p><h4>Uptake</h4><table border=\"1\" class=\"dataframe\">\n  <thead>\n    <tr style=\"text-align: right;\">\n      <th>Metabolite</th>\n      <th>Reaction</th>\n      <th>Flux</th>\n      <th>C-Number</th>\n      <th>C-Flux</th>\n    </tr>\n  </thead>\n  <tbody>\n  </tbody>\n</table><h4>Secretion</h4><table border=\"1\" class=\"dataframe\">\n  <thead>\n    <tr style=\"text-align: right;\">\n      <th>Metabolite</th>\n      <th>Reaction</th>\n      <th>Flux</th>\n      <th>C-Number</th>\n      <th>C-Flux</th>\n    </tr>\n  </thead>\n  <tbody>\n  </tbody>\n</table>"
     },
     "execution_count": 6,
     "metadata": {},
     "output_type": "execute_result"
    }
   ],
   "source": [
    "my_model.summary()"
   ],
   "metadata": {
    "collapsed": false
   }
  },
  {
   "cell_type": "code",
   "execution_count": 4,
   "outputs": [
    {
     "ename": "TypeError",
     "evalue": "__str__ returned non-string (type ModelSummary)",
     "output_type": "error",
     "traceback": [
      "\u001B[1;31m---------------------------------------------------------------------------\u001B[0m",
      "\u001B[1;31mKeyError\u001B[0m                                  Traceback (most recent call last)",
      "File \u001B[1;32m~\\gap_filling_dl\\lib\\site-packages\\cobra\\core\\dictlist.py:352\u001B[0m, in \u001B[0;36mDictList.index\u001B[1;34m(self, id, *args)\u001B[0m\n\u001B[0;32m    351\u001B[0m \u001B[38;5;28;01mtry\u001B[39;00m:\n\u001B[1;32m--> 352\u001B[0m     \u001B[38;5;28;01mreturn\u001B[39;00m \u001B[38;5;28;43mself\u001B[39;49m\u001B[38;5;241;43m.\u001B[39;49m\u001B[43m_dict\u001B[49m\u001B[43m[\u001B[49m\u001B[38;5;28;43mid\u001B[39;49m\u001B[43m]\u001B[49m\n\u001B[0;32m    353\u001B[0m \u001B[38;5;28;01mexcept\u001B[39;00m \u001B[38;5;167;01mKeyError\u001B[39;00m:\n",
      "\u001B[1;31mKeyError\u001B[0m: 'R00200__in'",
      "\nDuring handling of the above exception, another exception occurred:\n",
      "\u001B[1;31mValueError\u001B[0m                                Traceback (most recent call last)",
      "File \u001B[1;32m~\\gap_filling_dl\\lib\\site-packages\\cobra\\core\\model.py:787\u001B[0m, in \u001B[0;36mModel.remove_reactions\u001B[1;34m(self, reactions, remove_orphans)\u001B[0m\n\u001B[0;32m    786\u001B[0m \u001B[38;5;28;01mtry\u001B[39;00m:\n\u001B[1;32m--> 787\u001B[0m     reaction \u001B[38;5;241m=\u001B[39m \u001B[38;5;28mself\u001B[39m\u001B[38;5;241m.\u001B[39mreactions[\u001B[38;5;28;43mself\u001B[39;49m\u001B[38;5;241;43m.\u001B[39;49m\u001B[43mreactions\u001B[49m\u001B[38;5;241;43m.\u001B[39;49m\u001B[43mindex\u001B[49m\u001B[43m(\u001B[49m\u001B[43mreaction\u001B[49m\u001B[43m)\u001B[49m]\n\u001B[0;32m    788\u001B[0m \u001B[38;5;28;01mexcept\u001B[39;00m \u001B[38;5;167;01mValueError\u001B[39;00m:\n",
      "File \u001B[1;32m~\\gap_filling_dl\\lib\\site-packages\\cobra\\core\\dictlist.py:354\u001B[0m, in \u001B[0;36mDictList.index\u001B[1;34m(self, id, *args)\u001B[0m\n\u001B[0;32m    353\u001B[0m     \u001B[38;5;28;01mexcept\u001B[39;00m \u001B[38;5;167;01mKeyError\u001B[39;00m:\n\u001B[1;32m--> 354\u001B[0m         \u001B[38;5;28;01mraise\u001B[39;00m \u001B[38;5;167;01mValueError\u001B[39;00m(\u001B[38;5;124mf\u001B[39m\u001B[38;5;124m\"\u001B[39m\u001B[38;5;132;01m{\u001B[39;00m\u001B[38;5;28mid\u001B[39m\u001B[38;5;132;01m}\u001B[39;00m\u001B[38;5;124m not found\u001B[39m\u001B[38;5;124m\"\u001B[39m)\n\u001B[0;32m    355\u001B[0m \u001B[38;5;28;01mtry\u001B[39;00m:\n",
      "\u001B[1;31mValueError\u001B[0m: R00200__in not found",
      "\nDuring handling of the above exception, another exception occurred:\n",
      "\u001B[1;31mTypeError\u001B[0m                                 Traceback (most recent call last)",
      "Cell \u001B[1;32mIn[4], line 1\u001B[0m\n\u001B[1;32m----> 1\u001B[0m \u001B[43mmy_model\u001B[49m\u001B[38;5;241;43m.\u001B[39;49m\u001B[43mremove_reactions\u001B[49m\u001B[43m(\u001B[49m\u001B[43m[\u001B[49m\u001B[38;5;124;43m\"\u001B[39;49m\u001B[38;5;124;43mR00200__in\u001B[39;49m\u001B[38;5;124;43m\"\u001B[39;49m\u001B[43m,\u001B[49m\u001B[43m \u001B[49m\u001B[38;5;124;43m\"\u001B[39;49m\u001B[38;5;124;43mR00703__in\u001B[39;49m\u001B[38;5;124;43m\"\u001B[39;49m\u001B[43m]\u001B[49m\u001B[43m)\u001B[49m\n",
      "File \u001B[1;32m~\\gap_filling_dl\\lib\\site-packages\\cobra\\core\\model.py:789\u001B[0m, in \u001B[0;36mModel.remove_reactions\u001B[1;34m(self, reactions, remove_orphans)\u001B[0m\n\u001B[0;32m    787\u001B[0m     reaction \u001B[38;5;241m=\u001B[39m \u001B[38;5;28mself\u001B[39m\u001B[38;5;241m.\u001B[39mreactions[\u001B[38;5;28mself\u001B[39m\u001B[38;5;241m.\u001B[39mreactions\u001B[38;5;241m.\u001B[39mindex(reaction)]\n\u001B[0;32m    788\u001B[0m \u001B[38;5;28;01mexcept\u001B[39;00m \u001B[38;5;167;01mValueError\u001B[39;00m:\n\u001B[1;32m--> 789\u001B[0m     warn(\u001B[38;5;124mf\u001B[39m\u001B[38;5;124m\"\u001B[39m\u001B[38;5;132;01m{\u001B[39;00mreaction\u001B[38;5;132;01m}\u001B[39;00m\u001B[38;5;124m not in \u001B[39m\u001B[38;5;132;01m{\u001B[39;00m\u001B[38;5;28mself\u001B[39m\u001B[38;5;132;01m}\u001B[39;00m\u001B[38;5;124m\"\u001B[39m)\n\u001B[0;32m    791\u001B[0m \u001B[38;5;28;01melse\u001B[39;00m:\n\u001B[0;32m    792\u001B[0m     forward \u001B[38;5;241m=\u001B[39m reaction\u001B[38;5;241m.\u001B[39mforward_variable\n",
      "\u001B[1;31mTypeError\u001B[0m: __str__ returned non-string (type ModelSummary)"
     ]
    }
   ],
   "source": [
    "my_model.remove_reactions([\"R00200__in\", \"R00703__in\"])"
   ],
   "metadata": {
    "collapsed": false
   }
  },
  {
   "cell_type": "code",
   "execution_count": 5,
   "outputs": [
    {
     "data": {
      "text/plain": "0.0"
     },
     "execution_count": 5,
     "metadata": {},
     "output_type": "execute_result"
    }
   ],
   "source": [
    "my_model.slim_optimize()"
   ],
   "metadata": {
    "collapsed": false
   }
  },
  {
   "cell_type": "code",
   "execution_count": 7,
   "outputs": [
    {
     "name": "stderr",
     "output_type": "stream",
     "text": [
      "Could not identify an external compartment by name and choosing one with the most boundary reactions. That might be complete nonsense or change suddenly. Consider renaming your compartments using `Model.compartments` to fix this.\n"
     ]
    },
    {
     "name": "stdout",
     "output_type": "stream",
     "text": [
      "Using COBRApy default solver, namely glpk\n"
     ]
    }
   ],
   "source": [
    "my_model.objective_func='e_Biomass__in'\n",
    "my_model.to_sbml('test_toy', '../data/test_toy/')\n",
    "#my_model.to_sbml('test_toy_seeds1.xml', '/Users/josediogomoura/gap_filling_dl/tests/data', seeds=True, targets=False)"
   ],
   "metadata": {
    "collapsed": false
   }
  },
  {
   "cell_type": "code",
   "execution_count": 8,
   "outputs": [
    {
     "name": "stdout",
     "output_type": "stream",
     "text": [
      "Found file: model_toy_network.xml\n",
      "Found file: test_toy_seeds.xml\n",
      "Found file: test_toy_targets.xml\n",
      "Found file: universal_model_kegg.xml\n",
      "model_file: model_toy_network.xml\n",
      "seeds_file: test_toy_seeds.xml\n",
      "targets_file: test_toy_targets.xml\n",
      "universal_model_file: universal_model_kegg.xml\n"
     ]
    }
   ],
   "source": [
    "from src.gap_filling_dl.biomeneco.gapfiller import GapFiller\n",
    "gap_filler = GapFiller.from_folder('../data/test_toy')"
   ],
   "metadata": {
    "collapsed": false
   }
  },
  {
   "cell_type": "code",
   "execution_count": 9,
   "outputs": [
    {
     "name": "stderr",
     "output_type": "stream",
     "text": [
      "Warning: R_EX_C00009__in listOfProducts=None\n",
      "Warning: R_EX_C00080__in listOfProducts=None\n",
      "Warning: R_EX_C00186__in listOfProducts=None\n",
      "Warning: R_EX_C00267__in listOfProducts=None\n",
      "Warning: R_EX_C00007__in listOfProducts=None\n",
      "Warning: R_EX_C00001__in listOfProducts=None\n"
     ]
    },
    {
     "name": "stdout",
     "output_type": "stream",
     "text": [
      "Time taken:  29.115172863006592\n"
     ]
    },
    {
     "data": {
      "text/plain": "{'Draft network file': '../data/test_toy\\\\model_toy_network.xml',\n 'Seeds file': '../data/test_toy\\\\test_toy_seeds.xml',\n 'Targets file': '../data/test_toy\\\\test_toy_targets.xml',\n 'Unproducible targets': ['M_C00004__in', 'M_C00022__in'],\n 'Repair db file': '../data/test_toy\\\\universal_model_kegg.xml',\n 'Unreconstructable targets': ['M_C00004__in'],\n 'Reconstructable targets': ['M_C00022__in'],\n 'Essential reactions': {'M_C00022__in': []},\n 'One minimal completion': ['R_R01016__in',\n  'R_R01788__in',\n  'R_R04780__in',\n  'R_R11352__in'],\n 'Intersection of cardinality minimal completions': ['R_R01016__in',\n  'R_R01788__in',\n  'R_R04780__in',\n  'R_R11352__in'],\n 'Union of cardinality minimal completions': ['R_R01016__in',\n  'R_R01788__in',\n  'R_R04780__in',\n  'R_R11352__in'],\n 'All cardinality minimal completions': [['R_R11352__in',\n   'R_R04780__in',\n   'R_R01788__in',\n   'R_R01016__in']]}"
     },
     "execution_count": 9,
     "metadata": {},
     "output_type": "execute_result"
    }
   ],
   "source": [
    "gap_filler.run(enumeration=True,json_output=True)"
   ],
   "metadata": {
    "collapsed": false
   }
  },
  {
   "cell_type": "code",
   "execution_count": 1,
   "outputs": [
    {
     "ename": "NameError",
     "evalue": "name 'universal_model_path' is not defined",
     "output_type": "error",
     "traceback": [
      "\u001B[1;31m---------------------------------------------------------------------------\u001B[0m",
      "\u001B[1;31mNameError\u001B[0m                                 Traceback (most recent call last)",
      "Cell \u001B[1;32mIn[1], line 2\u001B[0m\n\u001B[0;32m      1\u001B[0m \u001B[38;5;28;01mimport\u001B[39;00m \u001B[38;5;21;01mcobra\u001B[39;00m\n\u001B[1;32m----> 2\u001B[0m uni_model \u001B[38;5;241m=\u001B[39m cobra\u001B[38;5;241m.\u001B[39mio\u001B[38;5;241m.\u001B[39mread_sbml_model(\u001B[43muniversal_model_path\u001B[49m)\n\u001B[0;32m      4\u001B[0m \u001B[38;5;66;03m# for reaction_to_add in gap_filler.results_meneco['One minimal completion']:\u001B[39;00m\n\u001B[0;32m      5\u001B[0m \u001B[38;5;66;03m#     my_model.add_reactions([uni_model.reactions.get_by_id(reaction_to_add.replace('R_', ''))])\u001B[39;00m\n",
      "\u001B[1;31mNameError\u001B[0m: name 'universal_model_path' is not defined"
     ]
    }
   ],
   "source": [
    "import cobra\n",
    "uni_model = cobra.io.read_sbml_model(universal_model_path)\n",
    "\n",
    "# for reaction_to_add in gap_filler.results_meneco['One minimal completion']:\n",
    "#     my_model.add_reactions([uni_model.reactions.get_by_id(reaction_to_add.replace('R_', ''))])\n"
   ],
   "metadata": {
    "collapsed": false
   }
  },
  {
   "cell_type": "code",
   "execution_count": 18,
   "outputs": [],
   "source": [
    "cobra.io.write_sbml_model(my_model, '../data/test_toy/test.xml')"
   ],
   "metadata": {
    "collapsed": false
   }
  },
  {
   "cell_type": "code",
   "execution_count": 2,
   "outputs": [],
   "source": [
    "from gap_filling_dl.COBRAmodel import *"
   ],
   "metadata": {
    "collapsed": false
   }
  },
  {
   "cell_type": "code",
   "execution_count": 19,
   "outputs": [
    {
     "name": "stderr",
     "output_type": "stream",
     "text": [
      "Could not identify an external compartment by name and choosing one with the most boundary reactions. That might be complete nonsense or change suddenly. Consider renaming your compartments using `Model.compartments` to fix this.\n"
     ]
    },
    {
     "name": "stdout",
     "output_type": "stream",
     "text": [
      "Loading\n",
      "\n",
      "Reactions: 30\n",
      "Metabolites: 28\n",
      "Genes: 0\n",
      "Model loaded\n"
     ]
    }
   ],
   "source": [
    "m = MyModel('../data/test_toy/test.xml', \"e_Biomass__in\")"
   ],
   "metadata": {
    "collapsed": false
   }
  },
  {
   "cell_type": "code",
   "execution_count": 20,
   "outputs": [],
   "source": [
    "from cobra.flux_analysis import gapfill"
   ],
   "metadata": {
    "collapsed": false
   }
  },
  {
   "cell_type": "code",
   "execution_count": 25,
   "outputs": [],
   "source": [
    "solution = gapfill(m, uni_model, demand_reactions=True)"
   ],
   "metadata": {
    "collapsed": false
   }
  },
  {
   "cell_type": "code",
   "execution_count": 26,
   "outputs": [
    {
     "data": {
      "text/plain": "[[<Reaction R00009__in at 0x18eeb3c91c0>]]"
     },
     "execution_count": 26,
     "metadata": {},
     "output_type": "execute_result"
    }
   ],
   "source": [
    "solution"
   ],
   "metadata": {
    "collapsed": false
   }
  },
  {
   "cell_type": "code",
   "execution_count": 44,
   "outputs": [
    {
     "data": {
      "text/plain": "<cobra.summary.metabolite_summary.MetaboliteSummary at 0x26904b05b20>",
      "text/html": "<h3>C00001__out</h3><p>H2O</p><h4>Producing Reactions</h4><table border=\"1\" class=\"dataframe\">\n  <thead>\n    <tr style=\"text-align: right;\">\n      <th>Percent</th>\n      <th>Flux</th>\n      <th>Range</th>\n      <th>Reaction</th>\n      <th>Definition</th>\n    </tr>\n  </thead>\n  <tbody>\n    <tr>\n      <td></td>\n      <td>0</td>\n      <td>[-1000;  10]</td>\n      <td>T_H2O__mem</td>\n      <td>C00001__in &lt;=&gt; C00001__out</td>\n    </tr>\n  </tbody>\n</table><h4>Consuming Reactions</h4><table border=\"1\" class=\"dataframe\">\n  <thead>\n    <tr style=\"text-align: right;\">\n      <th>Percent</th>\n      <th>Flux</th>\n      <th>Range</th>\n      <th>Reaction</th>\n      <th>Definition</th>\n    </tr>\n  </thead>\n  <tbody>\n    <tr>\n      <td></td>\n      <td>0</td>\n      <td>[-10;  1000]</td>\n      <td>EX_C00001__in</td>\n      <td>C00001__out &lt;=&gt;</td>\n    </tr>\n  </tbody>\n</table>"
     },
     "execution_count": 44,
     "metadata": {},
     "output_type": "execute_result"
    }
   ],
   "source": [
    "m.metabolites.C00001__out.summary(fva=0.0)"
   ],
   "metadata": {
    "collapsed": false
   }
  },
  {
   "cell_type": "code",
   "execution_count": 18,
   "outputs": [
    {
     "name": "stdout",
     "output_type": "stream",
     "text": [
      "Runnning pFBA\n"
     ]
    },
    {
     "data": {
      "text/plain": "<cobra.summary.model_summary.ModelSummary at 0x18ec2a097f0>",
      "text/html": "<h3>Objective</h3><p>1.0 e_Biomass__in = 5.0</p><h4>Uptake</h4><table border=\"1\" class=\"dataframe\">\n  <thead>\n    <tr style=\"text-align: right;\">\n      <th>Metabolite</th>\n      <th>Reaction</th>\n      <th>Flux</th>\n      <th>C-Number</th>\n      <th>C-Flux</th>\n    </tr>\n  </thead>\n  <tbody>\n    <tr>\n      <td>C00007__out</td>\n      <td>EX_C00007__in</td>\n      <td>5</td>\n      <td>0</td>\n      <td>0.00%</td>\n    </tr>\n    <tr>\n      <td>C00267__out</td>\n      <td>EX_C00267__in</td>\n      <td>2.5</td>\n      <td>6</td>\n      <td>100.00%</td>\n    </tr>\n  </tbody>\n</table><h4>Secretion</h4><table border=\"1\" class=\"dataframe\">\n  <thead>\n    <tr style=\"text-align: right;\">\n      <th>Metabolite</th>\n      <th>Reaction</th>\n      <th>Flux</th>\n      <th>C-Number</th>\n      <th>C-Flux</th>\n    </tr>\n  </thead>\n  <tbody>\n    <tr>\n      <td>C00027__in</td>\n      <td>Sk_C00027__in</td>\n      <td>-5</td>\n      <td>0</td>\n      <td>0.00%</td>\n    </tr>\n  </tbody>\n</table>"
     },
     "execution_count": 18,
     "metadata": {},
     "output_type": "execute_result"
    }
   ],
   "source": [
    "m.summary()"
   ],
   "metadata": {
    "collapsed": false
   }
  },
  {
   "cell_type": "code",
   "execution_count": 17,
   "outputs": [
    {
     "data": {
      "text/plain": "<Reaction Sk_C00027__in at 0x18ec2a09e50>",
      "text/html": "\n        <table>\n            <tr>\n                <td><strong>Reaction identifier</strong></td><td>Sk_C00027__in</td>\n            </tr><tr>\n                <td><strong>Name</strong></td><td></td>\n            </tr><tr>\n                <td><strong>Memory address</strong></td>\n                <td>0x18ec2a09e50</td>\n            </tr><tr>\n                <td><strong>Stoichiometry</strong></td>\n                <td>\n                    <p style='text-align:right'>C00027__in --></p>\n                    <p style='text-align:right'>Hydrogen peroxide --></p>\n                </td>\n            </tr><tr>\n                <td><strong>GPR</strong></td><td></td>\n            </tr><tr>\n                <td><strong>Lower bound</strong></td><td>0</td>\n            </tr><tr>\n                <td><strong>Upper bound</strong></td><td>10000</td>\n            </tr>\n        </table>\n        "
     },
     "execution_count": 17,
     "metadata": {},
     "output_type": "execute_result"
    }
   ],
   "source": [
    "m.create_demand(\"C00027__in\")"
   ],
   "metadata": {
    "collapsed": false
   }
  },
  {
   "cell_type": "code",
   "execution_count": 8,
   "outputs": [
    {
     "data": {
      "text/plain": "<Metabolite C00022__in at 0x18ec15bdc40>",
      "text/html": "\n        <table>\n            <tr>\n                <td><strong>Metabolite identifier</strong></td><td>C00022__in</td>\n            </tr><tr>\n                <td><strong>Name</strong></td><td>Pyruvate</td>\n            </tr><tr>\n                <td><strong>Memory address</strong></td>\n                <td>0x18ec15bdc40</td>\n            </tr><tr>\n                <td><strong>Formula</strong></td><td>C3H4O3</td>\n            </tr><tr>\n                <td><strong>Compartment</strong></td><td>C_00002</td>\n            </tr><tr>\n                <td><strong>In 2 reaction(s)</strong></td><td>\n                    e_Biomass__in, R11352__in\n                    </td>\n            </tr>\n        </table>"
     },
     "execution_count": 8,
     "metadata": {},
     "output_type": "execute_result"
    }
   ],
   "source": [
    "m.metabolites.C00022__in"
   ],
   "metadata": {
    "collapsed": false
   }
  },
  {
   "cell_type": "code",
   "execution_count": 6,
   "outputs": [
    {
     "data": {
      "text/plain": "<Reaction Av_C00003__in at 0x18ec17c2bb0>",
      "text/html": "\n        <table>\n            <tr>\n                <td><strong>Reaction identifier</strong></td><td>Av_C00003__in</td>\n            </tr><tr>\n                <td><strong>Name</strong></td><td></td>\n            </tr><tr>\n                <td><strong>Memory address</strong></td>\n                <td>0x18ec17c2bb0</td>\n            </tr><tr>\n                <td><strong>Stoichiometry</strong></td>\n                <td>\n                    <p style='text-align:right'><=> C00003__in</p>\n                    <p style='text-align:right'><=> NAD+</p>\n                </td>\n            </tr><tr>\n                <td><strong>GPR</strong></td><td></td>\n            </tr><tr>\n                <td><strong>Lower bound</strong></td><td>-10000</td>\n            </tr><tr>\n                <td><strong>Upper bound</strong></td><td>10000</td>\n            </tr>\n        </table>\n        "
     },
     "execution_count": 6,
     "metadata": {},
     "output_type": "execute_result"
    }
   ],
   "source": [
    "m.create_sink(\"C00004__in\")\n",
    "m.create_sink(\"C00003__in\")"
   ],
   "metadata": {
    "collapsed": false
   }
  },
  {
   "cell_type": "code",
   "execution_count": 57,
   "outputs": [
    {
     "name": "stderr",
     "output_type": "stream",
     "text": [
      "Ignoring reaction 'Sk_C00001__in' since it already exists.\n",
      "Ignoring reaction 'Sk_C00002__in' since it already exists.\n",
      "Ignoring reaction 'Sk_C00022__in' since it already exists.\n"
     ]
    },
    {
     "data": {
      "text/plain": "          Flux\nH2O        0.0\nATP        0.0\nPyruvate   0.0",
      "text/html": "<div>\n<style scoped>\n    .dataframe tbody tr th:only-of-type {\n        vertical-align: middle;\n    }\n\n    .dataframe tbody tr th {\n        vertical-align: top;\n    }\n\n    .dataframe thead th {\n        text-align: right;\n    }\n</style>\n<table border=\"1\" class=\"dataframe\">\n  <thead>\n    <tr style=\"text-align: right;\">\n      <th></th>\n      <th>Flux</th>\n    </tr>\n  </thead>\n  <tbody>\n    <tr>\n      <th>H2O</th>\n      <td>0.0</td>\n    </tr>\n    <tr>\n      <th>ATP</th>\n      <td>0.0</td>\n    </tr>\n    <tr>\n      <th>Pyruvate</th>\n      <td>0.0</td>\n    </tr>\n  </tbody>\n</table>\n</div>"
     },
     "execution_count": 57,
     "metadata": {},
     "output_type": "execute_result"
    }
   ],
   "source": [
    "m.create_sink(\"C00001__in\")\n",
    "m.test_reaction(\"e_Biomass__in\")"
   ],
   "metadata": {
    "collapsed": false
   }
  },
  {
   "cell_type": "code",
   "execution_count": 55,
   "outputs": [
    {
     "name": "stdout",
     "output_type": "stream",
     "text": [
      "Runnning pFBA\n"
     ]
    },
    {
     "data": {
      "text/plain": "<cobra.summary.model_summary.ModelSummary at 0x269055ff340>",
      "text/html": "<h3>Objective</h3><p>1.0 e_Biomass__in = 0.0</p><h4>Uptake</h4><table border=\"1\" class=\"dataframe\">\n  <thead>\n    <tr style=\"text-align: right;\">\n      <th>Metabolite</th>\n      <th>Reaction</th>\n      <th>Flux</th>\n      <th>C-Number</th>\n      <th>C-Flux</th>\n    </tr>\n  </thead>\n  <tbody>\n    <tr>\n      <td>C00007__out</td>\n      <td>EX_C00007__in</td>\n      <td>5</td>\n      <td>0</td>\n      <td>0.00%</td>\n    </tr>\n    <tr>\n      <td>C00080__out</td>\n      <td>EX_C00080__in</td>\n      <td>10</td>\n      <td>0</td>\n      <td>0.00%</td>\n    </tr>\n  </tbody>\n</table><h4>Secretion</h4><table border=\"1\" class=\"dataframe\">\n  <thead>\n    <tr style=\"text-align: right;\">\n      <th>Metabolite</th>\n      <th>Reaction</th>\n      <th>Flux</th>\n      <th>C-Number</th>\n      <th>C-Flux</th>\n    </tr>\n  </thead>\n  <tbody>\n    <tr>\n      <td>C00001__out</td>\n      <td>EX_C00001__in</td>\n      <td>-10</td>\n      <td>0</td>\n      <td>0.00%</td>\n    </tr>\n  </tbody>\n</table>"
     },
     "execution_count": 55,
     "metadata": {},
     "output_type": "execute_result"
    }
   ],
   "source": [
    "m.summary()"
   ],
   "metadata": {
    "collapsed": false
   }
  },
  {
   "cell_type": "code",
   "execution_count": 16,
   "outputs": [
    {
     "data": {
      "text/plain": "<Reaction SK_C00003__in at 0x2692d3e10a0>",
      "text/html": "\n        <table>\n            <tr>\n                <td><strong>Reaction identifier</strong></td><td>SK_C00003__in</td>\n            </tr><tr>\n                <td><strong>Name</strong></td><td>NAD+ sink</td>\n            </tr><tr>\n                <td><strong>Memory address</strong></td>\n                <td>0x2692d3e10a0</td>\n            </tr><tr>\n                <td><strong>Stoichiometry</strong></td>\n                <td>\n                    <p style='text-align:right'>C00003__in <=></p>\n                    <p style='text-align:right'>NAD+ <=></p>\n                </td>\n            </tr><tr>\n                <td><strong>GPR</strong></td><td></td>\n            </tr><tr>\n                <td><strong>Lower bound</strong></td><td>-1000.0</td>\n            </tr><tr>\n                <td><strong>Upper bound</strong></td><td>1000.0</td>\n            </tr>\n        </table>\n        "
     },
     "execution_count": 16,
     "metadata": {},
     "output_type": "execute_result"
    }
   ],
   "source": [
    "my_model.add_boundary(my_model.metabolites.C00004__in, type=\"sink\")\n",
    "my_model.add_boundary(my_model.metabolites.C00003__in, type=\"sink\")"
   ],
   "metadata": {
    "collapsed": false
   }
  },
  {
   "cell_type": "code",
   "execution_count": 23,
   "outputs": [
    {
     "ename": "NameError",
     "evalue": "name 'Users' is not defined",
     "output_type": "error",
     "traceback": [
      "\u001B[0;31m---------------------------------------------------------------------------\u001B[0m",
      "\u001B[0;31mNameError\u001B[0m                                 Traceback (most recent call last)",
      "Cell \u001B[0;32mIn[23], line 1\u001B[0m\n\u001B[0;32m----> 1\u001B[0m \u001B[43mUsers\u001B[49m\u001B[38;5;241m/\u001B[39mjosediogomoura\u001B[38;5;241m/\u001B[39mgap_filling_dl\u001B[38;5;241m/\u001B[39msrc\u001B[38;5;241m/\u001B[39mgap_filling_dl\u001B[38;5;241m/\u001B[39mwrite_sbml\u001B[38;5;241m/\u001B[39mmetabolites_to_sbml\u001B[38;5;241m.\u001B[39mpy()\n\u001B[1;32m      3\u001B[0m \u001B[38;5;28;01mfrom\u001B[39;00m \u001B[38;5;21;01msrc\u001B[39;00m\u001B[38;5;21;01m.\u001B[39;00m\u001B[38;5;21;01mgap_filling_dl\u001B[39;00m\u001B[38;5;21;01m.\u001B[39;00m\u001B[38;5;21;01mwrite_sbml\u001B[39;00m\u001B[38;5;21;01m.\u001B[39;00m\u001B[38;5;21;01mmetabolites_to_sbml\u001B[39;00m \u001B[38;5;28;01mimport\u001B[39;00m write_metabolites_to_sbml\n\u001B[1;32m      4\u001B[0m my_model\u001B[38;5;241m.\u001B[39mto_sbml(\u001B[38;5;124m'\u001B[39m\u001B[38;5;124mtargets.xml\u001B[39m\u001B[38;5;124m'\u001B[39m, \u001B[38;5;124m'\u001B[39m\u001B[38;5;124m/Users/josediogomoura/gap_filling_dl/tests/performance_tests/data\u001B[39m\u001B[38;5;124m'\u001B[39m, targets\u001B[38;5;241m=\u001B[39mtargets)\n",
      "\u001B[0;31mNameError\u001B[0m: name 'Users' is not defined"
     ]
    }
   ],
   "source": [
    "/Users/josediogomoura/gap_filling_dl/src/gap_filling_dl/write_sbml/metabolites_to_sbml.py\n",
    "\n",
    "from src.gap_filling_dl.write_sbml.metabolites_to_sbml import write_metabolites_to_sbml\n",
    "my_model.to_sbml('targets.xml', '/Users/josediogomoura/gap_filling_dl/tests/performance_tests/data', targets=targets)\n",
    "write_metabolites_to_sbml('toy_targets.xml', '/Users/josediogomoura/gap_filling_dl/tests/data')\n",
    "write_metabolites_to_sbml(seeds, '/Users/josediogomoura/gap_filling_dl/tests/data/toy_metabolites.xml')\n"
   ],
   "metadata": {
    "collapsed": false
   }
  },
  {
   "cell_type": "code",
   "execution_count": 3,
   "outputs": [],
   "source": [
    "my_model.model.remove_reactions([\"R00130_C3_cytop\"])"
   ],
   "metadata": {
    "collapsed": false
   }
  },
  {
   "cell_type": "code",
   "execution_count": 4,
   "outputs": [
    {
     "data": {
      "text/plain": "[('C00080_extr', 'C_00001'),\n ('C00080_cytop', 'C_00002'),\n ('C00183_cytop', 'C_00002'),\n ('C00106_cytop', 'C_00002'),\n ('C00009_cytop', 'C_00002'),\n ('C00008_cytop', 'C_00002'),\n ('C00492_cytop', 'C_00002'),\n ('C00152_cytop', 'C_00002'),\n ('C01330_cytop', 'C_00002'),\n ('C00037_cytop', 'C_00002'),\n ('C00469_extr', 'C_00001'),\n ('C00469_cytop', 'C_00002'),\n ('C00049_cytop', 'C_00002'),\n ('C00120_cytop', 'C_00002'),\n ('C00385_cytop', 'C_00002'),\n ('C00007_cytop', 'C_00002'),\n ('C00123_cytop', 'C_00002'),\n ('C00062_cytop', 'C_00002'),\n ('C00407_cytop', 'C_00002'),\n ('C00061_cytop', 'C_00002'),\n ('C00188_cytop', 'C_00002'),\n ('C00022_cytop', 'C_00002'),\n ('C16688_cytop', 'C_00002'),\n ('C00262_cytop', 'C_00002'),\n ('C00212_cytop', 'C_00002'),\n ('C01613_cytop', 'C_00002'),\n ('C00668_cytop', 'C_00002'),\n ('C00294_cytop', 'C_00002'),\n ('C00255_cytop', 'C_00002'),\n ('C01762_cytop', 'C_00002'),\n ('C00644_cytop', 'C_00002'),\n ('C00041_cytop', 'C_00002'),\n ('C00114_cytop', 'C_00002'),\n ('C00078_cytop', 'C_00002'),\n ('C00116_extr', 'C_00001'),\n ('C00116_cytop', 'C_00002'),\n ('C00387_cytop', 'C_00002'),\n ('C02291_cytop', 'C_00002'),\n ('C00025_cytop', 'C_00002'),\n ('C00073_cytop', 'C_00002'),\n ('C00058_extr', 'C_00001'),\n ('C00058_cytop', 'C_00002'),\n ('C00134_cytop', 'C_00002'),\n ('C05396_cytop', 'C_00002'),\n ('C00135_cytop', 'C_00002'),\n ('C00275_cytop', 'C_00002'),\n ('C00042_extr', 'C_00001'),\n ('C00042_cytop', 'C_00002'),\n ('C00378_extr', 'C_00001'),\n ('C00378_cytop', 'C_00002'),\n ('C00011_extr', 'C_00001'),\n ('C00011_cytop', 'C_00002'),\n ('C00504_cytop', 'C_00002'),\n ('C00122_extr', 'C_00001'),\n ('C00122_cytop', 'C_00002'),\n ('C00242_cytop', 'C_00002'),\n ('C00147_cytop', 'C_00002'),\n ('C00148_cytop', 'C_00002'),\n ('C00014_extr', 'C_00001'),\n ('C00014_cytop', 'C_00002'),\n ('C00047_cytop', 'C_00002'),\n ('C00446_cytop', 'C_00002'),\n ('C00357_cytop', 'C_00002'),\n ('C00009_extr', 'C_00001'),\n ('C01330_extr', 'C_00001'),\n ('C00153_extr', 'C_00001'),\n ('C00153_cytop', 'C_00002'),\n ('C00064_cytop', 'C_00002'),\n ('C01113_cytop', 'C_00002'),\n ('C00033_extr', 'C_00001'),\n ('C00033_cytop', 'C_00002'),\n ('C00186_extr', 'C_00001'),\n ('C00186_cytop', 'C_00002'),\n ('C00864_cytop', 'C_00002'),\n ('C00253_cytop', 'C_00002'),\n ('C00082_cytop', 'C_00002'),\n ('C00079_cytop', 'C_00002')]"
     },
     "execution_count": 4,
     "metadata": {},
     "output_type": "execute_result"
    }
   ],
   "source": [
    "my_model.seeds"
   ],
   "metadata": {
    "collapsed": false
   }
  },
  {
   "cell_type": "code",
   "execution_count": 5,
   "outputs": [
    {
     "name": "stdout",
     "output_type": "stream",
     "text": [
      "Using COBRApy default solver, namely glpk\n"
     ]
    },
    {
     "data": {
      "text/plain": "[('e_Cofactor_cytop', 'C_00002')]"
     },
     "execution_count": 5,
     "metadata": {},
     "output_type": "execute_result"
    }
   ],
   "source": [
    "my_model.targets"
   ],
   "metadata": {
    "collapsed": false
   }
  },
  {
   "cell_type": "code",
   "execution_count": 6,
   "outputs": [
    {
     "name": "stdout",
     "output_type": "stream",
     "text": [
      "Using COBRApy default solver, namely glpk\n"
     ]
    }
   ],
   "source": [
    "targets = my_model.targets\n",
    "seeds = my_model.seeds"
   ],
   "metadata": {
    "collapsed": false
   }
  },
  {
   "cell_type": "code",
   "execution_count": 7,
   "outputs": [
    {
     "name": "stderr",
     "output_type": "stream",
     "text": [
      "171101 does not conform to 'http(s)://identifiers.org/collection/id' or'http(s)://identifiers.org/COLLECTION:id\n",
      "Adding exchange reaction EX_C00001_extr_b with default bounds for boundary metabolite: C00001_extr_b.\n",
      "Adding exchange reaction EX_C00262_extr_b with default bounds for boundary metabolite: C00262_extr_b.\n",
      "Adding exchange reaction EX_C00124_extr_b with default bounds for boundary metabolite: C00124_extr_b.\n",
      "Adding exchange reaction EX_C00140_extr_b with default bounds for boundary metabolite: C00140_extr_b.\n",
      "Adding exchange reaction EX_C00106_extr_b with default bounds for boundary metabolite: C00106_extr_b.\n",
      "Adding exchange reaction EX_Biomass_extr_b with default bounds for boundary metabolite: Biomass_extr_b.\n",
      "Adding exchange reaction EX_C00159_extr_b with default bounds for boundary metabolite: C00159_extr_b.\n",
      "Adding exchange reaction EX_C00047_extr_b with default bounds for boundary metabolite: C00047_extr_b.\n",
      "Adding exchange reaction EX_C00147_extr_b with default bounds for boundary metabolite: C00147_extr_b.\n",
      "Adding exchange reaction EX_C00255_extr_b with default bounds for boundary metabolite: C00255_extr_b.\n",
      "Adding exchange reaction EX_C00041_extr_b with default bounds for boundary metabolite: C00041_extr_b.\n",
      "Adding exchange reaction EX_C00186_extr_b with default bounds for boundary metabolite: C00186_extr_b.\n",
      "Adding exchange reaction EX_C00022_extr_b with default bounds for boundary metabolite: C00022_extr_b.\n",
      "Adding exchange reaction EX_C00025_extr_b with default bounds for boundary metabolite: C00025_extr_b.\n",
      "Adding exchange reaction EX_C00033_extr_b with default bounds for boundary metabolite: C00033_extr_b.\n",
      "Adding exchange reaction EX_C00378_extr_b with default bounds for boundary metabolite: C00378_extr_b.\n",
      "Adding exchange reaction EX_C00153_extr_b with default bounds for boundary metabolite: C00153_extr_b.\n",
      "Adding exchange reaction EX_C00183_extr_b with default bounds for boundary metabolite: C00183_extr_b.\n",
      "Adding exchange reaction EX_C00014_extr_b with default bounds for boundary metabolite: C00014_extr_b.\n",
      "Adding exchange reaction EX_C01330_extr_b with default bounds for boundary metabolite: C01330_extr_b.\n",
      "Adding exchange reaction EX_C00011_extr_b with default bounds for boundary metabolite: C00011_extr_b.\n",
      "Adding exchange reaction EX_C03089_cytop_b with default bounds for boundary metabolite: C03089_cytop_b.\n",
      "Adding exchange reaction EX_C00073_extr_b with default bounds for boundary metabolite: C00073_extr_b.\n",
      "Adding exchange reaction EX_C00027_extr_b with default bounds for boundary metabolite: C00027_extr_b.\n",
      "Adding exchange reaction EX_C00492_extr_b with default bounds for boundary metabolite: C00492_extr_b.\n",
      "Adding exchange reaction EX_C00504_extr_b with default bounds for boundary metabolite: C00504_extr_b.\n",
      "Adding exchange reaction EX_C00079_extr_b with default bounds for boundary metabolite: C00079_extr_b.\n",
      "Adding exchange reaction EX_C00134_extr_b with default bounds for boundary metabolite: C00134_extr_b.\n",
      "Adding exchange reaction EX_C00750_extr_b with default bounds for boundary metabolite: C00750_extr_b.\n",
      "Adding exchange reaction EX_C00062_extr_b with default bounds for boundary metabolite: C00062_extr_b.\n",
      "Adding exchange reaction EX_C00065_extr_b with default bounds for boundary metabolite: C00065_extr_b.\n",
      "Adding exchange reaction EX_C00120_extr_b with default bounds for boundary metabolite: C00120_extr_b.\n",
      "Adding exchange reaction EX_C00123_extr_b with default bounds for boundary metabolite: C00123_extr_b.\n",
      "Adding exchange reaction EX_C00049_extr_b with default bounds for boundary metabolite: C00049_extr_b.\n",
      "Adding exchange reaction EX_C00082_extr_b with default bounds for boundary metabolite: C00082_extr_b.\n",
      "Adding exchange reaction EX_C01762_extr_b with default bounds for boundary metabolite: C01762_extr_b.\n",
      "Adding exchange reaction EX_C00135_extr_b with default bounds for boundary metabolite: C00135_extr_b.\n",
      "Adding exchange reaction EX_C00188_extr_b with default bounds for boundary metabolite: C00188_extr_b.\n",
      "Adding exchange reaction EX_C00243_extr_b with default bounds for boundary metabolite: C00243_extr_b.\n",
      "Adding exchange reaction EX_C00288_extr_b with default bounds for boundary metabolite: C00288_extr_b.\n",
      "Adding exchange reaction EX_C00864_extr_b with default bounds for boundary metabolite: C00864_extr_b.\n",
      "Adding exchange reaction EX_C00148_extr_b with default bounds for boundary metabolite: C00148_extr_b.\n",
      "Adding exchange reaction EX_C00009_extr_b with default bounds for boundary metabolite: C00009_extr_b.\n",
      "Adding exchange reaction EX_C00266_extr_b with default bounds for boundary metabolite: C00266_extr_b.\n",
      "Adding exchange reaction EX_C00058_extr_b with default bounds for boundary metabolite: C00058_extr_b.\n",
      "Adding exchange reaction EX_C00097_extr_b with default bounds for boundary metabolite: C00097_extr_b.\n",
      "Adding exchange reaction EX_C00152_extr_b with default bounds for boundary metabolite: C00152_extr_b.\n",
      "Adding exchange reaction EX_C00089_extr_b with default bounds for boundary metabolite: C00089_extr_b.\n",
      "Adding exchange reaction EX_C00064_extr_b with default bounds for boundary metabolite: C00064_extr_b.\n",
      "Adding exchange reaction EX_C00078_extr_b with default bounds for boundary metabolite: C00078_extr_b.\n",
      "Adding exchange reaction EX_C01613_extr_b with default bounds for boundary metabolite: C01613_extr_b.\n",
      "Adding exchange reaction EX_C00122_extr_b with default bounds for boundary metabolite: C00122_extr_b.\n",
      "Adding exchange reaction EX_C00059_extr_b with default bounds for boundary metabolite: C00059_extr_b.\n",
      "Adding exchange reaction EX_C00114_extr_b with default bounds for boundary metabolite: C00114_extr_b.\n",
      "Adding exchange reaction EX_C00267_extr_b with default bounds for boundary metabolite: C00267_extr_b.\n",
      "Adding exchange reaction EX_C00469_extr_b with default bounds for boundary metabolite: C00469_extr_b.\n",
      "Adding exchange reaction EX_C00253_extr_b with default bounds for boundary metabolite: C00253_extr_b.\n",
      "Adding exchange reaction EX_C00080_extr_b with default bounds for boundary metabolite: C00080_extr_b.\n",
      "Adding exchange reaction EX_C00116_extr_b with default bounds for boundary metabolite: C00116_extr_b.\n",
      "Adding exchange reaction EX_C00037_extr_b with default bounds for boundary metabolite: C00037_extr_b.\n",
      "Adding exchange reaction EX_C00042_extr_b with default bounds for boundary metabolite: C00042_extr_b.\n",
      "Adding exchange reaction EX_C00242_extr_b with default bounds for boundary metabolite: C00242_extr_b.\n",
      "Adding exchange reaction EX_C00250_extr_b with default bounds for boundary metabolite: C00250_extr_b.\n",
      "Adding exchange reaction EX_C14818_extr_b with default bounds for boundary metabolite: C14818_extr_b.\n",
      "Adding exchange reaction EX_C00392_extr_b with default bounds for boundary metabolite: C00392_extr_b.\n",
      "Adding exchange reaction EX_C00407_extr_b with default bounds for boundary metabolite: C00407_extr_b.\n",
      "Adding exchange reaction EX_C00007_extr_b with default bounds for boundary metabolite: C00007_extr_b.\n"
     ]
    }
   ],
   "source": [
    "# writing targets to sbml\n",
    "#my_model.to_sbml('targets.xml','/Users/josediogomoura/gap_filling_dl/tests/performance_tests/data',targets=targets)\n",
    "\n",
    "my_model.to_sbml('targets.xml', '/Users/josediogomoura/gap_filling_dl/tests/performance_tests/data', targets=targets)"
   ],
   "metadata": {
    "collapsed": false
   }
  },
  {
   "cell_type": "code",
   "execution_count": 8,
   "outputs": [
    {
     "name": "stderr",
     "output_type": "stream",
     "text": [
      "171101 does not conform to 'http(s)://identifiers.org/collection/id' or'http(s)://identifiers.org/COLLECTION:id\n",
      "Adding exchange reaction EX_C00001_extr_b with default bounds for boundary metabolite: C00001_extr_b.\n",
      "Adding exchange reaction EX_C00262_extr_b with default bounds for boundary metabolite: C00262_extr_b.\n",
      "Adding exchange reaction EX_C00124_extr_b with default bounds for boundary metabolite: C00124_extr_b.\n",
      "Adding exchange reaction EX_C00140_extr_b with default bounds for boundary metabolite: C00140_extr_b.\n",
      "Adding exchange reaction EX_C00106_extr_b with default bounds for boundary metabolite: C00106_extr_b.\n",
      "Adding exchange reaction EX_Biomass_extr_b with default bounds for boundary metabolite: Biomass_extr_b.\n",
      "Adding exchange reaction EX_C00159_extr_b with default bounds for boundary metabolite: C00159_extr_b.\n",
      "Adding exchange reaction EX_C00047_extr_b with default bounds for boundary metabolite: C00047_extr_b.\n",
      "Adding exchange reaction EX_C00147_extr_b with default bounds for boundary metabolite: C00147_extr_b.\n",
      "Adding exchange reaction EX_C00255_extr_b with default bounds for boundary metabolite: C00255_extr_b.\n",
      "Adding exchange reaction EX_C00041_extr_b with default bounds for boundary metabolite: C00041_extr_b.\n",
      "Adding exchange reaction EX_C00186_extr_b with default bounds for boundary metabolite: C00186_extr_b.\n",
      "Adding exchange reaction EX_C00022_extr_b with default bounds for boundary metabolite: C00022_extr_b.\n",
      "Adding exchange reaction EX_C00025_extr_b with default bounds for boundary metabolite: C00025_extr_b.\n",
      "Adding exchange reaction EX_C00033_extr_b with default bounds for boundary metabolite: C00033_extr_b.\n",
      "Adding exchange reaction EX_C00378_extr_b with default bounds for boundary metabolite: C00378_extr_b.\n",
      "Adding exchange reaction EX_C00153_extr_b with default bounds for boundary metabolite: C00153_extr_b.\n",
      "Adding exchange reaction EX_C00183_extr_b with default bounds for boundary metabolite: C00183_extr_b.\n",
      "Adding exchange reaction EX_C00014_extr_b with default bounds for boundary metabolite: C00014_extr_b.\n",
      "Adding exchange reaction EX_C01330_extr_b with default bounds for boundary metabolite: C01330_extr_b.\n",
      "Adding exchange reaction EX_C00011_extr_b with default bounds for boundary metabolite: C00011_extr_b.\n",
      "Adding exchange reaction EX_C03089_cytop_b with default bounds for boundary metabolite: C03089_cytop_b.\n",
      "Adding exchange reaction EX_C00073_extr_b with default bounds for boundary metabolite: C00073_extr_b.\n",
      "Adding exchange reaction EX_C00027_extr_b with default bounds for boundary metabolite: C00027_extr_b.\n",
      "Adding exchange reaction EX_C00492_extr_b with default bounds for boundary metabolite: C00492_extr_b.\n",
      "Adding exchange reaction EX_C00504_extr_b with default bounds for boundary metabolite: C00504_extr_b.\n",
      "Adding exchange reaction EX_C00079_extr_b with default bounds for boundary metabolite: C00079_extr_b.\n",
      "Adding exchange reaction EX_C00134_extr_b with default bounds for boundary metabolite: C00134_extr_b.\n",
      "Adding exchange reaction EX_C00750_extr_b with default bounds for boundary metabolite: C00750_extr_b.\n",
      "Adding exchange reaction EX_C00062_extr_b with default bounds for boundary metabolite: C00062_extr_b.\n",
      "Adding exchange reaction EX_C00065_extr_b with default bounds for boundary metabolite: C00065_extr_b.\n",
      "Adding exchange reaction EX_C00120_extr_b with default bounds for boundary metabolite: C00120_extr_b.\n",
      "Adding exchange reaction EX_C00123_extr_b with default bounds for boundary metabolite: C00123_extr_b.\n",
      "Adding exchange reaction EX_C00049_extr_b with default bounds for boundary metabolite: C00049_extr_b.\n",
      "Adding exchange reaction EX_C00082_extr_b with default bounds for boundary metabolite: C00082_extr_b.\n",
      "Adding exchange reaction EX_C01762_extr_b with default bounds for boundary metabolite: C01762_extr_b.\n",
      "Adding exchange reaction EX_C00135_extr_b with default bounds for boundary metabolite: C00135_extr_b.\n",
      "Adding exchange reaction EX_C00188_extr_b with default bounds for boundary metabolite: C00188_extr_b.\n",
      "Adding exchange reaction EX_C00243_extr_b with default bounds for boundary metabolite: C00243_extr_b.\n",
      "Adding exchange reaction EX_C00288_extr_b with default bounds for boundary metabolite: C00288_extr_b.\n",
      "Adding exchange reaction EX_C00864_extr_b with default bounds for boundary metabolite: C00864_extr_b.\n",
      "Adding exchange reaction EX_C00148_extr_b with default bounds for boundary metabolite: C00148_extr_b.\n",
      "Adding exchange reaction EX_C00009_extr_b with default bounds for boundary metabolite: C00009_extr_b.\n",
      "Adding exchange reaction EX_C00266_extr_b with default bounds for boundary metabolite: C00266_extr_b.\n",
      "Adding exchange reaction EX_C00058_extr_b with default bounds for boundary metabolite: C00058_extr_b.\n",
      "Adding exchange reaction EX_C00097_extr_b with default bounds for boundary metabolite: C00097_extr_b.\n",
      "Adding exchange reaction EX_C00152_extr_b with default bounds for boundary metabolite: C00152_extr_b.\n",
      "Adding exchange reaction EX_C00089_extr_b with default bounds for boundary metabolite: C00089_extr_b.\n",
      "Adding exchange reaction EX_C00064_extr_b with default bounds for boundary metabolite: C00064_extr_b.\n",
      "Adding exchange reaction EX_C00078_extr_b with default bounds for boundary metabolite: C00078_extr_b.\n",
      "Adding exchange reaction EX_C01613_extr_b with default bounds for boundary metabolite: C01613_extr_b.\n",
      "Adding exchange reaction EX_C00122_extr_b with default bounds for boundary metabolite: C00122_extr_b.\n",
      "Adding exchange reaction EX_C00059_extr_b with default bounds for boundary metabolite: C00059_extr_b.\n",
      "Adding exchange reaction EX_C00114_extr_b with default bounds for boundary metabolite: C00114_extr_b.\n",
      "Adding exchange reaction EX_C00267_extr_b with default bounds for boundary metabolite: C00267_extr_b.\n",
      "Adding exchange reaction EX_C00469_extr_b with default bounds for boundary metabolite: C00469_extr_b.\n",
      "Adding exchange reaction EX_C00253_extr_b with default bounds for boundary metabolite: C00253_extr_b.\n",
      "Adding exchange reaction EX_C00080_extr_b with default bounds for boundary metabolite: C00080_extr_b.\n",
      "Adding exchange reaction EX_C00116_extr_b with default bounds for boundary metabolite: C00116_extr_b.\n",
      "Adding exchange reaction EX_C00037_extr_b with default bounds for boundary metabolite: C00037_extr_b.\n",
      "Adding exchange reaction EX_C00042_extr_b with default bounds for boundary metabolite: C00042_extr_b.\n",
      "Adding exchange reaction EX_C00242_extr_b with default bounds for boundary metabolite: C00242_extr_b.\n",
      "Adding exchange reaction EX_C00250_extr_b with default bounds for boundary metabolite: C00250_extr_b.\n",
      "Adding exchange reaction EX_C14818_extr_b with default bounds for boundary metabolite: C14818_extr_b.\n",
      "Adding exchange reaction EX_C00392_extr_b with default bounds for boundary metabolite: C00392_extr_b.\n",
      "Adding exchange reaction EX_C00407_extr_b with default bounds for boundary metabolite: C00407_extr_b.\n",
      "Adding exchange reaction EX_C00007_extr_b with default bounds for boundary metabolite: C00007_extr_b.\n"
     ]
    }
   ],
   "source": [
    "my_model.to_sbml('seeds.xml', '/Users/josediogomoura/gap_filling_dl/tests/performance_tests/data', seeds=seeds)"
   ],
   "metadata": {
    "collapsed": false
   }
  },
  {
   "cell_type": "code",
   "execution_count": 9,
   "outputs": [],
   "source": [
    "# test GapFiller class\n",
    "\n",
    "universal_model_path = '/Users/josediogomoura/gap_filling_dl/tests/performance_tests/data/kegg_universal_model.xml'\n",
    "model_path = '/Users/josediogomoura/gap_filling_dl/tests/performance_tests/data/models/iDS372.xml'\n",
    "my_gap_filler = GapFiller(model_path=model_path, universal_model_path=universal_model_path)"
   ],
   "metadata": {
    "collapsed": false
   }
  },
  {
   "cell_type": "code",
   "execution_count": 10,
   "outputs": [],
   "source": [
    "my_gap_filler.seeds_path = '/Users/josediogomoura/gap_filling_dl/tests/performance_tests/data/seeds.xml'\n",
    "my_gap_filler.targets_path = '/Users/josediogomoura/gap_filling_dl/tests/performance_tests/data/targets.xml'"
   ],
   "metadata": {
    "collapsed": false
   }
  },
  {
   "cell_type": "code",
   "execution_count": 11,
   "outputs": [
    {
     "name": "stdout",
     "output_type": "stream",
     "text": [
      "Time taken:  1.16455078125\n"
     ]
    },
    {
     "data": {
      "text/plain": "{'Draft network file': '/Users/josediogomoura/gap_filling_dl/tests/performance_tests/data/models/iDS372.xml',\n 'Seeds file': '/Users/josediogomoura/gap_filling_dl/tests/performance_tests/data/kegg_universal_model.xml',\n 'Targets file': '/Users/josediogomoura/gap_filling_dl/tests/performance_tests/data/seeds.xml',\n 'Unproducible targets': []}"
     },
     "execution_count": 11,
     "metadata": {},
     "output_type": "execute_result"
    }
   ],
   "source": [
    "my_gap_filler.run()"
   ],
   "metadata": {
    "collapsed": false
   }
  },
  {
   "cell_type": "code",
   "execution_count": 12,
   "outputs": [
    {
     "name": "stderr",
     "output_type": "stream",
     "text": [
      "'' is not a valid SBML 'SId'.\n",
      "No reactions in model\n",
      "No objective coefficients in model. Unclear what should be optimized\n",
      "'' is not a valid SBML 'SId'.\n",
      "No reactions in model\n",
      "No objective coefficients in model. Unclear what should be optimized\n",
      "171101 does not conform to 'http(s)://identifiers.org/collection/id' or'http(s)://identifiers.org/COLLECTION:id\n",
      "Adding exchange reaction EX_C00001_extr_b with default bounds for boundary metabolite: C00001_extr_b.\n",
      "Adding exchange reaction EX_C00262_extr_b with default bounds for boundary metabolite: C00262_extr_b.\n",
      "Adding exchange reaction EX_C00124_extr_b with default bounds for boundary metabolite: C00124_extr_b.\n",
      "Adding exchange reaction EX_C00140_extr_b with default bounds for boundary metabolite: C00140_extr_b.\n",
      "Adding exchange reaction EX_C00106_extr_b with default bounds for boundary metabolite: C00106_extr_b.\n",
      "Adding exchange reaction EX_Biomass_extr_b with default bounds for boundary metabolite: Biomass_extr_b.\n",
      "Adding exchange reaction EX_C00159_extr_b with default bounds for boundary metabolite: C00159_extr_b.\n",
      "Adding exchange reaction EX_C00047_extr_b with default bounds for boundary metabolite: C00047_extr_b.\n",
      "Adding exchange reaction EX_C00147_extr_b with default bounds for boundary metabolite: C00147_extr_b.\n",
      "Adding exchange reaction EX_C00255_extr_b with default bounds for boundary metabolite: C00255_extr_b.\n",
      "Adding exchange reaction EX_C00041_extr_b with default bounds for boundary metabolite: C00041_extr_b.\n",
      "Adding exchange reaction EX_C00186_extr_b with default bounds for boundary metabolite: C00186_extr_b.\n",
      "Adding exchange reaction EX_C00022_extr_b with default bounds for boundary metabolite: C00022_extr_b.\n",
      "Adding exchange reaction EX_C00025_extr_b with default bounds for boundary metabolite: C00025_extr_b.\n",
      "Adding exchange reaction EX_C00033_extr_b with default bounds for boundary metabolite: C00033_extr_b.\n",
      "Adding exchange reaction EX_C00378_extr_b with default bounds for boundary metabolite: C00378_extr_b.\n",
      "Adding exchange reaction EX_C00153_extr_b with default bounds for boundary metabolite: C00153_extr_b.\n",
      "Adding exchange reaction EX_C00183_extr_b with default bounds for boundary metabolite: C00183_extr_b.\n",
      "Adding exchange reaction EX_C00014_extr_b with default bounds for boundary metabolite: C00014_extr_b.\n",
      "Adding exchange reaction EX_C01330_extr_b with default bounds for boundary metabolite: C01330_extr_b.\n",
      "Adding exchange reaction EX_C00011_extr_b with default bounds for boundary metabolite: C00011_extr_b.\n",
      "Adding exchange reaction EX_C03089_cytop_b with default bounds for boundary metabolite: C03089_cytop_b.\n",
      "Adding exchange reaction EX_C00073_extr_b with default bounds for boundary metabolite: C00073_extr_b.\n",
      "Adding exchange reaction EX_C00027_extr_b with default bounds for boundary metabolite: C00027_extr_b.\n",
      "Adding exchange reaction EX_C00492_extr_b with default bounds for boundary metabolite: C00492_extr_b.\n",
      "Adding exchange reaction EX_C00504_extr_b with default bounds for boundary metabolite: C00504_extr_b.\n",
      "Adding exchange reaction EX_C00079_extr_b with default bounds for boundary metabolite: C00079_extr_b.\n",
      "Adding exchange reaction EX_C00134_extr_b with default bounds for boundary metabolite: C00134_extr_b.\n",
      "Adding exchange reaction EX_C00750_extr_b with default bounds for boundary metabolite: C00750_extr_b.\n",
      "Adding exchange reaction EX_C00062_extr_b with default bounds for boundary metabolite: C00062_extr_b.\n",
      "Adding exchange reaction EX_C00065_extr_b with default bounds for boundary metabolite: C00065_extr_b.\n",
      "Adding exchange reaction EX_C00120_extr_b with default bounds for boundary metabolite: C00120_extr_b.\n",
      "Adding exchange reaction EX_C00123_extr_b with default bounds for boundary metabolite: C00123_extr_b.\n",
      "Adding exchange reaction EX_C00049_extr_b with default bounds for boundary metabolite: C00049_extr_b.\n",
      "Adding exchange reaction EX_C00082_extr_b with default bounds for boundary metabolite: C00082_extr_b.\n",
      "Adding exchange reaction EX_C01762_extr_b with default bounds for boundary metabolite: C01762_extr_b.\n",
      "Adding exchange reaction EX_C00135_extr_b with default bounds for boundary metabolite: C00135_extr_b.\n",
      "Adding exchange reaction EX_C00188_extr_b with default bounds for boundary metabolite: C00188_extr_b.\n",
      "Adding exchange reaction EX_C00243_extr_b with default bounds for boundary metabolite: C00243_extr_b.\n",
      "Adding exchange reaction EX_C00288_extr_b with default bounds for boundary metabolite: C00288_extr_b.\n",
      "Adding exchange reaction EX_C00864_extr_b with default bounds for boundary metabolite: C00864_extr_b.\n",
      "Adding exchange reaction EX_C00148_extr_b with default bounds for boundary metabolite: C00148_extr_b.\n",
      "Adding exchange reaction EX_C00009_extr_b with default bounds for boundary metabolite: C00009_extr_b.\n",
      "Adding exchange reaction EX_C00266_extr_b with default bounds for boundary metabolite: C00266_extr_b.\n",
      "Adding exchange reaction EX_C00058_extr_b with default bounds for boundary metabolite: C00058_extr_b.\n",
      "Adding exchange reaction EX_C00097_extr_b with default bounds for boundary metabolite: C00097_extr_b.\n",
      "Adding exchange reaction EX_C00152_extr_b with default bounds for boundary metabolite: C00152_extr_b.\n",
      "Adding exchange reaction EX_C00089_extr_b with default bounds for boundary metabolite: C00089_extr_b.\n",
      "Adding exchange reaction EX_C00064_extr_b with default bounds for boundary metabolite: C00064_extr_b.\n",
      "Adding exchange reaction EX_C00078_extr_b with default bounds for boundary metabolite: C00078_extr_b.\n",
      "Adding exchange reaction EX_C01613_extr_b with default bounds for boundary metabolite: C01613_extr_b.\n",
      "Adding exchange reaction EX_C00122_extr_b with default bounds for boundary metabolite: C00122_extr_b.\n",
      "Adding exchange reaction EX_C00059_extr_b with default bounds for boundary metabolite: C00059_extr_b.\n",
      "Adding exchange reaction EX_C00114_extr_b with default bounds for boundary metabolite: C00114_extr_b.\n",
      "Adding exchange reaction EX_C00267_extr_b with default bounds for boundary metabolite: C00267_extr_b.\n",
      "Adding exchange reaction EX_C00469_extr_b with default bounds for boundary metabolite: C00469_extr_b.\n",
      "Adding exchange reaction EX_C00253_extr_b with default bounds for boundary metabolite: C00253_extr_b.\n",
      "Adding exchange reaction EX_C00080_extr_b with default bounds for boundary metabolite: C00080_extr_b.\n",
      "Adding exchange reaction EX_C00116_extr_b with default bounds for boundary metabolite: C00116_extr_b.\n",
      "Adding exchange reaction EX_C00037_extr_b with default bounds for boundary metabolite: C00037_extr_b.\n",
      "Adding exchange reaction EX_C00042_extr_b with default bounds for boundary metabolite: C00042_extr_b.\n",
      "Adding exchange reaction EX_C00242_extr_b with default bounds for boundary metabolite: C00242_extr_b.\n",
      "Adding exchange reaction EX_C00250_extr_b with default bounds for boundary metabolite: C00250_extr_b.\n",
      "Adding exchange reaction EX_C14818_extr_b with default bounds for boundary metabolite: C14818_extr_b.\n",
      "Adding exchange reaction EX_C00392_extr_b with default bounds for boundary metabolite: C00392_extr_b.\n",
      "Adding exchange reaction EX_C00407_extr_b with default bounds for boundary metabolite: C00407_extr_b.\n",
      "Adding exchange reaction EX_C00007_extr_b with default bounds for boundary metabolite: C00007_extr_b.\n",
      "171101 does not conform to 'http(s)://identifiers.org/collection/id' or'http(s)://identifiers.org/COLLECTION:id\n",
      "Adding exchange reaction EX_C00001_extr_b with default bounds for boundary metabolite: C00001_extr_b.\n",
      "Adding exchange reaction EX_C00262_extr_b with default bounds for boundary metabolite: C00262_extr_b.\n",
      "Adding exchange reaction EX_C00124_extr_b with default bounds for boundary metabolite: C00124_extr_b.\n",
      "Adding exchange reaction EX_C00140_extr_b with default bounds for boundary metabolite: C00140_extr_b.\n",
      "Adding exchange reaction EX_C00106_extr_b with default bounds for boundary metabolite: C00106_extr_b.\n",
      "Adding exchange reaction EX_Biomass_extr_b with default bounds for boundary metabolite: Biomass_extr_b.\n",
      "Adding exchange reaction EX_C00159_extr_b with default bounds for boundary metabolite: C00159_extr_b.\n",
      "Adding exchange reaction EX_C00047_extr_b with default bounds for boundary metabolite: C00047_extr_b.\n",
      "Adding exchange reaction EX_C00147_extr_b with default bounds for boundary metabolite: C00147_extr_b.\n",
      "Adding exchange reaction EX_C00255_extr_b with default bounds for boundary metabolite: C00255_extr_b.\n",
      "Adding exchange reaction EX_C00041_extr_b with default bounds for boundary metabolite: C00041_extr_b.\n",
      "Adding exchange reaction EX_C00186_extr_b with default bounds for boundary metabolite: C00186_extr_b.\n",
      "Adding exchange reaction EX_C00022_extr_b with default bounds for boundary metabolite: C00022_extr_b.\n",
      "Adding exchange reaction EX_C00025_extr_b with default bounds for boundary metabolite: C00025_extr_b.\n",
      "Adding exchange reaction EX_C00033_extr_b with default bounds for boundary metabolite: C00033_extr_b.\n",
      "Adding exchange reaction EX_C00378_extr_b with default bounds for boundary metabolite: C00378_extr_b.\n",
      "Adding exchange reaction EX_C00153_extr_b with default bounds for boundary metabolite: C00153_extr_b.\n",
      "Adding exchange reaction EX_C00183_extr_b with default bounds for boundary metabolite: C00183_extr_b.\n",
      "Adding exchange reaction EX_C00014_extr_b with default bounds for boundary metabolite: C00014_extr_b.\n",
      "Adding exchange reaction EX_C01330_extr_b with default bounds for boundary metabolite: C01330_extr_b.\n",
      "Adding exchange reaction EX_C00011_extr_b with default bounds for boundary metabolite: C00011_extr_b.\n",
      "Adding exchange reaction EX_C03089_cytop_b with default bounds for boundary metabolite: C03089_cytop_b.\n",
      "Adding exchange reaction EX_C00073_extr_b with default bounds for boundary metabolite: C00073_extr_b.\n",
      "Adding exchange reaction EX_C00027_extr_b with default bounds for boundary metabolite: C00027_extr_b.\n",
      "Adding exchange reaction EX_C00492_extr_b with default bounds for boundary metabolite: C00492_extr_b.\n",
      "Adding exchange reaction EX_C00504_extr_b with default bounds for boundary metabolite: C00504_extr_b.\n",
      "Adding exchange reaction EX_C00079_extr_b with default bounds for boundary metabolite: C00079_extr_b.\n",
      "Adding exchange reaction EX_C00134_extr_b with default bounds for boundary metabolite: C00134_extr_b.\n",
      "Adding exchange reaction EX_C00750_extr_b with default bounds for boundary metabolite: C00750_extr_b.\n",
      "Adding exchange reaction EX_C00062_extr_b with default bounds for boundary metabolite: C00062_extr_b.\n",
      "Adding exchange reaction EX_C00065_extr_b with default bounds for boundary metabolite: C00065_extr_b.\n",
      "Adding exchange reaction EX_C00120_extr_b with default bounds for boundary metabolite: C00120_extr_b.\n",
      "Adding exchange reaction EX_C00123_extr_b with default bounds for boundary metabolite: C00123_extr_b.\n",
      "Adding exchange reaction EX_C00049_extr_b with default bounds for boundary metabolite: C00049_extr_b.\n",
      "Adding exchange reaction EX_C00082_extr_b with default bounds for boundary metabolite: C00082_extr_b.\n",
      "Adding exchange reaction EX_C01762_extr_b with default bounds for boundary metabolite: C01762_extr_b.\n",
      "Adding exchange reaction EX_C00135_extr_b with default bounds for boundary metabolite: C00135_extr_b.\n",
      "Adding exchange reaction EX_C00188_extr_b with default bounds for boundary metabolite: C00188_extr_b.\n",
      "Adding exchange reaction EX_C00243_extr_b with default bounds for boundary metabolite: C00243_extr_b.\n",
      "Adding exchange reaction EX_C00288_extr_b with default bounds for boundary metabolite: C00288_extr_b.\n",
      "Adding exchange reaction EX_C00864_extr_b with default bounds for boundary metabolite: C00864_extr_b.\n",
      "Adding exchange reaction EX_C00148_extr_b with default bounds for boundary metabolite: C00148_extr_b.\n",
      "Adding exchange reaction EX_C00009_extr_b with default bounds for boundary metabolite: C00009_extr_b.\n",
      "Adding exchange reaction EX_C00266_extr_b with default bounds for boundary metabolite: C00266_extr_b.\n",
      "Adding exchange reaction EX_C00058_extr_b with default bounds for boundary metabolite: C00058_extr_b.\n",
      "Adding exchange reaction EX_C00097_extr_b with default bounds for boundary metabolite: C00097_extr_b.\n",
      "Adding exchange reaction EX_C00152_extr_b with default bounds for boundary metabolite: C00152_extr_b.\n",
      "Adding exchange reaction EX_C00089_extr_b with default bounds for boundary metabolite: C00089_extr_b.\n",
      "Adding exchange reaction EX_C00064_extr_b with default bounds for boundary metabolite: C00064_extr_b.\n",
      "Adding exchange reaction EX_C00078_extr_b with default bounds for boundary metabolite: C00078_extr_b.\n",
      "Adding exchange reaction EX_C01613_extr_b with default bounds for boundary metabolite: C01613_extr_b.\n",
      "Adding exchange reaction EX_C00122_extr_b with default bounds for boundary metabolite: C00122_extr_b.\n",
      "Adding exchange reaction EX_C00059_extr_b with default bounds for boundary metabolite: C00059_extr_b.\n",
      "Adding exchange reaction EX_C00114_extr_b with default bounds for boundary metabolite: C00114_extr_b.\n",
      "Adding exchange reaction EX_C00267_extr_b with default bounds for boundary metabolite: C00267_extr_b.\n",
      "Adding exchange reaction EX_C00469_extr_b with default bounds for boundary metabolite: C00469_extr_b.\n",
      "Adding exchange reaction EX_C00253_extr_b with default bounds for boundary metabolite: C00253_extr_b.\n",
      "Adding exchange reaction EX_C00080_extr_b with default bounds for boundary metabolite: C00080_extr_b.\n",
      "Adding exchange reaction EX_C00116_extr_b with default bounds for boundary metabolite: C00116_extr_b.\n",
      "Adding exchange reaction EX_C00037_extr_b with default bounds for boundary metabolite: C00037_extr_b.\n",
      "Adding exchange reaction EX_C00042_extr_b with default bounds for boundary metabolite: C00042_extr_b.\n",
      "Adding exchange reaction EX_C00242_extr_b with default bounds for boundary metabolite: C00242_extr_b.\n",
      "Adding exchange reaction EX_C00250_extr_b with default bounds for boundary metabolite: C00250_extr_b.\n",
      "Adding exchange reaction EX_C14818_extr_b with default bounds for boundary metabolite: C14818_extr_b.\n",
      "Adding exchange reaction EX_C00392_extr_b with default bounds for boundary metabolite: C00392_extr_b.\n",
      "Adding exchange reaction EX_C00407_extr_b with default bounds for boundary metabolite: C00407_extr_b.\n",
      "Adding exchange reaction EX_C00007_extr_b with default bounds for boundary metabolite: C00007_extr_b.\n"
     ]
    },
    {
     "name": "stdout",
     "output_type": "stream",
     "text": [
      "Evaluation results:\n",
      "\tSeed reactions: 0\n",
      "\tTarget reactions: 0\n",
      "\tDraft reactions: 596\n",
      "\tGap-filled reactions: 0\n",
      "\tUnproducible targets: 0\n"
     ]
    },
    {
     "data": {
      "text/plain": "{'Seed reactions': 0,\n 'Target reactions': 0,\n 'Draft reactions': 596,\n 'Gap-filled reactions': 0,\n 'Unproducible targets': 0}"
     },
     "execution_count": 12,
     "metadata": {},
     "output_type": "execute_result"
    }
   ],
   "source": [
    "my_gap_filler.evaluate_results(verbose=True)"
   ],
   "metadata": {
    "collapsed": false
   }
  },
  {
   "cell_type": "code",
   "execution_count": 3,
   "outputs": [
    {
     "data": {
      "text/plain": "[<Metabolite C00033_extr at 0x7fe51c171ed0>,\n <Metabolite C00147_extr at 0x7fe51c171c00>,\n <Metabolite C00186_extr at 0x7fe51c172050>,\n <Metabolite C00078_extr at 0x7fe51c172350>,\n <Metabolite C00255_extr at 0x7fe51c172410>,\n <Metabolite C00047_extr at 0x7fe51c172470>,\n <Metabolite C01330_extr at 0x7fe51c1724a0>,\n <Metabolite C00011_extr at 0x7fe51c1724d0>,\n <Metabolite C00064_extr at 0x7fe51c172500>,\n <Metabolite C00080_extr at 0x7fe51c172530>,\n <Metabolite C00469_extr at 0x7fe51c172560>,\n <Metabolite C00116_extr at 0x7fe51c172590>,\n <Metabolite C00124_extr at 0x7fe51c1725c0>,\n <Metabolite C00009_extr at 0x7fe51c1725f0>,\n <Metabolite C01613_extr at 0x7fe51c172620>,\n <Metabolite C00294_extr at 0x7fe51c172650>,\n <Metabolite C00041_extr at 0x7fe51c172680>,\n <Metabolite C00378_extr at 0x7fe51c1726b0>,\n <Metabolite C00025_extr at 0x7fe51c1726e0>,\n <Metabolite C00262_extr at 0x7fe51c172710>,\n <Metabolite C00123_extr at 0x7fe51c172740>,\n <Metabolite C00750_extr at 0x7fe51c172770>,\n <Metabolite C00134_extr at 0x7fe51c1727a0>,\n <Metabolite C00079_extr at 0x7fe51c1727d0>,\n <Metabolite C00188_extr at 0x7fe51c172800>,\n <Metabolite C00243_extr at 0x7fe51c172830>,\n <Metabolite C00148_extr at 0x7fe51c172860>,\n <Metabolite C00385_extr at 0x7fe51c172890>,\n <Metabolite C00504_extr at 0x7fe51c1728c0>,\n <Metabolite C00492_extr at 0x7fe51c1728f0>,\n <Metabolite C00027_extr at 0x7fe51c172920>,\n <Metabolite C01762_extr at 0x7fe51c172950>,\n <Metabolite C00315_extr at 0x7fe51c172980>,\n <Metabolite C00049_extr at 0x7fe51c173fd0>,\n <Metabolite C00062_extr at 0x7fe51c173cd0>,\n <Metabolite C00120_extr at 0x7fe51c173ca0>,\n <Metabolite C00065_extr at 0x7fe51c173c70>,\n <Metabolite C00073_extr at 0x7fe51c173c40>,\n <Metabolite C02291_extr at 0x7fe51c173c10>,\n <Metabolite C00183_extr at 0x7fe51c173be0>,\n <Metabolite C00022_extr at 0x7fe51c173bb0>,\n <Metabolite C00058_extr at 0x7fe51c173b80>,\n <Metabolite C00122_extr at 0x7fe51c173b50>,\n <Metabolite C00266_extr at 0x7fe51c173b20>,\n <Metabolite C00061_extr at 0x7fe51c173af0>,\n <Metabolite C00153_extr at 0x7fe51c173ac0>,\n <Metabolite C00159_extr at 0x7fe51c173a90>,\n <Metabolite C00106_extr at 0x7fe51c173a60>,\n <Metabolite C00267_extr at 0x7fe51c173a30>,\n <Metabolite C00014_extr at 0x7fe51c173a00>,\n <Metabolite C00059_extr at 0x7fe51c1739d0>,\n <Metabolite C00114_extr at 0x7fe51c1739a0>,\n <Metabolite C00152_extr at 0x7fe51c173970>,\n <Metabolite C00097_extr at 0x7fe51c173940>,\n <Metabolite C00089_extr at 0x7fe51c173910>,\n <Metabolite C00001_extr at 0x7fe51c1738e0>,\n <Metabolite C00387_extr at 0x7fe51c1738b0>,\n <Metabolite C00037_extr at 0x7fe51c173880>,\n <Metabolite C00864_extr at 0x7fe51c173850>,\n <Metabolite C00082_extr at 0x7fe51c173820>,\n <Metabolite C00140_extr at 0x7fe51c1737f0>,\n <Metabolite C00042_extr at 0x7fe51c1737c0>,\n <Metabolite C00407_extr at 0x7fe51c173790>,\n <Metabolite C00253_extr at 0x7fe51c173760>,\n <Metabolite C00135_extr at 0x7fe51c173730>,\n <Metabolite C00392_extr at 0x7fe51c173700>,\n <Metabolite C00242_extr at 0x7fe51c1736d0>,\n <Metabolite C00288_extr at 0x7fe51c1736a0>,\n <Metabolite C00250_extr at 0x7fe51c173670>,\n <Metabolite Biomass_extr at 0x7fe51c173640>,\n <Metabolite C14818_extr at 0x7fe51c173610>,\n <Metabolite C00007_extr at 0x7fe51c1735e0>,\n <Metabolite C00212_extr at 0x7fe51c1723e0>,\n <Metabolite C00279_cytop at 0x7fe51c172440>,\n <Metabolite C03089_cytop at 0x7fe51c173550>,\n <Metabolite C04874_cytop at 0x7fe51c173520>,\n <Metabolite C04411_cytop at 0x7fe51c1734f0>,\n <Metabolite C04618_cytop at 0x7fe51c1734c0>,\n <Metabolite C00364_cytop at 0x7fe51c173490>,\n <Metabolite C00344_cytop at 0x7fe51c173460>,\n <Metabolite C00299_cytop at 0x7fe51c173430>,\n <Metabolite C03406_cytop at 0x7fe51c173400>,\n <Metabolite C05761_cytop at 0x7fe51c1733d0>,\n <Metabolite C00266_cytop at 0x7fe51c1733a0>,\n <Metabolite C00206_cytop at 0x7fe51c173370>,\n <Metabolite e_Cofactor_cytop at 0x7fe51c173340>,\n <Metabolite C00052_cytop at 0x7fe51c173310>,\n <Metabolite C02637_cytop at 0x7fe51c1732e0>,\n <Metabolite C00148_cytop at 0x7fe51c1723b0>,\n <Metabolite C06042_cytop at 0x7fe51c171e70>,\n <Metabolite C00233_cytop at 0x7fe51c173250>,\n <Metabolite C00108_cytop at 0x7fe51c173220>,\n <Metabolite C00188_cytop at 0x7fe51c1731f0>,\n <Metabolite C00671_cytop at 0x7fe51c1731c0>,\n <Metabolite C06007_cytop at 0x7fe51c173190>,\n <Metabolite C00065_cytop at 0x7fe51c173160>,\n <Metabolite C00170_cytop at 0x7fe51c173130>,\n <Metabolite C00130_cytop at 0x7fe51c173100>,\n <Metabolite C05892_cytop at 0x7fe51c1730d0>,\n <Metabolite C00135_cytop at 0x7fe51c1730a0>,\n <Metabolite C05922_cytop at 0x7fe51c173070>,\n <Metabolite C00155_cytop at 0x7fe51c173040>,\n <Metabolite C00448_cytop at 0x7fe51c173010>,\n <Metabolite C04807_cytop at 0x7fe51c172fe0>,\n <Metabolite C05754_cytop at 0x7fe51c172fb0>,\n <Metabolite C01179_cytop at 0x7fe51c172f80>,\n <Metabolite C00037_cytop at 0x7fe51c172f50>,\n <Metabolite C01209_cytop at 0x7fe51c172f20>,\n <Metabolite C00286_cytop at 0x7fe51c172ef0>,\n <Metabolite C01269_cytop at 0x7fe51c172ec0>,\n <Metabolite C05746_cytop at 0x7fe51c172e90>,\n <Metabolite C04751_cytop at 0x7fe51c172e60>,\n <Metabolite C11355_cytop at 0x7fe51c172e30>,\n <Metabolite C00294_cytop at 0x7fe51c172e00>,\n <Metabolite C01113_cytop at 0x7fe51c172dd0>,\n <Metabolite C03785_cytop at 0x7fe51c172da0>,\n <Metabolite C00116_cytop at 0x7fe51c172d70>,\n <Metabolite C00254_cytop at 0x7fe51c172d40>,\n <Metabolite C00857_cytop at 0x7fe51c172d10>,\n <Metabolite C00064_cytop at 0x7fe51c172ce0>,\n <Metabolite C00018_cytop at 0x7fe51c172cb0>,\n <Metabolite C00221_cytop at 0x7fe51c172c80>,\n <Metabolite C00162_cytop at 0x7fe51c172c50>,\n <Metabolite C00058_cytop at 0x7fe51c172c20>,\n <Metabolite C04633_cytop at 0x7fe51c172bf0>,\n <Metabolite e_Protein_cytop at 0x7fe51c172bc0>,\n <Metabolite C03939_cytop at 0x7fe51c172b90>,\n <Metabolite C03090_cytop at 0x7fe51c172b60>,\n <Metabolite C04895_cytop at 0x7fe51c172320>,\n <Metabolite C00080_cytop at 0x7fe51c171fc0>,\n <Metabolite C01613_cytop at 0x7fe51c172ad0>,\n <Metabolite C00123_cytop at 0x7fe51c172aa0>,\n <Metabolite C00644_cytop at 0x7fe51c172a70>,\n <Metabolite C00441_cytop at 0x7fe51c172a40>,\n <Metabolite C00864_cytop at 0x7fe51c172a10>,\n <Metabolite C05747_cytop at 0x7fe51c1729e0>,\n <Metabolite C00631_cytop at 0x7fe51c1729b0>,\n <Metabolite C00025_cytop at 0x7fe51c171690>,\n <Metabolite C00343_cytop at 0x7fe51c171660>,\n <Metabolite C04640_cytop at 0x7fe51c171630>,\n <Metabolite C05759_cytop at 0x7fe51c171600>,\n <Metabolite C01172_cytop at 0x7fe51c1715d0>,\n <Metabolite C00944_cytop at 0x7fe51c1715a0>,\n <Metabolite C06010_cytop at 0x7fe51c171570>,\n <Metabolite C00122_cytop at 0x7fe51c171540>,\n <Metabolite C00093_cytop at 0x7fe51c171510>,\n <Metabolite C03688_cytop at 0x7fe51c1714e0>,\n <Metabolite C00365_cytop at 0x7fe51c1714b0>,\n <Metabolite C01050_cytop at 0x7fe51c171480>,\n <Metabolite C00337_cytop at 0x7fe51c171450>,\n <Metabolite C00475_cytop at 0x7fe51c171420>,\n <Metabolite C00024_cytop at 0x7fe51c1713f0>,\n <Metabolite C00267_cytop at 0x7fe51c1713c0>,\n <Metabolite C01236_cytop at 0x7fe51c171390>,\n <Metabolite C00227_cytop at 0x7fe51c171360>,\n <Metabolite C00239_cytop at 0x7fe51c171330>,\n <Metabolite C01346_cytop at 0x7fe51c171300>,\n <Metabolite C00134_cytop at 0x7fe51c1712d0>,\n <Metabolite C01068_cytop at 0x7fe51c1712a0>,\n <Metabolite C00169_cytop at 0x7fe51c171270>,\n <Metabolite C00407_cytop at 0x7fe51c171240>,\n <Metabolite C04501_cytop at 0x7fe51c171210>,\n <Metabolite C05753_cytop at 0x7fe51c1711e0>,\n <Metabolite C00129_cytop at 0x7fe51c1711b0>,\n <Metabolite C00655_cytop at 0x7fe51c171180>,\n <Metabolite C00036_cytop at 0x7fe51c171150>,\n <Metabolite e_CellWall_cytop at 0x7fe51c171120>,\n <Metabolite C00101_cytop at 0x7fe51c1710f0>,\n <Metabolite C00016_cytop at 0x7fe51c1710c0>,\n <Metabolite C06006_cytop at 0x7fe51c172b30>,\n <Metabolite C00672_cytop at 0x7fe51c172b00>,\n <Metabolite C00262_cytop at 0x7fe51c171030>,\n <Metabolite C00242_cytop at 0x7fe51c171000>,\n <Metabolite C14463_cytop at 0x7fe51c170fd0>,\n <Metabolite C05745_cytop at 0x7fe51c170fa0>,\n <Metabolite C00013_cytop at 0x7fe51c170f70>,\n <Metabolite C05378_cytop at 0x7fe51c170f40>,\n <Metabolite C00295_cytop at 0x7fe51c170f10>,\n <Metabolite C01300_cytop at 0x7fe51c170ee0>,\n <Metabolite C01107_cytop at 0x7fe51c170eb0>,\n <Metabolite C01137_cytop at 0x7fe51c170e80>,\n <Metabolite C03150_cytop at 0x7fe51c170e50>,\n <Metabolite C04352_cytop at 0x7fe51c170e20>,\n <Metabolite C04332_cytop at 0x7fe51c170df0>,\n <Metabolite C02336_cytop at 0x7fe51c170dc0>,\n <Metabolite C00020_cytop at 0x7fe51c170d90>,\n <Metabolite C06040_cytop at 0x7fe51c170d60>,\n <Metabolite C05752_cytop at 0x7fe51c170d30>,\n <Metabolite C03838_cytop at 0x7fe51c170d00>,\n <Metabolite C00668_cytop at 0x7fe51c170cd0>,\n <Metabolite C01330_cytop at 0x7fe51c170ca0>,\n <Metabolite C00147_cytop at 0x7fe51c170c70>,\n <Metabolite C03892_cytop at 0x7fe51c170c40>,\n <Metabolite C00043_cytop at 0x7fe51c170c10>,\n <Metabolite C01185_cytop at 0x7fe51c170be0>,\n <Metabolite C00315_cytop at 0x7fe51c170bb0>,\n <Metabolite C02218_cytop at 0x7fe51c170b80>,\n <Metabolite C14818_cytop at 0x7fe51c170b50>,\n <Metabolite C00119_cytop at 0x7fe51c170b20>,\n <Metabolite C01165_cytop at 0x7fe51c170af0>,\n <Metabolite C04236_cytop at 0x7fe51c170ac0>,\n <Metabolite C00124_cytop at 0x7fe51c170a90>,\n <Metabolite C04734_cytop at 0x7fe51c170a60>,\n <Metabolite C15667_cytop at 0x7fe51c170a30>,\n <Metabolite C00009_cytop at 0x7fe51c170a00>,\n <Metabolite C00089_cytop at 0x7fe51c1709d0>,\n <Metabolite C04619_cytop at 0x7fe51c1709a0>,\n <Metabolite C00179_cytop at 0x7fe51c170970>,\n <Metabolite C00234_cytop at 0x7fe51c170940>,\n <Metabolite C01356_cytop at 0x7fe51c170910>,\n <Metabolite C00199_cytop at 0x7fe51c1708e0>,\n <Metabolite C00680_cytop at 0x7fe51c1708b0>,\n <Metabolite C00352_cytop at 0x7fe51c170880>,\n <Metabolite C05796_cytop at 0x7fe51c170850>,\n <Metabolite C00074_cytop at 0x7fe51c170820>,\n <Metabolite C00044_cytop at 0x7fe51c1707f0>,\n <Metabolite C03287_cytop at 0x7fe51c1707c0>,\n <Metabolite C04574_cytop at 0x7fe51c170790>,\n <Metabolite C00097_cytop at 0x7fe51c170760>,\n <Metabolite C15556_cytop at 0x7fe51c170730>,\n <Metabolite C00460_cytop at 0x7fe51c170700>,\n <Metabolite C00103_cytop at 0x7fe51c1706d0>,\n <Metabolite C00068_cytop at 0x7fe51c1706a0>,\n <Metabolite C03506_cytop at 0x7fe51c170670>,\n <Metabolite C04046_cytop at 0x7fe51c170640>,\n <Metabolite C00015_cytop at 0x7fe51c170610>,\n <Metabolite C03175_cytop at 0x7fe51c1705e0>,\n <Metabolite C04302_cytop at 0x7fe51c1705b0>,\n <Metabolite C04823_cytop at 0x7fe51c170580>,\n <Metabolite C01302_cytop at 0x7fe51c170550>,\n <Metabolite C00288_cytop at 0x7fe51c170520>,\n <Metabolite C00183_cytop at 0x7fe51c1704f0>,\n <Metabolite C03373_cytop at 0x7fe51c1704c0>,\n <Metabolite C01134_cytop at 0x7fe51c170490>,\n <Metabolite C04272_cytop at 0x7fe51c170460>,\n <Metabolite C00235_cytop at 0x7fe51c170430>,\n <Metabolite C05744_cytop at 0x7fe51c170400>,\n <Metabolite C00588_cytop at 0x7fe51c1703d0>,\n <Metabolite C00345_cytop at 0x7fe51c1703a0>,\n <Metabolite C00073_cytop at 0x7fe51c170370>,\n <Metabolite C04677_cytop at 0x7fe51c170340>,\n <Metabolite C04851_cytop at 0x7fe51c170310>,\n <Metabolite C05750_cytop at 0x7fe51c1702e0>,\n <Metabolite C00455_cytop at 0x7fe51c1702b0>,\n <Metabolite C00212_cytop at 0x7fe51c170280>,\n <Metabolite C00705_cytop at 0x7fe51c170250>,\n <Metabolite C15972_cytop at 0x7fe51c170220>,\n <Metabolite C00131_cytop at 0x7fe51c1701f0>,\n <Metabolite C11826_cytop at 0x7fe51c1701c0>,\n <Metabolite C04631_cytop at 0x7fe51c170190>,\n <Metabolite C06424_cytop at 0x7fe51c170160>,\n <Metabolite C01143_cytop at 0x7fe51c170130>,\n <Metabolite C04376_cytop at 0x7fe51c170100>,\n <Metabolite C00249_cytop at 0x7fe51c1700d0>,\n <Metabolite C00269_cytop at 0x7fe51c1700a0>,\n <Metabolite C00236_cytop at 0x7fe51c0643a0>,\n <Metabolite C05751_cytop at 0x7fe51c1720b0>,\n <Metabolite C00082_cytop at 0x7fe4f8737700>,\n <Metabolite e_RNA_cytop at 0x7fe4f8737670>,\n <Metabolite C05125_cytop at 0x7fe51c1722f0>,\n <Metabolite C00882_cytop at 0x7fe51c1720e0>,\n <Metabolite C16221_cytop at 0x7fe51c172380>,\n <Metabolite C00203_cytop at 0x7fe51c170070>,\n <Metabolite C00062_cytop at 0x7fe51c171060>,\n <Metabolite C00118_cytop at 0x7fe51c1722c0>,\n <Metabolite C00022_cytop at 0x7fe51c173280>,\n <Metabolite C00042_cytop at 0x7fe51c173580>,\n <Metabolite C05764_cytop at 0x7fe51c170040>,\n <Metabolite C04688_cytop at 0x7fe51c1735b0>,\n <Metabolite C05223_cytop at 0x7fe51c171090>,\n <Metabolite C00681_cytop at 0x7fe51c1732b0>,\n <Metabolite C00243_cytop at 0x7fe51c140df0>,\n <Metabolite C00105_cytop at 0x7fe51c140220>,\n <Metabolite C16219_cytop at 0x7fe51c141ff0>,\n <Metabolite C00075_cytop at 0x7fe51c141ab0>,\n <Metabolite C00120_cytop at 0x7fe51c141e70>,\n <Metabolite C00055_cytop at 0x7fe51c141ea0>,\n <Metabolite C05980_cytop at 0x7fe51c1420b0>,\n <Metabolite Biomass_cytop at 0x7fe51c1420e0>,\n <Metabolite C00641_cytop at 0x7fe51c142110>,\n <Metabolite C00263_cytop at 0x7fe51c142140>,\n <Metabolite C05749_cytop at 0x7fe51c140d90>,\n <Metabolite C00173_cytop at 0x7fe51c140d30>,\n <Metabolite C00002_cytop at 0x7fe51c142560>,\n <Metabolite C00361_cytop at 0x7fe51c142590>,\n <Metabolite C00153_cytop at 0x7fe51c1425c0>,\n <Metabolite C00112_cytop at 0x7fe51c1425f0>,\n <Metabolite C00341_cytop at 0x7fe51c142620>,\n <Metabolite C06148_cytop at 0x7fe51c142650>,\n <Metabolite C15973_cytop at 0x7fe51c142680>,\n <Metabolite C00673_cytop at 0x7fe51c1426b0>,\n <Metabolite C00251_cytop at 0x7fe51c1426e0>,\n <Metabolite C00327_cytop at 0x7fe51c142d10>,\n <Metabolite C00231_cytop at 0x7fe51c142d40>,\n <Metabolite C00445_cytop at 0x7fe51c142d70>,\n <Metabolite C00229_cytop at 0x7fe51c142da0>,\n <Metabolite C00014_cytop at 0x7fe51c142dd0>,\n <Metabolite C06156_cytop at 0x7fe51c142e00>,\n <Metabolite C06707_cytop at 0x7fe51c142e30>,\n <Metabolite C00387_cytop at 0x7fe51c142e60>,\n <Metabolite C00001_cytop at 0x7fe51c142e90>,\n <Metabolite C04181_cytop at 0x7fe51c142ec0>,\n <Metabolite C00106_cytop at 0x7fe51c142ef0>,\n <Metabolite C13378_cytop at 0x7fe51c142f20>,\n <Metabolite C05841_cytop at 0x7fe51c142f50>,\n <Metabolite C00054_cytop at 0x7fe51c142f80>,\n <Metabolite C00008_cytop at 0x7fe51c143bb0>,\n <Metabolite C00152_cytop at 0x7fe51c143be0>,\n <Metabolite C04246_cytop at 0x7fe51c143c10>,\n <Metabolite C00440_cytop at 0x7fe51c143c40>,\n <Metabolite C02291_cytop at 0x7fe51c143c70>,\n <Metabolite C03972_cytop at 0x7fe51c143ca0>,\n <Metabolite C00493_cytop at 0x7fe51c143cd0>,\n <Metabolite C00250_cytop at 0x7fe51c143d00>,\n <Metabolite C01102_cytop at 0x7fe51c143d30>,\n <Metabolite C00418_cytop at 0x7fe51c143d60>,\n <Metabolite C00133_cytop at 0x7fe51c143d90>,\n <Metabolite C00035_cytop at 0x7fe51c143dc0>,\n <Metabolite e_DNA_cytop at 0x7fe51c143df0>,\n <Metabolite C00100_cytop at 0x7fe51c143e20>,\n <Metabolite C00007_cytop at 0x7fe51c143e50>,\n <Metabolite C00458_cytop at 0x7fe51c140c70>,\n <Metabolite C00666_cytop at 0x7fe51c140c40>,\n <Metabolite C01097_cytop at 0x7fe51c141bd0>,\n <Metabolite C00047_cytop at 0x7fe51c141db0>,\n <Metabolite C00255_cytop at 0x7fe51c141de0>,\n <Metabolite C00921_cytop at 0x7fe51c141e10>,\n <Metabolite C04390_cytop at 0x7fe51c141e40>,\n <Metabolite C00117_cytop at 0x7fe51c141ed0>,\n <Metabolite C02679_cytop at 0x7fe51c142020>,\n <Metabolite C04732_cytop at 0x7fe51c142050>,\n <Metabolite C00568_cytop at 0x7fe51c142080>,\n <Metabolite C04691_cytop at 0x7fe51c142260>,\n <Metabolite C00186_cytop at 0x7fe51c1421d0>,\n <Metabolite C00620_cytop at 0x7fe51c1423b0>,\n <Metabolite C00019_cytop at 0x7fe51c142200>,\n <Metabolite C01762_cytop at 0x7fe51c142230>,\n <Metabolite C00342_cytop at 0x7fe51c141a50>,\n <Metabolite C00041_cytop at 0x7fe51c1422f0>,\n <Metabolite C16220_cytop at 0x7fe51c142380>,\n <Metabolite C16255_cytop at 0x7fe51c1423e0>,\n <Metabolite C01103_cytop at 0x7fe51c142410>,\n <Metabolite C05748_cytop at 0x7fe51c1424a0>,\n <Metabolite C02876_cytop at 0x7fe51c1424d0>,\n <Metabolite C05382_cytop at 0x7fe51c142440>,\n <Metabolite C00059_cytop at 0x7fe51c142530>,\n <Metabolite C00492_cytop at 0x7fe51c142470>,\n <Metabolite C04088_cytop at 0x7fe51c142500>,\n <Metabolite C00026_cytop at 0x7fe51c142710>,\n <Metabolite C00504_cytop at 0x7fe51c142740>,\n <Metabolite C05758_cytop at 0x7fe51c142770>,\n <Metabolite C00006_cytop at 0x7fe51c1427a0>,\n <Metabolite C05345_cytop at 0x7fe51c1427d0>,\n <Metabolite C03492_cytop at 0x7fe51c142800>,\n <Metabolite C00111_cytop at 0x7fe51c142830>,\n <Metabolite C00197_cytop at 0x7fe51c142860>,\n <Metabolite C05755_cytop at 0x7fe51c142890>,\n <Metabolite C00469_cytop at 0x7fe51c1428c0>,\n <Metabolite C00459_cytop at 0x7fe51c1428f0>,\n <Metabolite C16688_cytop at 0x7fe51c142920>,\n <Metabolite C00003_cytop at 0x7fe51c142950>,\n <Metabolite C00360_cytop at 0x7fe51c142980>,\n <Metabolite C00436_cytop at 0x7fe51c1429b0>,\n <Metabolite C00446_cytop at 0x7fe51c1429e0>,\n <Metabolite C00275_cytop at 0x7fe51c142a10>,\n <Metabolite C03082_cytop at 0x7fe51c142a40>,\n <Metabolite C00416_cytop at 0x7fe51c142a70>,\n <Metabolite C01212_cytop at 0x7fe51c142aa0>,\n <Metabolite C00363_cytop at 0x7fe51c142ad0>,\n <Metabolite C05539_cytop at 0x7fe51c142b00>,\n <Metabolite C00378_cytop at 0x7fe51c142b30>,\n <Metabolite C20258_cytop at 0x7fe51c142b60>,\n <Metabolite C03794_cytop at 0x7fe51c142b90>,\n <Metabolite C00063_cytop at 0x7fe51c142bc0>,\n <Metabolite C00083_cytop at 0x7fe51c142bf0>,\n <Metabolite C00881_cytop at 0x7fe51c142c20>,\n <Metabolite C04702_cytop at 0x7fe51c142c50>,\n <Metabolite C00049_cytop at 0x7fe51c142c80>,\n <Metabolite C00029_cytop at 0x7fe51c142cb0>,\n <Metabolite C05760_cytop at 0x7fe51c142ce0>,\n <Metabolite C00332_cytop at 0x7fe51c142fb0>,\n <Metabolite C05893_cytop at 0x7fe51c142fe0>,\n <Metabolite C00141_cytop at 0x7fe51c143010>,\n <Metabolite C00217_cytop at 0x7fe51c143040>,\n <Metabolite C05763_cytop at 0x7fe51c143070>,\n <Metabolite C00144_cytop at 0x7fe51c1430a0>,\n <Metabolite C00091_cytop at 0x7fe51c1430d0>,\n <Metabolite C00011_cytop at 0x7fe51c143100>,\n <Metabolite C05923_cytop at 0x7fe51c143130>,\n <Metabolite C00362_cytop at 0x7fe51c143160>,\n <Metabolite C00084_cytop at 0x7fe51c143190>,\n <Metabolite C03912_cytop at 0x7fe51c1431c0>,\n <Metabolite C00166_cytop at 0x7fe51c1431f0>,\n <Metabolite C01672_cytop at 0x7fe51c143220>,\n <Metabolite C00385_cytop at 0x7fe51c143250>,\n <Metabolite C00356_cytop at 0x7fe51c143280>,\n <Metabolite C00526_cytop at 0x7fe51c1432b0>,\n <Metabolite C00078_cytop at 0x7fe51c1432e0>,\n <Metabolite C05757_cytop at 0x7fe51c143310>,\n <Metabolite C00005_cytop at 0x7fe51c143340>,\n <Metabolite C05396_cytop at 0x7fe51c143370>,\n <Metabolite C17556_cytop at 0x7fe51c1433a0>,\n <Metabolite C05762_cytop at 0x7fe51c1433d0>,\n <Metabolite C04620_cytop at 0x7fe51c143400>,\n <Metabolite C00253_cytop at 0x7fe51c143430>,\n <Metabolite C00010_cytop at 0x7fe51c143460>,\n <Metabolite C00438_cytop at 0x7fe51c143490>,\n <Metabolite C00143_cytop at 0x7fe51c1434c0>,\n <Metabolite C00415_cytop at 0x7fe51c1434f0>,\n <Metabolite C00027_cytop at 0x7fe51c143520>,\n <Metabolite C00033_cytop at 0x7fe51c143550>,\n <Metabolite C00004_cytop at 0x7fe51c143580>,\n <Metabolite C00692_cytop at 0x7fe51c1435b0>,\n <Metabolite C05756_cytop at 0x7fe51c1435e0>,\n <Metabolite C00114_cytop at 0x7fe51c143610>,\n <Metabolite C00079_cytop at 0x7fe51c143640>,\n <Metabolite C00061_cytop at 0x7fe51c143670>,\n <Metabolite C00357_cytop at 0x7fe51c1436a0>,\n <Metabolite C01118_cytop at 0x7fe51c1436d0>,\n <Metabolite C00993_cytop at 0x7fe51c143700>,\n <Metabolite C00109_cytop at 0x7fe51c143730>,\n <Metabolite C00750_cytop at 0x7fe51c143760>,\n <Metabolite C00001_extr_b at 0x7fe51c143790>,\n <Metabolite C00262_extr_b at 0x7fe51c1437c0>,\n <Metabolite C00124_extr_b at 0x7fe51c1437f0>,\n <Metabolite C00140_extr_b at 0x7fe51c141fc0>,\n <Metabolite C00106_extr_b at 0x7fe51c141f30>,\n <Metabolite Biomass_extr_b at 0x7fe51c140e50>,\n <Metabolite C00159_extr_b at 0x7fe51c140eb0>,\n <Metabolite C00047_extr_b at 0x7fe51c140cd0>,\n <Metabolite C00147_extr_b at 0x7fe51c143820>,\n <Metabolite C00255_extr_b at 0x7fe51c142350>,\n <Metabolite C00041_extr_b at 0x7fe51c143850>,\n <Metabolite C00186_extr_b at 0x7fe51c143880>,\n <Metabolite C00022_extr_b at 0x7fe51c1438b0>,\n <Metabolite C00025_extr_b at 0x7fe51c1438e0>,\n <Metabolite C00033_extr_b at 0x7fe51c143910>,\n <Metabolite C00378_extr_b at 0x7fe51c143940>,\n <Metabolite C00153_extr_b at 0x7fe51c143970>,\n <Metabolite C00183_extr_b at 0x7fe51c1439a0>,\n <Metabolite C00014_extr_b at 0x7fe51c1439d0>,\n <Metabolite C01330_extr_b at 0x7fe51c143a00>,\n <Metabolite C00011_extr_b at 0x7fe51c143a30>,\n <Metabolite C03089_cytop_b at 0x7fe51c143a60>,\n <Metabolite C00073_extr_b at 0x7fe51c143a90>,\n <Metabolite C00027_extr_b at 0x7fe51c143ac0>,\n <Metabolite C00492_extr_b at 0x7fe51c143af0>,\n <Metabolite C00504_extr_b at 0x7fe51c143b20>,\n <Metabolite C00079_extr_b at 0x7fe51c143b50>,\n <Metabolite C00134_extr_b at 0x7fe51c143b80>,\n <Metabolite C00750_extr_b at 0x7fe51c143f70>,\n <Metabolite C00062_extr_b at 0x7fe51c143fa0>,\n <Metabolite C00065_extr_b at 0x7fe51c143fd0>,\n <Metabolite C00120_extr_b at 0x7fe51c143f40>,\n <Metabolite C00123_extr_b at 0x7fe51c143f10>,\n <Metabolite C00049_extr_b at 0x7fe51c143ee0>,\n <Metabolite C00082_extr_b at 0x7fe51c143eb0>,\n <Metabolite C01762_extr_b at 0x7fe51c140ee0>,\n <Metabolite C00135_extr_b at 0x7fe51c140dc0>,\n <Metabolite C00188_extr_b at 0x7fe51c140e20>,\n <Metabolite C00243_extr_b at 0x7fe51c142170>,\n <Metabolite C00288_extr_b at 0x7fe51c1421a0>,\n <Metabolite C00864_extr_b at 0x7fe51c1695a0>,\n <Metabolite C00148_extr_b at 0x7fe51c169480>,\n <Metabolite C00009_extr_b at 0x7fe51c169570>,\n <Metabolite C00266_extr_b at 0x7fe51c1697b0>,\n <Metabolite C00058_extr_b at 0x7fe51c1697e0>,\n <Metabolite C00097_extr_b at 0x7fe51c169810>,\n <Metabolite C00152_extr_b at 0x7fe51c169840>,\n <Metabolite C00089_extr_b at 0x7fe51c169870>,\n <Metabolite C00064_extr_b at 0x7fe51c169ba0>,\n <Metabolite C00078_extr_b at 0x7fe51c169bd0>,\n <Metabolite C01613_extr_b at 0x7fe51c169c00>,\n <Metabolite C00122_extr_b at 0x7fe51c169c30>,\n <Metabolite C00059_extr_b at 0x7fe51c169c60>,\n <Metabolite C00114_extr_b at 0x7fe51c16a290>,\n <Metabolite C00267_extr_b at 0x7fe51c16a2c0>,\n <Metabolite C00469_extr_b at 0x7fe51c16a2f0>,\n <Metabolite C00253_extr_b at 0x7fe51c16a320>,\n <Metabolite C00080_extr_b at 0x7fe51c16a350>,\n <Metabolite C00116_extr_b at 0x7fe51c16a380>,\n <Metabolite C00037_extr_b at 0x7fe51c16a3b0>,\n <Metabolite C00042_extr_b at 0x7fe51c16a3e0>,\n <Metabolite C00242_extr_b at 0x7fe51c16a410>,\n <Metabolite C00250_extr_b at 0x7fe51c16a440>,\n <Metabolite C14818_extr_b at 0x7fe51c16a470>,\n <Metabolite C00392_extr_b at 0x7fe51c16a4a0>,\n <Metabolite C00407_extr_b at 0x7fe51c16a4d0>,\n <Metabolite C00007_extr_b at 0x7fe51c16b370>]"
     },
     "execution_count": 3,
     "metadata": {},
     "output_type": "execute_result"
    }
   ],
   "source": [
    "my_model.model.metabolites"
   ],
   "metadata": {
    "collapsed": false
   }
  },
  {
   "cell_type": "code",
   "execution_count": 2,
   "outputs": [
    {
     "name": "stderr",
     "output_type": "stream",
     "text": [
      "12345 does not conform to 'http(s)://identifiers.org/collection/id' or'http(s)://identifiers.org/COLLECTION:id\n",
      "No objective in listOfObjectives\n",
      "No objective coefficients in model. Unclear what should be optimized\n"
     ]
    }
   ],
   "source": [],
   "metadata": {
    "collapsed": false
   }
  },
  {
   "cell_type": "code",
   "execution_count": null,
   "outputs": [],
   "source": [],
   "metadata": {
    "collapsed": false
   }
  }
 ],
 "metadata": {
  "kernelspec": {
   "display_name": "Python 3",
   "language": "python",
   "name": "python3"
  },
  "language_info": {
   "codemirror_mode": {
    "name": "ipython",
    "version": 2
   },
   "file_extension": ".py",
   "mimetype": "text/x-python",
   "name": "python",
   "nbconvert_exporter": "python",
   "pygments_lexer": "ipython2",
   "version": "2.7.6"
  }
 },
 "nbformat": 4,
 "nbformat_minor": 0
}
